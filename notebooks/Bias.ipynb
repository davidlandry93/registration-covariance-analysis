{
 "cells": [
  {
   "cell_type": "markdown",
   "metadata": {},
   "source": [
    "# Bias analysis\n",
    "\n",
    "In this document we wonder if the bias of ICP is the main factor of uncertainty, or if the covariance of the icp results for a registration pair are enough to model the uncertainty over the results."
   ]
  },
  {
   "cell_type": "code",
   "execution_count": null,
   "metadata": {
    "collapsed": true
   },
   "outputs": [],
   "source": [
    "%load_ext autoreload\n",
    "%autoreload 2"
   ]
  },
  {
   "cell_type": "code",
   "execution_count": null,
   "metadata": {
    "collapsed": true
   },
   "outputs": [],
   "source": [
    "import json\n",
    "import matplotlib\n",
    "import matplotlib.pyplot as plt\n",
    "import numpy as np\n",
    "import os\n",
    "import pandas as pd\n",
    "import pathlib\n",
    "import paperplot\n",
    "import scipy\n",
    "import scipy.stats"
   ]
  },
  {
   "cell_type": "code",
   "execution_count": null,
   "metadata": {
    "collapsed": true
   },
   "outputs": [],
   "source": [
    "def plot_gaussian(ax, mu, variance):\n",
    "    sigma = np.sqrt(variance)\n",
    "    xs = np.linspace(mu - 3*sigma, mu + 3*sigma, 100)\n",
    "    \n",
    "    ax.plot(xs, scipy.stats.norm.pdf(xs, loc=mu, scale=sigma), color='black')"
   ]
  },
  {
   "cell_type": "code",
   "execution_count": null,
   "metadata": {
    "collapsed": true
   },
   "outputs": [],
   "source": [
    "def dataset_of_files(files):\n",
    "    frames = []\n",
    "    \n",
    "    for file in files:\n",
    "        entry = pathlib.Path(file)\n",
    "        if entry.suffix == '.csv' and entry.is_file():\n",
    "            frames.append(pd.read_csv(entry))\n",
    "    \n",
    "    dataset = pd.concat(frames)\n",
    "    return dataset"
   ]
  },
  {
   "cell_type": "code",
   "execution_count": null,
   "metadata": {},
   "outputs": [],
   "source": [
    "files = [\n",
    "    '/home/dlandry/dataset/recov/2017-05-17-apartment.csv',\n",
    "    '/home/dlandry/dataset/recov/2017-05-17-gazebo-summer.csv',\n",
    "    '/home/dlandry/dataset/recov/2017-05-17-gazebo-winter.csv',\n",
    "    '/home/dlandry/dataset/recov/2017-05-17-hauptgebaude.csv',\n",
    "    '/home/dlandry/dataset/recov/2017-05-17-plain.csv',\n",
    "    '/home/dlandry/dataset/recov/2017-05-17-wood-autumn.csv',\n",
    "    '/home/dlandry/dataset/recov/2017-05-17-wood-summer.csv']\n",
    "\n",
    "dataset = dataset_of_files(files)\n",
    "len(dataset)"
   ]
  },
  {
   "cell_type": "code",
   "execution_count": null,
   "metadata": {
    "scrolled": true
   },
   "outputs": [],
   "source": [
    "dataset[0:3]['dataset']"
   ]
  },
  {
   "cell_type": "markdown",
   "metadata": {},
   "source": [
    "# Report figures"
   ]
  },
  {
   "cell_type": "code",
   "execution_count": null,
   "metadata": {
    "collapsed": true
   },
   "outputs": [],
   "source": [
    "paperplot.setup()\n",
    "fig = paperplot.paper_figure(396, 540)\n",
    "\n",
    "axes_icp = {}\n",
    "axes_icp['bias_x'] = fig.add_subplot(4,2,1)\n",
    "\n",
    "first_ax = axes_icp['bias_x']\n",
    "\n",
    "#axes_icp['bias_x'].set_xlim([-0.3, 0.3])\n",
    "\n",
    "axes_icp['bias_y'] = fig.add_subplot(4,2,3, sharey=first_ax)\n",
    "axes_icp['bias_z'] = fig.add_subplot(4,2,5, sharey=first_ax)\n",
    "axes_icp['bias_theta'] = fig.add_subplot(4,2,7, sharey=first_ax)\n",
    "\n",
    "axes_ndt = {}\n",
    "axes_ndt['bias_x'] = fig.add_subplot(4,2,2, sharey=first_ax)\n",
    "axes_ndt['bias_y'] = fig.add_subplot(4,2,4, sharey=first_ax)\n",
    "axes_ndt['bias_z'] = fig.add_subplot(4,2,6, sharey=first_ax)\n",
    "axes_ndt['bias_theta'] = fig.add_subplot(4,2,8, sharey=first_ax)\n",
    "\n",
    "name_of_axes = {'bias_x': 'x axis',\n",
    "               'bias_y': 'y axis',\n",
    "               'bias_z': 'z axis',\n",
    "               'bias_theta': 'around z axis'}\n",
    "\n",
    "for variable in ['bias_x', 'bias_y', 'bias_z', 'bias_theta']:\n",
    "    dataset[dataset['algorithm'] == 'icp'].hist(column=variable, bins=300, ax=axes_icp[variable], color='0.4', range=[-0.1, 1.0])\n",
    "    dataset[dataset['algorithm'] == 'ndt'].hist(column=variable, bins=300, ax=axes_ndt[variable], color='0.4', range=[-0.1, 1.0])\n",
    "    \n",
    "    axes_icp[variable].set_title('')\n",
    "    axes_ndt[variable].set_title('')\n",
    "    \n",
    "    axes_icp[variable].set_xlim([-0.1, 0.1])\n",
    "    axes_ndt[variable].set_xlim([-0.1, 0.1])\n",
    "    \n",
    "    if variable != 'bias_theta':\n",
    "        axes_icp[variable].set_xlabel('Bias (m)')\n",
    "        axes_ndt[variable].set_xlabel('Bias (m)')\n",
    "    else:\n",
    "        axes_icp[variable].set_xlabel('Bias (rad)')\n",
    "        axes_ndt[variable].set_xlabel('Bias (rad)')\n",
    "    \n",
    "    axes_icp[variable].set_ylabel(name_of_axes[variable])\n",
    "\n",
    "axes_icp['bias_x'].set_title('ICP Algorithm')\n",
    "axes_ndt['bias_x'].set_title('NDT Algorithm')\n",
    "    \n",
    "plt.savefig('fig.pdf')\n",
    "plt.show()"
   ]
  },
  {
   "cell_type": "code",
   "execution_count": null,
   "metadata": {
    "collapsed": true
   },
   "outputs": [],
   "source": [
    "paperplot.setup()\n",
    "fig = paperplot.paper_figure(190, 200)\n",
    "ax = fig.add_subplot(1,1,1)\n",
    "\n",
    "apartment_dataset = dataset[dataset['dataset'] == 'apartment']\n",
    "apartment_dataset = apartment_dataset[apartment_dataset['algorithm'] == 'icp']\n",
    "\n",
    "apartment_dataset.hist(column='bias_x', color='0.6', ax=ax)\n",
    "ax.set_title('')\n",
    "ax.set_xlabel('x axis (m)')\n",
    "ax.set_ylabel('Number of samples')\n",
    "plt.savefig('fig.pdf')\n",
    "plt.show()"
   ]
  },
  {
   "cell_type": "code",
   "execution_count": null,
   "metadata": {
    "collapsed": true
   },
   "outputs": [],
   "source": [
    "icp_dataset = dataset[dataset['algorithm'] == 'icp']\n",
    "icp_dataset[icp_dataset['dataset'] == 'apartment'].hist(column='bias_x', bins=20, by='algorithm')\n",
    "plt.show()"
   ]
  },
  {
   "cell_type": "code",
   "execution_count": null,
   "metadata": {
    "collapsed": true
   },
   "outputs": [],
   "source": [
    "icp_dataset[icp_dataset['dataset'] == 'apartment']['bias_x'].mean()"
   ]
  },
  {
   "cell_type": "markdown",
   "metadata": {},
   "source": [
    "# Exploration"
   ]
  },
  {
   "cell_type": "code",
   "execution_count": null,
   "metadata": {
    "collapsed": true,
    "scrolled": true
   },
   "outputs": [],
   "source": [
    "small_distance_mask = dataset['reading'] - dataset['reference'] < 3\n",
    "dataset[small_distance_mask].hist(column='bias_x', bins=50, figsize=(20,10), by='dataset')\n",
    "plt.show()"
   ]
  },
  {
   "cell_type": "code",
   "execution_count": null,
   "metadata": {
    "collapsed": true
   },
   "outputs": [],
   "source": [
    "dataset[dataset['dataset'] != 'apartment'].hist(column='bias_x', by='algorithm', bins=50)\n",
    "dataset[dataset['dataset'] != 'apartment'].hist(column='bias_x', by='dataset', bins=50)\n",
    "plt.show()"
   ]
  },
  {
   "cell_type": "code",
   "execution_count": null,
   "metadata": {
    "collapsed": true
   },
   "outputs": [],
   "source": [
    "dataset[dataset['dataset'] != 'apartment'].hist(column='bias_y', by='algorithm', bins=50)\n",
    "dataset[dataset['dataset'] != 'apartment'].hist(column='bias_y', by='dataset', bins=50)\n",
    "plt.show()"
   ]
  },
  {
   "cell_type": "code",
   "execution_count": null,
   "metadata": {
    "collapsed": true
   },
   "outputs": [],
   "source": [
    "dataset[dataset['dataset'] != 'apartment'].hist(column='bias_theta', by='algorithm', bins=50)\n",
    "dataset[dataset['dataset'] != 'apartment'].hist(column='bias_theta', by='dataset', bins=50)\n",
    "plt.show()"
   ]
  },
  {
   "cell_type": "code",
   "execution_count": null,
   "metadata": {
    "collapsed": true,
    "scrolled": true
   },
   "outputs": [],
   "source": [
    "dataset[dataset['dataset'] != 'apartment'][['bias_x', 'bias_y', 'bias_z', 'bias_theta']].std()"
   ]
  },
  {
   "cell_type": "code",
   "execution_count": null,
   "metadata": {
    "collapsed": true
   },
   "outputs": [],
   "source": [
    "np.sqrt(dataset[dataset['dataset'] != 'apartment'][['var_x', 'var_y', 'var_z', 'var_theta']].mean())"
   ]
  },
  {
   "cell_type": "code",
   "execution_count": null,
   "metadata": {
    "collapsed": true
   },
   "outputs": [],
   "source": [
    "bars_x = []\n",
    "bars_y = []\n",
    "bars_theta = []\n",
    "tick_labels = []\n",
    "\n",
    "for name, group in dataset[dataset['dataset'] != 'apartment'].groupby('dataset'):\n",
    "    print(name)\n",
    "    tick_labels.append(name)\n",
    "    bars_x.append(group['bias_x'].std())\n",
    "    bars_y.append(group['bias_y'].std())\n",
    "    bars_theta.append(group['bias_theta'].std())\n",
    "    print(group[['bias_x', 'bias_y', 'bias_z', 'bias_theta']].std())\n",
    "\n",
    "width = 0.35\n",
    "ind = np.arange(len(dataset[dataset['dataset'] != 'apartment'].groupby('dataset')))\n",
    "\n",
    "fig, ax = plt.subplots(figsize=(20,10))\n",
    "ax.bar(np.arange(len(bars_x)), bars_x, width)\n",
    "ax.bar(np.arange(len(bars_x)) + width, bars_theta, width)\n",
    "\n",
    "ax.set_xticks(ind + width / 2)\n",
    "ax.set_xticklabels(tick_labels)\n",
    "\n",
    "plt.show()"
   ]
  },
  {
   "cell_type": "code",
   "execution_count": null,
   "metadata": {
    "collapsed": true,
    "scrolled": true
   },
   "outputs": [],
   "source": [
    "fig, ax = plt.subplots()\n",
    "ax.set_ylim([0., 0.02])\n",
    "dataset[dataset['dataset'] != 'apartment'].boxplot(column='var_x', ax=ax)\n",
    "ax.axhline(y=variance)\n",
    "plt.show()"
   ]
  },
  {
   "cell_type": "code",
   "execution_count": null,
   "metadata": {
    "collapsed": true
   },
   "outputs": [],
   "source": [
    "fig, ax = plt.subplots()\n",
    "xs = dataset[dataset['dataset'] != 'apartment']['bias_x']\n",
    "ys = np.sqrt(dataset[dataset['dataset'] != 'apartment']['var_x'])\n",
    "ax.scatter(xs, ys, s=1)\n",
    "ax.axis('equal')\n",
    "ax.set_ylim([0., 0.01])\n",
    "\n",
    "sorted_xs = np.sort(xs)\n",
    "\n",
    "ax.plot(sorted_xs, np.abs(sorted_xs))\n",
    "plt.show()"
   ]
  },
  {
   "cell_type": "code",
   "execution_count": null,
   "metadata": {
    "collapsed": true
   },
   "outputs": [],
   "source": [
    "mean = dataset[small_distance_mask]['bias_x'].mean()\n",
    "variance = dataset[small_distance_mask]['bias_x'].var()"
   ]
  },
  {
   "cell_type": "code",
   "execution_count": null,
   "metadata": {
    "collapsed": true
   },
   "outputs": [],
   "source": [
    "mean"
   ]
  },
  {
   "cell_type": "code",
   "execution_count": null,
   "metadata": {
    "collapsed": true
   },
   "outputs": [],
   "source": [
    "variance"
   ]
  },
  {
   "cell_type": "code",
   "execution_count": null,
   "metadata": {
    "collapsed": true
   },
   "outputs": [],
   "source": [
    "dataset['bias_x'].plot(kind='box')\n",
    "plt.show()"
   ]
  },
  {
   "cell_type": "code",
   "execution_count": null,
   "metadata": {
    "collapsed": true
   },
   "outputs": [],
   "source": [
    "fig, ax = plt.subplots()\n",
    "plot_gaussian(ax, mean, variance)\n",
    "plt.show()"
   ]
  },
  {
   "cell_type": "code",
   "execution_count": null,
   "metadata": {
    "collapsed": true
   },
   "outputs": [],
   "source": [
    "ax = dataset[dataset['dataset'] != 'apartment']['bias_x'].hist(bins=30)\n",
    "plot_gaussian(ax, mean, variance)\n",
    "plt.show()"
   ]
  },
  {
   "cell_type": "code",
   "execution_count": null,
   "metadata": {
    "collapsed": true
   },
   "outputs": [],
   "source": [
    "dataset_noap = dataset[dataset['dataset'] != 'apartment']\n",
    "dataset_noap = dataset_noap[dataset_noap['reading'] - dataset_noap['reference'] == 1]"
   ]
  },
  {
   "cell_type": "code",
   "execution_count": null,
   "metadata": {
    "collapsed": true
   },
   "outputs": [],
   "source": [
    "np.count_nonzero(np.abs(dataset_noap['bias_x']) > 2*np.sqrt(dataset_noap['var_x'])) / dataset['bias_x'].count()"
   ]
  },
  {
   "cell_type": "code",
   "execution_count": null,
   "metadata": {
    "collapsed": true
   },
   "outputs": [],
   "source": [
    "np.count_nonzero(np.abs(dataset_noap['bias_theta']) > 2*np.sqrt(dataset_noap['var_theta'])) / dataset['bias_theta'].count()"
   ]
  },
  {
   "cell_type": "code",
   "execution_count": null,
   "metadata": {
    "collapsed": true
   },
   "outputs": [],
   "source": [
    "dataset_noap[dataset_noap['bias_x'] > 0.01][['dataset', 'reading', 'reference', 'bias_x', 'algorithm']]"
   ]
  },
  {
   "cell_type": "code",
   "execution_count": null,
   "metadata": {
    "collapsed": true
   },
   "outputs": [],
   "source": [
    "dataset_noap['bias_x'].max()"
   ]
  },
  {
   "cell_type": "code",
   "execution_count": null,
   "metadata": {
    "collapsed": true
   },
   "outputs": [],
   "source": []
  },
  {
   "cell_type": "code",
   "execution_count": null,
   "metadata": {
    "collapsed": true
   },
   "outputs": [],
   "source": [
    "dataset.groupby('algorithm').mean()"
   ]
  },
  {
   "cell_type": "code",
   "execution_count": null,
   "metadata": {
    "collapsed": true
   },
   "outputs": [],
   "source": [
    "dataset.groupby('algorithm').median()"
   ]
  },
  {
   "cell_type": "code",
   "execution_count": null,
   "metadata": {
    "collapsed": true
   },
   "outputs": [],
   "source": [
    "dataset.groupby('algorithm').var()"
   ]
  },
  {
   "cell_type": "code",
   "execution_count": null,
   "metadata": {
    "collapsed": true
   },
   "outputs": [],
   "source": [
    "for name, group in dataset.groupby('algorithm'):\n",
    "    print(name)\n",
    "    print(group['bias_theta'].std())"
   ]
  },
  {
   "cell_type": "code",
   "execution_count": null,
   "metadata": {},
   "outputs": [],
   "source": [
    "# Average std dev of the registration\n",
    "for subset in ['apartment', 'gazebo_summer', 'plain']:\n",
    "    print('===== {} ===='.format(subset))\n",
    "    for name, group in dataset[dataset['dataset'] == subset].groupby('algorithm'):\n",
    "        print('=== {} ==='.format(name))\n",
    "        for variable in ['bias_x', 'bias_y', 'bias_z', 'bias_theta']:\n",
    "            print(variable)\n",
    "            print('Median: {:.4f}'.format(round(group[variable].median(), 4)))\n",
    "            print('Mean: {:.4f}'.format(round(group[variable].mean(), 4)))\n",
    "            print('Std dev: {:.4f}'.format(round(np.sqrt(group[variable].var()), 4)))\n",
    "        print()"
   ]
  },
  {
   "cell_type": "code",
   "execution_count": null,
   "metadata": {},
   "outputs": [],
   "source": [
    "for name, group in dataset.groupby('algorithm'):\n",
    "    print('=== {} ==='.format(name))\n",
    "    for variable in ['bias_x', 'bias_y', 'bias_z', 'bias_theta']:\n",
    "        print(variable)\n",
    "        print('Median: {:.4f}'.format(round(group[variable].median(), 4)))\n",
    "        print('Mean: {:.4f}'.format(round(group[variable].mean(), 4)))\n",
    "        print('Std dev: {:.4f}'.format(round(np.sqrt(group[variable].var()), 4)))\n",
    "    print()"
   ]
  },
  {
   "cell_type": "code",
   "execution_count": null,
   "metadata": {
    "collapsed": true
   },
   "outputs": [],
   "source": []
  }
 ],
 "metadata": {
  "kernelspec": {
   "display_name": "Python 3",
   "language": "python",
   "name": "python3"
  },
  "language_info": {
   "codemirror_mode": {
    "name": "ipython",
    "version": 3
   },
   "file_extension": ".py",
   "mimetype": "text/x-python",
   "name": "python",
   "nbconvert_exporter": "python",
   "pygments_lexer": "ipython3",
   "version": "3.5.2"
  }
 },
 "nbformat": 4,
 "nbformat_minor": 2
}
