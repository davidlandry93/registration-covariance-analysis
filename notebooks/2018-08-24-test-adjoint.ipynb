{
 "cells": [
  {
   "cell_type": "code",
   "execution_count": 2,
   "metadata": {
    "collapsed": true
   },
   "outputs": [],
   "source": [
    "%load_ext autoreload\n",
    "%autoreload 2"
   ]
  },
  {
   "cell_type": "code",
   "execution_count": 16,
   "metadata": {
    "collapsed": true
   },
   "outputs": [],
   "source": [
    "from lieroy import se3\n",
    "import matplotlib\n",
    "import matplotlib.pyplot as plt\n",
    "import numpy as np"
   ]
  },
  {
   "cell_type": "code",
   "execution_count": 146,
   "metadata": {
    "collapsed": true
   },
   "outputs": [],
   "source": [
    "def plot_covariance(mean, covariance, ax):\n",
    "    eigvals, eigvecs = np.linalg.eig(covariance[0:2,0:2])\n",
    "    \n",
    "    sort_indices = np.argsort(eigvals)[::-1]\n",
    "    eigvals, eigvecs = eigvals[sort_indices], eigvecs[:, sort_indices]\n",
    "    \n",
    "    angle = np.arctan2(eigvecs[1,0], eigvecs[0,0])\n",
    "    \n",
    "    width, height = 3 * np.sqrt(eigvals)\n",
    "\n",
    "    print(eigvals)\n",
    "    print(eigvecs)\n",
    "    print(width)\n",
    "    print(height)\n",
    "    print(angle)\n",
    "    \n",
    "    ellipse = matplotlib.patches.Ellipse(xy=mean[0:2,3], width=width, height=height, angle=angle * 360 / (2 * np.pi), fill=False)\n",
    "    ax.add_artist(ellipse)\n",
    "    "
   ]
  },
  {
   "cell_type": "code",
   "execution_count": 149,
   "metadata": {},
   "outputs": [],
   "source": [
    "cov1 = np.identity(6)\n",
    "cov1[0,0] = 1.0\n",
    "cov1[1,1] = 10.0\n",
    "cov1[0,1] = 0\n",
    "cov1[1,0] = 0\n",
    "\n",
    "cov2 = np.identity(6)\n",
    "cov2[0,0] = 10.0"
   ]
  },
  {
   "cell_type": "code",
   "execution_count": 154,
   "metadata": {},
   "outputs": [
    {
     "name": "stdout",
     "output_type": "stream",
     "text": [
      "[10.  1.]\n",
      "[[0. 1.]\n",
      " [1. 0.]]\n",
      "9.486832980505138\n",
      "3.0\n",
      "1.5707963267948966\n",
      "[10.  1.]\n",
      "[[1. 0.]\n",
      " [0. 1.]]\n",
      "9.486832980505138\n",
      "3.0\n",
      "0.0\n"
     ]
    },
    {
     "data": {
      "image/png": "[encoded data removed]",
      "text/plain": [
       "<Figure size 432x288 with 1 Axes>"
      ]
     },
     "metadata": {},
     "output_type": "display_data"
    }
   ],
   "source": [
    "fig, ax = plt.subplots()\n",
    "\n",
    "mean = np.identity(4)\n",
    "plot_covariance(mean, cov1, ax)\n",
    "\n",
    "mean[0,3] += 1.0\n",
    "plot_covariance(mean, cov2, ax)\n",
    "\n",
    "ax.set_xlim([-5.0, 5.0])\n",
    "ax.set_ylim([-5.0, 5.0])\n",
    "ax.set_aspect('equal')\n",
    "plt.show()"
   ]
  },
  {
   "cell_type": "code",
   "execution_count": 151,
   "metadata": {},
   "outputs": [
    {
     "name": "stdout",
     "output_type": "stream",
     "text": [
      "[10.  1.]\n",
      "[[0. 1.]\n",
      " [1. 0.]]\n",
      "9.486832980505138\n",
      "3.0\n",
      "1.5707963267948966\n",
      "[10.  1.]\n",
      "[[1. 0.]\n",
      " [0. 1.]]\n",
      "9.486832980505138\n",
      "3.0\n",
      "0.0\n",
      "[10.  1.]\n",
      "[[ 4.37113883e-08 -1.00000000e+00]\n",
      " [-1.00000000e+00 -4.37113883e-08]]\n",
      "9.486832980505149\n",
      "3.0000000000000027\n",
      "-1.5707962830835083\n"
     ]
    },
    {
     "data": {
      "image/png": "[encoded data removed]",
      "text/plain": [
       "<Figure size 432x288 with 1 Axes>"
      ]
     },
     "metadata": {},
     "output_type": "display_data"
    }
   ],
   "source": [
    "fig, ax = plt.subplots()\n",
    "\n",
    "mean = np.identity(4)\n",
    "plot_covariance(mean, cov1, ax)\n",
    "\n",
    "mean[0,3] += 1.0\n",
    "plot_covariance(mean, cov2, ax)\n",
    "\n",
    "mean[0,3] += 1.0\n",
    "plot_covariance(np.identity(4), rot_cov2, ax)\n",
    "ax.set_xlim([-5.0, 5.0])\n",
    "ax.set_ylim([-5.0, 5.0])\n",
    "plt.show()"
   ]
  },
  {
   "cell_type": "code",
   "execution_count": 142,
   "metadata": {
    "collapsed": true
   },
   "outputs": [],
   "source": [
    "xsi = np.array([0.0, 0.0, 0.0, 0.0, 0.0, np.pi/2])\n",
    "t = se3.exp(xsi)"
   ]
  },
  {
   "cell_type": "code",
   "execution_count": 139,
   "metadata": {},
   "outputs": [
    {
     "data": {
      "text/plain": [
       "array([[-4.37113883e-08, -1.00000000e+00,  0.00000000e+00,\n",
       "         0.00000000e+00],\n",
       "       [ 1.00000000e+00, -4.37113883e-08,  0.00000000e+00,\n",
       "         0.00000000e+00],\n",
       "       [ 0.00000000e+00,  0.00000000e+00,  9.99999940e-01,\n",
       "         0.00000000e+00],\n",
       "       [ 0.00000000e+00,  0.00000000e+00,  0.00000000e+00,\n",
       "         1.00000000e+00]])"
      ]
     },
     "execution_count": 139,
     "metadata": {},
     "output_type": "execute_result"
    }
   ],
   "source": [
    "t"
   ]
  },
  {
   "cell_type": "code",
   "execution_count": 140,
   "metadata": {
    "collapsed": true
   },
   "outputs": [],
   "source": [
    "adjoint = se3.adjoint(t)"
   ]
  },
  {
   "cell_type": "code",
   "execution_count": 127,
   "metadata": {},
   "outputs": [],
   "source": [
    "rot_cov2 = adjoint @ (cov2 @ adjoint.T)"
   ]
  },
  {
   "cell_type": "code",
   "execution_count": 128,
   "metadata": {},
   "outputs": [
    {
     "data": {
      "text/plain": [
       "array([[ 1.00000000e+00, -3.93402495e-07,  0.00000000e+00,\n",
       "         0.00000000e+00,  0.00000000e+00,  0.00000000e+00],\n",
       "       [-3.93402495e-07,  1.00000000e+01,  0.00000000e+00,\n",
       "         0.00000000e+00,  0.00000000e+00,  0.00000000e+00],\n",
       "       [ 0.00000000e+00,  0.00000000e+00,  9.99999881e-01,\n",
       "         0.00000000e+00,  0.00000000e+00,  0.00000000e+00],\n",
       "       [ 0.00000000e+00,  0.00000000e+00,  0.00000000e+00,\n",
       "         1.00000000e+00,  0.00000000e+00,  0.00000000e+00],\n",
       "       [ 0.00000000e+00,  0.00000000e+00,  0.00000000e+00,\n",
       "         0.00000000e+00,  1.00000000e+00,  0.00000000e+00],\n",
       "       [ 0.00000000e+00,  0.00000000e+00,  0.00000000e+00,\n",
       "         0.00000000e+00,  0.00000000e+00,  9.99999881e-01]])"
      ]
     },
     "execution_count": 128,
     "metadata": {},
     "output_type": "execute_result"
    }
   ],
   "source": [
    "rot_cov2"
   ]
  },
  {
   "cell_type": "code",
   "execution_count": null,
   "metadata": {
    "collapsed": true
   },
   "outputs": [],
   "source": []
  }
 ],
 "metadata": {
  "kernelspec": {
   "display_name": "Python 3",
   "language": "python",
   "name": "python3"
  },
  "language_info": {
   "codemirror_mode": {
    "name": "ipython",
    "version": 3
   },
   "file_extension": ".py",
   "mimetype": "text/x-python",
   "name": "python",
   "nbconvert_exporter": "python",
   "pygments_lexer": "ipython3",
   "version": "3.5.2"
  }
 },
 "nbformat": 4,
 "nbformat_minor": 2
}
