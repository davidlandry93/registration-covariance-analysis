{
 "cells": [
  {
   "cell_type": "code",
   "execution_count": 5,
   "metadata": {
    "collapsed": true
   },
   "outputs": [],
   "source": [
    "import json\n",
    "from recova.registration_dataset import lie_vectors_of_registrations"
   ]
  },
  {
   "cell_type": "code",
   "execution_count": 9,
   "metadata": {},
   "outputs": [],
   "source": [
    "with open('/home/dlandry/dataset/managed/hauptgebaude-01-00/registrations.json') as json_file:\n",
    "    json_dataset = json.load(json_file)\n",
    "\n",
    "pts = lie_vectors_of_registrations(json_dataset)"
   ]
  },
  {
   "cell_type": "code",
   "execution_count": null,
   "metadata": {},
   "outputs": [],
   "source": []
  },
  {
   "cell_type": "code",
   "execution_count": 10,
   "metadata": {},
   "outputs": [
    {
     "data": {
      "text/plain": [
       "array([[ 2.71064425e+00, -1.31119341e-01,  5.69933541e-02,\n",
       "         1.19348918e-03,  7.50088948e-04, -9.14666429e-02],\n",
       "       [ 4.47556585e-01, -8.99965242e-02,  8.74391943e-03,\n",
       "         2.05058954e-03,  3.17110214e-03, -9.21730399e-02],\n",
       "       [ 5.74568629e-01, -9.16479528e-02,  1.15980022e-02,\n",
       "         2.00345763e-03,  2.60607083e-03, -9.24621373e-02],\n",
       "       ...,\n",
       "       [-1.25943136e+00, -5.88588007e-02, -3.97640392e-02,\n",
       "         1.14648242e-03, -3.37933097e-03, -9.31385681e-02],\n",
       "       [ 5.74586928e-01, -9.17616412e-02,  1.15991328e-02,\n",
       "         1.97414611e-03,  2.60941545e-03, -9.24652219e-02],\n",
       "       [ 5.74456394e-01, -9.16779861e-02,  1.16862431e-02,\n",
       "         1.99236907e-03,  2.61847116e-03, -9.24794003e-02]])"
      ]
     },
     "execution_count": 10,
     "metadata": {},
     "output_type": "execute_result"
    }
   ],
   "source": [
    "pts"
   ]
  },
  {
   "cell_type": "code",
   "execution_count": null,
   "metadata": {
    "collapsed": true
   },
   "outputs": [],
   "source": []
  }
 ],
 "metadata": {
  "kernelspec": {
   "display_name": "Python 3",
   "language": "python",
   "name": "python3"
  },
  "language_info": {
   "codemirror_mode": {
    "name": "ipython",
    "version": 3
   },
   "file_extension": ".py",
   "mimetype": "text/x-python",
   "name": "python",
   "nbconvert_exporter": "python",
   "pygments_lexer": "ipython3",
   "version": "3.5.2"
  }
 },
 "nbformat": 4,
 "nbformat_minor": 2
}
