{
 "cells": [
  {
   "cell_type": "code",
   "execution_count": 2,
   "metadata": {
    "collapsed": true
   },
   "outputs": [],
   "source": [
    "%load_ext autoreload\n",
    "%autoreload 2\n"
   ]
  },
  {
   "cell_type": "code",
   "execution_count": 3,
   "metadata": {
    "collapsed": true
   },
   "outputs": [],
   "source": [
    "import csv\n",
    "import matplotlib.pyplot as plt\n",
    "import multiprocessing\n",
    "import numpy as np\n",
    "import seaborn as sns\n",
    "\n",
    "from lieroy import se3\n",
    "from recova.clustering import CenteredClusteringAlgorithm, RegistrationPairClusteringAdapter\n",
    "from recova.covariance import SamplingCovarianceComputationAlgorithm, SamplingDistributionComputationAlgorithm\n",
    "from recova.registration_result_database import RegistrationPairDatabase"
   ]
  },
  {
   "cell_type": "code",
   "execution_count": 4,
   "metadata": {},
   "outputs": [],
   "source": [
    "db = RegistrationPairDatabase('/home/dlandry/dataset/db_kitti_02/')\n",
    "pairs = db.registration_pairs()"
   ]
  },
  {
   "cell_type": "code",
   "execution_count": 5,
   "metadata": {},
   "outputs": [
    {
     "data": {
      "text/plain": [
       "23190"
      ]
     },
     "execution_count": 5,
     "metadata": {},
     "output_type": "execute_result"
    }
   ],
   "source": [
    "len(pairs)"
   ]
  },
  {
   "cell_type": "code",
   "execution_count": 6,
   "metadata": {
    "collapsed": true
   },
   "outputs": [],
   "source": [
    "clustering_algo = CenteredClusteringAlgorithm(radius=0.005, k=20, n_seed_init=20)\n",
    "clustering_algo.seed_selector = 'localized'\n",
    "clustering = RegistrationPairClusteringAdapter(clustering_algo)\n",
    "\n",
    "distribution_algo = SamplingDistributionComputationAlgorithm(clustering)\n",
    "covariance_algo = SamplingCovarianceComputationAlgorithm(clustering_algorithm=clustering)"
   ]
  },
  {
   "cell_type": "code",
   "execution_count": 7,
   "metadata": {
    "collapsed": true
   },
   "outputs": [],
   "source": [
    "def distance_of_one_pair(pair):\n",
    "    print(pair)\n",
    "    distribution = distribution_algo.compute(pair)\n",
    "    \n",
    "    mean, covariance = np.array(distribution['mean']), np.array(distribution['covariance'])\n",
    "    \n",
    "    ground_truth = pair.ground_truth()\n",
    "    delta = se3.log(np.linalg.inv(ground_truth) @ mean)\n",
    "    distance = np.linalg.norm(delta)\n",
    "\n",
    "    return distance, 0.0"
   ]
  },
  {
   "cell_type": "code",
   "execution_count": 14,
   "metadata": {},
   "outputs": [
    {
     "name": "stdout",
     "output_type": "stream",
     "text": [
      "Registration Pair: 10-0200-0199\n",
      "(100, 6)\n"
     ]
    },
    {
     "name": "stderr",
     "output_type": "stream",
     "text": [
      "centered_clustering -n_seed_init 20 -seed_selector localized -k 20 -radius 0.005 -seed 0.760617733001709,0.010459871962666512,0.0027780027594417334,-0.003349820151925087,-0.008487316779792309,0.013787231408059597 --nopointcloud_log\n",
      "0.005 radius\n",
      "67 outliers\n",
      "33 inliers\n"
     ]
    },
    {
     "data": {
      "text/plain": [
       "(0.6057146546310507, 0.0)"
      ]
     },
     "execution_count": 14,
     "metadata": {},
     "output_type": "execute_result"
    }
   ],
   "source": [
    "pair = db.get_registration_pair('10', 200, 199)\n",
    "distance_of_one_pair(pair)"
   ]
  },
  {
   "cell_type": "code",
   "execution_count": 12,
   "metadata": {},
   "outputs": [
    {
     "name": "stdout",
     "output_type": "stream",
     "text": [
      "Registration Pair: 08-3671-3670\n",
      "(100, 6)\n"
     ]
    },
    {
     "name": "stderr",
     "output_type": "stream",
     "text": [
      "centered_clustering -n_seed_init 20 -seed_selector localized -k 20 -radius 0.005 -seed 0.9617106914520264,0.010443082079291344,0.0007580127567052841,-0.0013612927868962288,0.004303513094782829,-0.0005864785052835941 --nopointcloud_log\n",
      "0.005 radius\n",
      "99 outliers\n",
      "1 inliers\n"
     ]
    },
    {
     "data": {
      "text/plain": [
       "(0.18162611820631716, 0.0)"
      ]
     },
     "execution_count": 12,
     "metadata": {},
     "output_type": "execute_result"
    }
   ],
   "source": [
    "distance_of_one_pair(pairs[20000])"
   ]
  },
  {
   "cell_type": "code",
   "execution_count": null,
   "metadata": {
    "collapsed": true
   },
   "outputs": [],
   "source": [
    "#results = [distance_of_one_pair(x) for x in pairs]\n",
    "\n",
    "with multiprocessing.Pool(processes=6) as pool:\n",
    "    results = pool.map(distance_of_one_pair, pairs)\n",
    "    "
   ]
  },
  {
   "cell_type": "code",
   "execution_count": null,
   "metadata": {
    "collapsed": true
   },
   "outputs": [],
   "source": [
    "covariances = [covariance_algo.compute(x) for x in pairs]"
   ]
  },
  {
   "cell_type": "code",
   "execution_count": null,
   "metadata": {
    "collapsed": true
   },
   "outputs": [],
   "source": [
    "cov_norms = [np.linalg.norm(x) for x in covariances]"
   ]
  },
  {
   "cell_type": "code",
   "execution_count": null,
   "metadata": {
    "collapsed": true
   },
   "outputs": [],
   "source": [
    "distances, _ = zip(*results)"
   ]
  },
  {
   "cell_type": "code",
   "execution_count": null,
   "metadata": {
    "collapsed": true
   },
   "outputs": [],
   "source": [
    "with open('/home/dlandry/distances_of_mean.csv', 'w') as f:\n",
    "    writer = csv.DictWriter(f, ['location', 'reading', 'reference', 'distance', 'n_samples'])\n",
    "    writer.writeheader()\n",
    "    for i, pair in enumerate(pairs):\n",
    "        writer.writerow({\n",
    "            'location': pair.dataset,\n",
    "            'reading': pair.reading,\n",
    "            'reference': pair.reference,\n",
    "            'distance': distances[i],\n",
    "            'n_samples': \n",
    "        })"
   ]
  },
  {
   "cell_type": "code",
   "execution_count": null,
   "metadata": {
    "collapsed": true
   },
   "outputs": [],
   "source": [
    "sns.distplot(distances, rug=True)\n",
    "plt.xlim([0.0, 0.2])\n",
    "plt.show()"
   ]
  },
  {
   "cell_type": "code",
   "execution_count": null,
   "metadata": {
    "collapsed": true
   },
   "outputs": [],
   "source": [
    "plt.scatter(distances, cov_norms)\n",
    "plt.ylim([0.0, 0.5])\n",
    "plt.show()"
   ]
  },
  {
   "cell_type": "code",
   "execution_count": null,
   "metadata": {
    "collapsed": true
   },
   "outputs": [],
   "source": [
    "distances, closest = zip(*results)"
   ]
  },
  {
   "cell_type": "code",
   "execution_count": null,
   "metadata": {
    "collapsed": true
   },
   "outputs": [],
   "source": [
    "distance, closest = np.array(distances), np.array(closest)"
   ]
  },
  {
   "cell_type": "code",
   "execution_count": null,
   "metadata": {
    "collapsed": true
   },
   "outputs": [],
   "source": [
    "distance - closest"
   ]
  },
  {
   "cell_type": "code",
   "execution_count": null,
   "metadata": {
    "collapsed": true
   },
   "outputs": [],
   "source": [
    "np.max(distance - closest)"
   ]
  },
  {
   "cell_type": "code",
   "execution_count": null,
   "metadata": {
    "collapsed": true
   },
   "outputs": [],
   "source": [
    "distance - closest"
   ]
  },
  {
   "cell_type": "code",
   "execution_count": null,
   "metadata": {
    "collapsed": true
   },
   "outputs": [],
   "source": [
    "sns.distplot(closest, rug=True)\n",
    "plt.xlim([0.0, 0.3])\n",
    "plt.show()"
   ]
  },
  {
   "cell_type": "code",
   "execution_count": null,
   "metadata": {
    "collapsed": true
   },
   "outputs": [],
   "source": []
  }
 ],
 "metadata": {
  "kernelspec": {
   "display_name": "Python 3",
   "language": "python",
   "name": "python3"
  },
  "language_info": {
   "codemirror_mode": {
    "name": "ipython",
    "version": 3
   },
   "file_extension": ".py",
   "mimetype": "text/x-python",
   "name": "python",
   "nbconvert_exporter": "python",
   "pygments_lexer": "ipython3",
   "version": "3.5.2"
  }
 },
 "nbformat": 4,
 "nbformat_minor": 2
}
