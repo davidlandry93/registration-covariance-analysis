{
 "cells": [
  {
   "cell_type": "code",
   "execution_count": null,
   "metadata": {
    "collapsed": true
   },
   "outputs": [],
   "source": [
    "%load_ext autoreload\n",
    "%autoreload 2\n"
   ]
  },
  {
   "cell_type": "code",
   "execution_count": null,
   "metadata": {
    "collapsed": true
   },
   "outputs": [],
   "source": [
    "import csv\n",
    "import matplotlib.pyplot as plt\n",
    "import multiprocessing\n",
    "import numpy as np\n",
    "import seaborn as sns\n",
    "\n",
    "from lieroy import se3\n",
    "from recova.clustering import CenteredClusteringAlgorithm, RegistrationPairClusteringAdapter\n",
    "from recova.covariance import SamplingCovarianceComputationAlgorithm, SamplingDistributionComputationAlgorithm\n",
    "from recova.registration_result_database import RegistrationPairDatabase"
   ]
  },
  {
   "cell_type": "code",
   "execution_count": null,
   "metadata": {},
   "outputs": [],
   "source": [
    "db = RegistrationPairDatabase('/home/dlandry/dataset/db_eth_05/')\n",
    "pairs = db.registration_pairs()"
   ]
  },
  {
   "cell_type": "code",
   "execution_count": null,
   "metadata": {},
   "outputs": [],
   "source": [
    "clustering_algo = CenteredClusteringAlgorithm(radius=0.005, k=20, n_seed_init=20)\n",
    "clustering_algo.seed_selector = 'localized'\n",
    "clustering = RegistrationPairClusteringAdapter(clustering_algo)\n",
    "\n",
    "distribution_algo = SamplingDistributionComputationAlgorithm(clustering)\n",
    "covariance_algo = SamplingCovarianceComputationAlgorithm(clustering_algorithm=clustering)"
   ]
  },
  {
   "cell_type": "code",
   "execution_count": null,
   "metadata": {
    "collapsed": true
   },
   "outputs": [],
   "source": [
    "def distance_of_one_pair(pair):\n",
    "    print(pair)\n",
    "    distribution = distribution_algo.compute(pair)\n",
    "    \n",
    "    mean, covariance = np.array(distribution['mean']), np.array(distribution['covariance'])\n",
    "    \n",
    "    ground_truth = pair.ground_truth()\n",
    "    delta = se3.log(np.linalg.inv(ground_truth) @ mean)\n",
    "    distance = np.linalg.norm(delta)\n",
    "\n",
    "    return distance, 0.0"
   ]
  },
  {
   "cell_type": "code",
   "execution_count": null,
   "metadata": {},
   "outputs": [],
   "source": [
    "distance_of_one_pair(pairs[5])"
   ]
  },
  {
   "cell_type": "code",
   "execution_count": null,
   "metadata": {},
   "outputs": [],
   "source": [
    "#results = [distance_of_one_pair(x) for x in pairs]\n",
    "\n",
    "with multiprocessing.Pool(processes=6) as pool:\n",
    "    results = pool.map(distance_of_one_pair, pairs)\n",
    "    "
   ]
  },
  {
   "cell_type": "code",
   "execution_count": null,
   "metadata": {
    "collapsed": true
   },
   "outputs": [],
   "source": [
    "covariances = [covariance_algo.compute(x) for x in pairs]"
   ]
  },
  {
   "cell_type": "code",
   "execution_count": null,
   "metadata": {
    "collapsed": true
   },
   "outputs": [],
   "source": [
    "cov_norms = [np.linalg.norm(x) for x in covariances]"
   ]
  },
  {
   "cell_type": "code",
   "execution_count": null,
   "metadata": {},
   "outputs": [],
   "source": [
    "distances, _ = zip(*results)"
   ]
  },
  {
   "cell_type": "code",
   "execution_count": null,
   "metadata": {},
   "outputs": [],
   "source": [
    "with open('/home/dlandry/distances_of_mean.csv', 'w') as f:\n",
    "    writer = csv.DictWriter(f, ['location', 'reading', 'reference', 'distance', 'n_samples'])\n",
    "    writer.writeheader()\n",
    "    for i, pair in enumerate(pairs):\n",
    "        writer.writerow({\n",
    "            'location': pair.dataset,\n",
    "            'reading': pair.reading,\n",
    "            'reference': pair.reference,\n",
    "            'distance': distances[i],\n",
    "            'n_samples': \n",
    "        })"
   ]
  },
  {
   "cell_type": "code",
   "execution_count": null,
   "metadata": {},
   "outputs": [],
   "source": [
    "sns.distplot(distances, rug=True)\n",
    "plt.xlim([0.0, 0.2])\n",
    "plt.show()"
   ]
  },
  {
   "cell_type": "code",
   "execution_count": null,
   "metadata": {},
   "outputs": [],
   "source": [
    "plt.scatter(distances, cov_norms)\n",
    "plt.ylim([0.0, 0.5])\n",
    "plt.show()"
   ]
  },
  {
   "cell_type": "code",
   "execution_count": null,
   "metadata": {},
   "outputs": [],
   "source": [
    "distances, closest = zip(*results)"
   ]
  },
  {
   "cell_type": "code",
   "execution_count": null,
   "metadata": {},
   "outputs": [],
   "source": [
    "distance, closest = np.array(distances), np.array(closest)"
   ]
  },
  {
   "cell_type": "code",
   "execution_count": null,
   "metadata": {},
   "outputs": [],
   "source": [
    "distance - closest"
   ]
  },
  {
   "cell_type": "code",
   "execution_count": null,
   "metadata": {},
   "outputs": [],
   "source": [
    "np.max(distance - closest)"
   ]
  },
  {
   "cell_type": "code",
   "execution_count": null,
   "metadata": {},
   "outputs": [],
   "source": [
    "distance - closest"
   ]
  },
  {
   "cell_type": "code",
   "execution_count": null,
   "metadata": {},
   "outputs": [],
   "source": [
    "sns.distplot(closest, rug=True)\n",
    "plt.xlim([0.0, 0.3])\n",
    "plt.show()"
   ]
  },
  {
   "cell_type": "code",
   "execution_count": null,
   "metadata": {
    "collapsed": true
   },
   "outputs": [],
   "source": []
  }
 ],
 "metadata": {
  "kernelspec": {
   "display_name": "Python 3",
   "language": "python",
   "name": "python3"
  },
  "language_info": {
   "codemirror_mode": {
    "name": "ipython",
    "version": 3
   },
   "file_extension": ".py",
   "mimetype": "text/x-python",
   "name": "python",
   "nbconvert_exporter": "python",
   "pygments_lexer": "ipython3",
   "version": "3.5.2"
  }
 },
 "nbformat": 4,
 "nbformat_minor": 2
}
