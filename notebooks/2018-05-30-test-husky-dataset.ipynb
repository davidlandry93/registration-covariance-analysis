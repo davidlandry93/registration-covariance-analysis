{
 "cells": [
  {
   "cell_type": "code",
   "execution_count": 180,
   "metadata": {},
   "outputs": [
    {
     "name": "stdout",
     "output_type": "stream",
     "text": [
      "The autoreload extension is already loaded. To reload it, use:\n",
      "  %reload_ext autoreload\n"
     ]
    }
   ],
   "source": [
    "%matplotlib notebook\n",
    "%load_ext autoreload\n",
    "%autoreload 2"
   ]
  },
  {
   "cell_type": "code",
   "execution_count": 209,
   "metadata": {},
   "outputs": [],
   "source": [
    "import matplotlib.pyplot as plt\n",
    "import numpy as np\n",
    "import recov.datasets\n",
    "\n",
    "from recov.util import quat_to_rot_matrix"
   ]
  },
  {
   "cell_type": "code",
   "execution_count": 182,
   "metadata": {},
   "outputs": [],
   "source": [
    "d = recov.datasets.HuskyDataset('/home/dlandry/dataset/husky/2018-05-30-small/')"
   ]
  },
  {
   "cell_type": "code",
   "execution_count": 183,
   "metadata": {},
   "outputs": [
    {
     "data": {
      "text/plain": [
       "array([[ 0.78092348,  0.62719891,  0.04327989,  8.3895406 ],\n",
       "       [-0.62470042,  0.77440009,  0.09817614, -5.02247278],\n",
       "       [ 0.03270786,  0.08131387,  0.99342959,  0.88950501],\n",
       "       [ 0.        ,  0.        ,  0.        ,  1.        ]])"
      ]
     },
     "execution_count": 183,
     "metadata": {},
     "output_type": "execute_result"
    }
   ],
   "source": [
    "d.odometry_estimate(18,13)"
   ]
  },
  {
   "cell_type": "code",
   "execution_count": 184,
   "metadata": {
    "collapsed": true
   },
   "outputs": [],
   "source": [
    "t = d.odometry_estimate(18,13)\n",
    "r = t[0:3,0:3]"
   ]
  },
  {
   "cell_type": "code",
   "execution_count": 185,
   "metadata": {},
   "outputs": [
    {
     "data": {
      "text/plain": [
       "(array([0.77554707+0.61913496j, 0.77554707-0.61913496j,\n",
       "        0.99765904+0.j        ]),\n",
       " array([[ 0.70642193+0.j        ,  0.70642193-0.j        ,\n",
       "          0.15974073+0.j        ],\n",
       "        [-0.01093739+0.70153349j, -0.01093739-0.70153349j,\n",
       "         -0.01291295+0.j        ],\n",
       "        [ 0.07074652-0.06077935j,  0.07074652+0.06077935j,\n",
       "          0.98707454+0.j        ]]))"
      ]
     },
     "execution_count": 185,
     "metadata": {},
     "output_type": "execute_result"
    }
   ],
   "source": [
    "np.linalg.eig(r)"
   ]
  },
  {
   "cell_type": "code",
   "execution_count": 186,
   "metadata": {
    "collapsed": true
   },
   "outputs": [],
   "source": [
    "t_17 = d.scan_pose[17]\n",
    "t_map_12 = d.map_pose[12]"
   ]
  },
  {
   "cell_type": "code",
   "execution_count": 187,
   "metadata": {},
   "outputs": [
    {
     "data": {
      "text/plain": [
       "array([[ 0.99495298,  0.09809167, -0.02113284, -0.25666371],\n",
       "       [-0.09781063,  0.99517009,  0.00591142,  0.17300233],\n",
       "       [ 0.02161063,  0.00591142,  0.9997592 , -0.51408559],\n",
       "       [ 0.        ,  0.        ,  0.        ,  1.        ]])"
      ]
     },
     "execution_count": 187,
     "metadata": {},
     "output_type": "execute_result"
    }
   ],
   "source": [
    "t_map_12"
   ]
  },
  {
   "cell_type": "code",
   "execution_count": 188,
   "metadata": {},
   "outputs": [
    {
     "data": {
      "text/plain": [
       "array([[ 1.06587626, -0.04422743,  0.13290079, -0.25666371],\n",
       "       [-0.04422743,  1.02989517, -0.07925889,  0.17300233],\n",
       "       [ 0.13290079, -0.07925889,  1.26430442, -0.51408559],\n",
       "       [-0.25666371,  0.17300233, -0.51408559,  1.        ]])"
      ]
     },
     "execution_count": 188,
     "metadata": {},
     "output_type": "execute_result"
    }
   ],
   "source": [
    "np.dot(t_map_12, t_map_12.T)"
   ]
  },
  {
   "cell_type": "code",
   "execution_count": 189,
   "metadata": {
    "collapsed": true
   },
   "outputs": [],
   "source": [
    "r = t_map_12[0:3,0:3]"
   ]
  },
  {
   "cell_type": "code",
   "execution_count": 190,
   "metadata": {},
   "outputs": [
    {
     "data": {
      "text/plain": [
       "array([[1.00000000e+00, 1.75984868e-04, 9.53672085e-04],\n",
       "       [1.75984868e-04, 9.99965368e-01, 9.67911869e-03],\n",
       "       [9.53672085e-04, 9.67911869e-03, 1.00002042e+00]])"
      ]
     },
     "execution_count": 190,
     "metadata": {},
     "output_type": "execute_result"
    }
   ],
   "source": [
    "np.dot(r,r.T)"
   ]
  },
  {
   "cell_type": "markdown",
   "metadata": {},
   "source": [
    "# Are the quaternions normalized in the csvs"
   ]
  },
  {
   "cell_type": "code",
   "execution_count": 191,
   "metadata": {
    "collapsed": true
   },
   "outputs": [],
   "source": [
    "import csv"
   ]
  },
  {
   "cell_type": "code",
   "execution_count": 192,
   "metadata": {
    "collapsed": true
   },
   "outputs": [],
   "source": [
    "with open('/home/dlandry/.ros/maps.csv') as f:\n",
    "    reader = csv.DictReader(f)\n",
    "    rows = [row for row in reader]"
   ]
  },
  {
   "cell_type": "code",
   "execution_count": 193,
   "metadata": {},
   "outputs": [
    {
     "data": {
      "text/plain": [
       "[{'filename': 'map_00000.pcd',\n",
       "  'qw': '1.00000000000000000',\n",
       "  'qx': '0.00000000000000000',\n",
       "  'qy': '0.00000000000000000',\n",
       "  'qz': '0.00000000000000000',\n",
       "  'timestamp': '1526925648.62882304191589355',\n",
       "  'tx': '0.00000000000000000',\n",
       "  'ty': '0.00000000000000000',\n",
       "  'tz': '0.00000000000000000'},\n",
       " {'filename': 'map_00001.pcd',\n",
       "  'qw': '0.99999975413080999',\n",
       "  'qx': '-0.00033130830849093',\n",
       "  'qy': '-0.00029385003966877',\n",
       "  'qz': '-0.00052741846464434',\n",
       "  'timestamp': '1526925648.72894001007080078',\n",
       "  'tx': '-0.02343379584530934',\n",
       "  'ty': '-0.00442818675537434',\n",
       "  'tz': '-0.02516536872242726'},\n",
       " {'filename': 'map_00002.pcd',\n",
       "  'qw': '0.99999641626431135',\n",
       "  'qx': '-0.00020443302268133',\n",
       "  'qy': '-0.00120735694274105',\n",
       "  'qz': '-0.00240261619471357',\n",
       "  'timestamp': '1526925649.02919793128967285',\n",
       "  'tx': '-0.01471888340165362',\n",
       "  'ty': '0.00491406182521888',\n",
       "  'tz': '-0.10941901406395552'},\n",
       " {'filename': 'map_00003.pcd',\n",
       "  'qw': '0.99996081662897263',\n",
       "  'qx': '0.00006875199507047',\n",
       "  'qy': '-0.00202507544368812',\n",
       "  'qz': '-0.00862144327579808',\n",
       "  'timestamp': '1526925650.13018202781677246',\n",
       "  'tx': '-0.01847623982684376',\n",
       "  'ty': '0.00496536778343542',\n",
       "  'tz': '-0.14217165054053357'},\n",
       " {'filename': 'map_00004.pcd',\n",
       "  'qw': '0.99989727356895042',\n",
       "  'qx': '-0.00023047339320100',\n",
       "  'qy': '-0.00227000972801222',\n",
       "  'qz': '-0.01415094069421872',\n",
       "  'timestamp': '1526925651.33118891716003418',\n",
       "  'tx': '-0.02256918018173926',\n",
       "  'ty': '0.01421642203143738',\n",
       "  'tz': '-0.17067739535011539'},\n",
       " {'filename': 'map_00005.pcd',\n",
       "  'qw': '0.99979330698382041',\n",
       "  'qx': '-0.00034590789028030',\n",
       "  'qy': '-0.00306126419592091',\n",
       "  'qz': '-0.02009958382682341',\n",
       "  'timestamp': '1526925652.53224492073059082',\n",
       "  'tx': '-0.02387272423991362',\n",
       "  'ty': '0.00959536785259726',\n",
       "  'tz': '-0.20598845784961525'},\n",
       " {'filename': 'map_00006.pcd',\n",
       "  'qw': '0.99964421618892030',\n",
       "  'qx': '0.00003073154023077',\n",
       "  'qy': '-0.00418641725084131',\n",
       "  'qz': '-0.02634338168201087',\n",
       "  'timestamp': '1526925653.83336901664733887',\n",
       "  'tx': '-0.05275194750839765',\n",
       "  'ty': '0.03838987851418745',\n",
       "  'tz': '-0.25811192746214029'},\n",
       " {'filename': 'map_00007.pcd',\n",
       "  'qw': '0.99945622053869432',\n",
       "  'qx': '-0.00531112780297741',\n",
       "  'qy': '-0.00952352265129545',\n",
       "  'qz': '-0.03112006964849874',\n",
       "  'timestamp': '1526925655.13451290130615234',\n",
       "  'tx': '-0.04484137846731340',\n",
       "  'ty': '0.05768208554371012',\n",
       "  'tz': '-0.37857190391788520'},\n",
       " {'filename': 'map_00008.pcd',\n",
       "  'qw': '0.99931692098982483',\n",
       "  'qx': '-0.00393262238601638',\n",
       "  'qy': '-0.00677513911312988',\n",
       "  'qz': '-0.03611645999898047',\n",
       "  'timestamp': '1526925656.63581991195678711',\n",
       "  'tx': '-0.11716378548746424',\n",
       "  'ty': '0.09772353172353136',\n",
       "  'tz': '-0.39444393135471623'},\n",
       " {'filename': 'map_00009.pcd',\n",
       "  'qw': '0.99902340021068092',\n",
       "  'qx': '-0.00446194840657038',\n",
       "  'qy': '-0.00907998104930207',\n",
       "  'qz': '-0.04301240621044544',\n",
       "  'timestamp': '1526925658.23726797103881836',\n",
       "  'tx': '-0.10443838029488417',\n",
       "  'ty': '0.07937985275119649',\n",
       "  'tz': '-0.45101842657943170'},\n",
       " {'filename': 'map_00010.pcd',\n",
       "  'qw': '0.99883207276376840',\n",
       "  'qx': '-0.00660529512509896',\n",
       "  'qy': '-0.01155042073869620',\n",
       "  'qz': '-0.04644802795467825',\n",
       "  'timestamp': '1526925659.73862791061401367',\n",
       "  'tx': '-0.07065908578432886',\n",
       "  'ty': '0.03185214521210881',\n",
       "  'tz': '-0.51643766351903420'},\n",
       " {'filename': 'map_00011.pcd',\n",
       "  'qw': '0.99878348921010407',\n",
       "  'qx': '-0.00367710935726962',\n",
       "  'qy': '-0.01004032731189021',\n",
       "  'qz': '-0.04813819098875117',\n",
       "  'timestamp': '1526925661.44009590148925781',\n",
       "  'tx': '-0.12714279040193807',\n",
       "  'ty': '0.03776424138452744',\n",
       "  'tz': '-0.53354576464808301'},\n",
       " {'filename': 'map_00012.pcd',\n",
       "  'qw': '0.99868719533696859',\n",
       "  'qx': '-0.00414202714473210',\n",
       "  'qy': '-0.00996845417219848',\n",
       "  'qz': '-0.05007490166094847',\n",
       "  'timestamp': '1526925663.14155411720275879',\n",
       "  'tx': '-0.18066402175383087',\n",
       "  'ty': '0.06942510810685307',\n",
       "  'tz': '-0.54294318484789772'},\n",
       " {'filename': 'map_00013.pcd',\n",
       "  'qw': '0.99854134182308241',\n",
       "  'qx': '-0.00803371270179457',\n",
       "  'qy': '-0.01262003069127704',\n",
       "  'qz': '-0.05187954278325544',\n",
       "  'timestamp': '1526925664.74293208122253418',\n",
       "  'tx': '-0.16006963128470120',\n",
       "  'ty': '-0.00316149483067649',\n",
       "  'tz': '-0.63146937408594661'},\n",
       " {'filename': 'map_00014.pcd',\n",
       "  'qw': '0.99852177021035959',\n",
       "  'qx': '-0.00437685239848649',\n",
       "  'qy': '-0.01021451070053437',\n",
       "  'qz': '-0.05320557380408222',\n",
       "  'timestamp': '1526925667.04496192932128906',\n",
       "  'tx': '-0.10447066022625176',\n",
       "  'ty': '-0.08399708563592556',\n",
       "  'tz': '-0.59705073907593020'},\n",
       " {'filename': 'map_00015.pcd',\n",
       "  'qw': '0.99844753188703539',\n",
       "  'qx': '-0.00275293272085766',\n",
       "  'qy': '-0.00650855753534904',\n",
       "  'qz': '-0.05525088166264419',\n",
       "  'timestamp': '1526925668.64634990692138672',\n",
       "  'tx': '-0.07302388870384974',\n",
       "  'ty': '-0.17012855264011792',\n",
       "  'tz': '-0.52566719637683523'},\n",
       " {'filename': 'map_00016.pcd',\n",
       "  'qw': '0.99849169946696048',\n",
       "  'qx': '-0.00335223136817267',\n",
       "  'qy': '-0.00837314549975634',\n",
       "  'qz': '-0.05415764980725754',\n",
       "  'timestamp': '1526925668.84648799896240234',\n",
       "  'tx': '-0.08215342687396107',\n",
       "  'ty': '-0.18757629174441973',\n",
       "  'tz': '-0.57209117169116452'},\n",
       " {'filename': 'map_00017.pcd',\n",
       "  'qw': '0.99850328762991725',\n",
       "  'qx': '-0.00157338432845465',\n",
       "  'qy': '-0.00789065000310265',\n",
       "  'qz': '-0.05409643374494664',\n",
       "  'timestamp': '1526925669.04667711257934570',\n",
       "  'tx': '-0.07921928532845625',\n",
       "  'ty': '-0.08212981433169657',\n",
       "  'tz': '-0.57003427634822423'},\n",
       " {'filename': 'map_00018.pcd',\n",
       "  'qw': '0.99846600803754393',\n",
       "  'qx': '-0.00059618240109296',\n",
       "  'qy': '-0.01012759028811619',\n",
       "  'qz': '-0.05443141479034692',\n",
       "  'timestamp': '1526925669.24682688713073730',\n",
       "  'tx': '-0.03633213226377914',\n",
       "  'ty': '-0.08013230015887188',\n",
       "  'tz': '-0.60451017238546834'},\n",
       " {'filename': 'map_00019.pcd',\n",
       "  'qw': '0.99849581092973894',\n",
       "  'qx': '-0.00157749450605462',\n",
       "  'qy': '-0.00817358236803697',\n",
       "  'qz': '-0.05419256817324187',\n",
       "  'timestamp': '1526925669.44701600074768066',\n",
       "  'tx': '-0.05445968773209502',\n",
       "  'ty': '-0.03794746522180432',\n",
       "  'tz': '-0.58706533830587182'}]"
      ]
     },
     "execution_count": 193,
     "metadata": {},
     "output_type": "execute_result"
    }
   ],
   "source": [
    "rows"
   ]
  },
  {
   "cell_type": "code",
   "execution_count": 214,
   "metadata": {},
   "outputs": [],
   "source": [
    "rows[-1]\n",
    "q = np.array([float(rows[3]['qx']), float(rows[3]['qy']),float(rows[3]['qz']),float(rows[3]['qw'])])"
   ]
  },
  {
   "cell_type": "code",
   "execution_count": 215,
   "metadata": {},
   "outputs": [
    {
     "data": {
      "text/plain": [
       "array([ 6.87519951e-05, -2.02507544e-03, -8.62144328e-03,  9.99960817e-01])"
      ]
     },
     "execution_count": 215,
     "metadata": {},
     "output_type": "execute_result"
    }
   ],
   "source": [
    "q"
   ]
  },
  {
   "cell_type": "code",
   "execution_count": 216,
   "metadata": {},
   "outputs": [
    {
     "data": {
      "text/plain": [
       "1.0000000348674138"
      ]
     },
     "execution_count": 216,
     "metadata": {},
     "output_type": "execute_result"
    }
   ],
   "source": [
    "np.linalg.norm(q)"
   ]
  },
  {
   "cell_type": "code",
   "execution_count": 217,
   "metadata": {
    "collapsed": true
   },
   "outputs": [],
   "source": [
    "q2 = np.array([-0.0303887698,-0.0088147263,0.0719795466,0.9969040917])\n"
   ]
  },
  {
   "cell_type": "code",
   "execution_count": 218,
   "metadata": {},
   "outputs": [
    {
     "data": {
      "text/plain": [
       "0.9999999999533224"
      ]
     },
     "execution_count": 218,
     "metadata": {},
     "output_type": "execute_result"
    }
   ],
   "source": [
    "np.linalg.norm(q2)"
   ]
  },
  {
   "cell_type": "code",
   "execution_count": 219,
   "metadata": {
    "collapsed": true
   },
   "outputs": [],
   "source": [
    "q2 = q2 / np.linalg.norm(q2)"
   ]
  },
  {
   "cell_type": "code",
   "execution_count": 220,
   "metadata": {},
   "outputs": [
    {
     "data": {
      "text/plain": [
       "1.0"
      ]
     },
     "execution_count": 220,
     "metadata": {},
     "output_type": "execute_result"
    }
   ],
   "source": [
    "np.linalg.norm(q2)"
   ]
  },
  {
   "cell_type": "code",
   "execution_count": 221,
   "metadata": {},
   "outputs": [],
   "source": [
    "r = quat_to_rot_matrix({'i':q[0], 'j':q[1], 'k':q[2], 'w':q[3]})"
   ]
  },
  {
   "cell_type": "code",
   "execution_count": 222,
   "metadata": {},
   "outputs": [
    {
     "data": {
      "text/plain": [
       "array([[ 1.00000000e+00,  8.47898624e-06, -4.74148257e-06],\n",
       "       [ 8.47898624e-06,  9.99999708e-01, -2.74921967e-04],\n",
       "       [-4.74148257e-06, -2.74921967e-04,  9.99999981e-01]])"
      ]
     },
     "execution_count": 222,
     "metadata": {},
     "output_type": "execute_result"
    }
   ],
   "source": [
    "np.dot(r, r.T)"
   ]
  },
  {
   "cell_type": "code",
   "execution_count": 178,
   "metadata": {
    "collapsed": true
   },
   "outputs": [],
   "source": [
    "scan_p = d.scan_pose[17]\n",
    "map_p = d.map_pose[12]"
   ]
  },
  {
   "cell_type": "code",
   "execution_count": 179,
   "metadata": {},
   "outputs": [
    {
     "data": {
      "text/plain": [
       "array([[1.00000000e+00, 1.75984868e-04, 9.53672085e-04],\n",
       "       [1.75984868e-04, 9.99965368e-01, 9.67911869e-03],\n",
       "       [9.53672085e-04, 9.67911869e-03, 1.00002042e+00]])"
      ]
     },
     "execution_count": 179,
     "metadata": {},
     "output_type": "execute_result"
    }
   ],
   "source": [
    "np.dot(map_p[0:3,0:3], map_p[0:3,0:3].T)"
   ]
  },
  {
   "cell_type": "code",
   "execution_count": null,
   "metadata": {
    "collapsed": true
   },
   "outputs": [],
   "source": []
  },
  {
   "cell_type": "markdown",
   "metadata": {},
   "source": [
    "# New index format"
   ]
  },
  {
   "cell_type": "code",
   "execution_count": 235,
   "metadata": {
    "collapsed": true
   },
   "outputs": [],
   "source": [
    "with open('/home/dlandry/.ros/scans.csv') as f:\n",
    "    reader = csv.DictReader(f)\n",
    "    maps = [row for row in reader]"
   ]
  },
  {
   "cell_type": "code",
   "execution_count": 236,
   "metadata": {},
   "outputs": [
    {
     "data": {
      "text/plain": [
       "{'filename': 'scan_00025.pcd',\n",
       " 'r00': '0.70117172938886441',\n",
       " 'r01': '0.71237098786149089',\n",
       " 'r02': '0.02976208257283944',\n",
       " 'r10': '-0.71282330918872805',\n",
       " 'r11': '0.69948529073683785',\n",
       " 'r12': '0.05102213166883858',\n",
       " 'r20': '0.01552854735833323',\n",
       " 'r21': '-0.05699038248726547',\n",
       " 'r22': '0.99825395592549249',\n",
       " 'timestamp': '1526925675.85257911682128906',\n",
       " 'tx': '12.75449193797631331',\n",
       " 'ty': '-10.76979423990540496',\n",
       " 'tz': '0.46251222654468072'}"
      ]
     },
     "execution_count": 236,
     "metadata": {},
     "output_type": "execute_result"
    }
   ],
   "source": [
    "maps[25]"
   ]
  },
  {
   "cell_type": "code",
   "execution_count": 241,
   "metadata": {},
   "outputs": [
    {
     "data": {
      "text/plain": [
       "31"
      ]
     },
     "execution_count": 241,
     "metadata": {},
     "output_type": "execute_result"
    }
   ],
   "source": [
    "len(maps)"
   ]
  },
  {
   "cell_type": "code",
   "execution_count": 244,
   "metadata": {},
   "outputs": [],
   "source": [
    "m = maps[30]\n",
    "r = np.zeros((3,3))\n",
    "\n",
    "for i in range(0,3):\n",
    "    for j in range(0,3):\n",
    "        r[i,j] = m['r{}{}'.format(i,j)]"
   ]
  },
  {
   "cell_type": "code",
   "execution_count": 245,
   "metadata": {},
   "outputs": [
    {
     "data": {
      "text/plain": [
       "array([[ 0.71898624,  0.69314414,  0.05108811],\n",
       "       [-0.69500277,  0.71644039,  0.06069853],\n",
       "       [ 0.00547125, -0.07914779,  0.99684788]])"
      ]
     },
     "execution_count": 245,
     "metadata": {},
     "output_type": "execute_result"
    }
   ],
   "source": [
    "r"
   ]
  },
  {
   "cell_type": "code",
   "execution_count": 246,
   "metadata": {},
   "outputs": [
    {
     "data": {
      "text/plain": [
       "array([[ 1.00000000e+00,  6.43248871e-17, -5.94597348e-18],\n",
       "       [ 6.43248871e-17,  1.00000000e+00, -6.25854365e-20],\n",
       "       [-5.94597348e-18, -6.25854365e-20,  1.00000000e+00]])"
      ]
     },
     "execution_count": 246,
     "metadata": {},
     "output_type": "execute_result"
    }
   ],
   "source": [
    "np.dot(r,r.T)"
   ]
  },
  {
   "cell_type": "code",
   "execution_count": null,
   "metadata": {
    "collapsed": true
   },
   "outputs": [],
   "source": []
  }
 ],
 "metadata": {
  "kernelspec": {
   "display_name": "Python 3",
   "language": "python",
   "name": "python3"
  },
  "language_info": {
   "codemirror_mode": {
    "name": "ipython",
    "version": 3
   },
   "file_extension": ".py",
   "mimetype": "text/x-python",
   "name": "python",
   "nbconvert_exporter": "python",
   "pygments_lexer": "ipython3",
   "version": "3.5.2"
  }
 },
 "nbformat": 4,
 "nbformat_minor": 2
}
