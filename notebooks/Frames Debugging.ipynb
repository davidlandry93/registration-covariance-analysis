{
 "cells": [
  {
   "cell_type": "code",
   "execution_count": null,
   "metadata": {
    "collapsed": true
   },
   "outputs": [],
   "source": [
    "%load_ext autoreload\n",
    "%autoreload 2"
   ]
  },
  {
   "cell_type": "code",
   "execution_count": null,
   "metadata": {
    "collapsed": true
   },
   "outputs": [],
   "source": [
    "import orebro_dataset as oru\n",
    "import numpy as np\n",
    "import pathlib"
   ]
  },
  {
   "cell_type": "code",
   "execution_count": null,
   "metadata": {
    "collapsed": true
   },
   "outputs": [],
   "source": [
    "sensorpose = oru.poses_of_csv(pathlib.Path('../build/oru/arla/sensorpose_est.txt'))\n",
    "gt = oru.poses_of_csv(pathlib.Path('../build/oru/arla/gt.txt'))\n",
    "odom = oru.poses_of_csv(pathlib.Path('../build/oru/arla/est.txt'))"
   ]
  },
  {
   "cell_type": "code",
   "execution_count": null,
   "metadata": {
    "collapsed": true
   },
   "outputs": [],
   "source": [
    "sensorpose_c = oru.poses_of_csv(pathlib.Path('../build/oru/coop/sensorpose_est.txt'))\n",
    "gt_c = oru.poses_of_csv(pathlib.Path('../build/oru/coop/gt.txt'))\n",
    "odom_c = oru.poses_of_csv(pathlib.Path('../build/oru/coop/est.txt'))"
   ]
  },
  {
   "cell_type": "code",
   "execution_count": null,
   "metadata": {},
   "outputs": [],
   "source": [
    "np.dot(np.linalg.inv(odom_c[0]), sensorpose_c[0])"
   ]
  },
  {
   "cell_type": "code",
   "execution_count": null,
   "metadata": {},
   "outputs": [],
   "source": [
    "np.dot(np.linalg.inv(odom[0]), sensorpose[0])"
   ]
  },
  {
   "cell_type": "code",
   "execution_count": null,
   "metadata": {},
   "outputs": [],
   "source": [
    "sensorpose[0]"
   ]
  },
  {
   "cell_type": "code",
   "execution_count": null,
   "metadata": {},
   "outputs": [],
   "source": [
    "gt[0]"
   ]
  },
  {
   "cell_type": "code",
   "execution_count": null,
   "metadata": {},
   "outputs": [],
   "source": [
    "np.dot(np.linalg.inv(odom[0]), sensorpose[0])"
   ]
  },
  {
   "cell_type": "code",
   "execution_count": null,
   "metadata": {},
   "outputs": [],
   "source": [
    "np.rad2deg(np.arctan2(-0.99957, -0.029199))"
   ]
  },
  {
   "cell_type": "code",
   "execution_count": null,
   "metadata": {
    "collapsed": true
   },
   "outputs": [],
   "source": []
  },
  {
   "cell_type": "code",
   "execution_count": null,
   "metadata": {},
   "outputs": [],
   "source": [
    "sensor_in_vehicule = np.dot(np.linalg.inv(odom_c[0]), sensorpose_c[0])\n",
    "np.arctan2(sensor_in_vehicule[1,0], sensor_in_vehicule[0,0])"
   ]
  },
  {
   "cell_type": "code",
   "execution_count": null,
   "metadata": {},
   "outputs": [],
   "source": [
    "sensor_in_vehicule"
   ]
  },
  {
   "cell_type": "code",
   "execution_count": null,
   "metadata": {},
   "outputs": [],
   "source": [
    "for i in range(len(odom_c)):\n",
    "    sensor_in_vehicule = np.dot(np.linalg.inv(odom_c[i]), sensorpose_c[i])\n",
    "    angle = np.rad2deg(np.arctan2(sensor_in_vehicule[1,0], sensor_in_vehicule[0,0]))\n",
    "    print(angle)"
   ]
  },
  {
   "cell_type": "code",
   "execution_count": null,
   "metadata": {},
   "outputs": [],
   "source": [
    "for i in range(len(odom)):\n",
    "    sensor_in_vehicule = np.dot(np.linalg.inv(gt[i]), sensorpose[i])\n",
    "    angle = np.rad2deg(np.arctan2(sensor_in_vehicule[1,0], sensor_in_vehicule[0,0]))\n",
    "    print(angle)"
   ]
  },
  {
   "cell_type": "code",
   "execution_count": null,
   "metadata": {
    "collapsed": true
   },
   "outputs": [],
   "source": []
  }
 ],
 "metadata": {
  "kernelspec": {
   "display_name": "Python 3",
   "language": "python",
   "name": "python3"
  },
  "language_info": {
   "codemirror_mode": {
    "name": "ipython",
    "version": 3
   },
   "file_extension": ".py",
   "mimetype": "text/x-python",
   "name": "python",
   "nbconvert_exporter": "python",
   "pygments_lexer": "ipython3",
   "version": "3.6.1"
  }
 },
 "nbformat": 4,
 "nbformat_minor": 2
}
