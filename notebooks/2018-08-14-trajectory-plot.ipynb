{
 "cells": [
  {
   "cell_type": "code",
   "execution_count": 1,
   "metadata": {},
   "outputs": [
    {
     "name": "stdout",
     "output_type": "stream",
     "text": [
      "{\n",
      "  \"kernel_name\": \"\",\n",
      "  \"hb_port\": 50913,\n",
      "  \"iopub_port\": 45207,\n",
      "  \"stdin_port\": 55133,\n",
      "  \"key\": \"2fe07001-3ece52078c41381229c6f6b5\",\n",
      "  \"signature_scheme\": \"hmac-sha256\",\n",
      "  \"transport\": \"tcp\",\n",
      "  \"shell_port\": 52735,\n",
      "  \"ip\": \"127.0.0.1\",\n",
      "  \"control_port\": 53783\n",
      "}\n",
      "\n",
      "Paste the above JSON into a file, and connect with:\n",
      "    $> jupyter <app> --existing <file>\n",
      "or, if you are local, you can connect with just:\n",
      "    $> jupyter <app> --existing kernel-580cbe18-b52e-48f5-886d-73bedbc39567.json\n",
      "or even just:\n",
      "    $> jupyter <app> --existing\n",
      "if this is the most recent Jupyter kernel you have started.\n"
     ]
    }
   ],
   "source": [
    "%connect_info"
   ]
  },
  {
   "cell_type": "code",
   "execution_count": 2,
   "metadata": {},
   "outputs": [],
   "source": [
    "%load_ext autoreload\n",
    "%autoreload 2\n",
    "%matplotlib notebook"
   ]
  },
  {
   "cell_type": "code",
   "execution_count": 3,
   "metadata": {
    "collapsed": true
   },
   "outputs": [],
   "source": [
    "import json\n",
    "import matplotlib.patches\n",
    "import matplotlib.pyplot as plt\n",
    "import numpy as np\n",
    "\n",
    "from lieroy import se3\n",
    "from recov.registration_algorithm import IcpAlgorithm\n",
    "from recov.censi import registration_and_censi_estimate_from_points\n",
    "from recov.datasets import create_registration_dataset\n",
    "import recova.covariance\n",
    "import recova.clustering\n",
    "from recova.descriptor.factory import descriptor_factory\n",
    "from recova.learning.learning import model_from_file\n",
    "from recova.registration_result_database import RegistrationPairDatabase"
   ]
  },
  {
   "cell_type": "code",
   "execution_count": 4,
   "metadata": {},
   "outputs": [],
   "source": [
    "dataset = create_registration_dataset('ethz', '~/dataset/ethz/wood_summer')\n",
    "database = RegistrationPairDatabase('/home/dlandry/dataset/db_eth_05/')\n",
    "\n",
    "with open('/home/dlandry/dataset/learning_sets/2018-08-10-wood.json') as f:\n",
    "    learning_set = json.load(f)\n",
    "\n",
    "with open('/home/dlandry/dataset/learning_runs/2018-08-13-wood-summer.json') as f:\n",
    "    learning_run = json.load(f)\n",
    "    \n",
    "with open('/home/dlandry/dataset/toto.json') as f:\n",
    "    censi_estimates = json.load(f)\n",
    "    \n",
    "model = model_from_file('/home/dlandry/dataset/learning_runs/2018-08-13-wood-summer.model', 'cello')\n",
    "\n",
    "icp_algo = IcpAlgorithm()\n",
    "icp_algo.estimate_dist_type = 'normal'\n",
    "icp_algo.initial_estimate_covariance = 0.05\n",
    "icp_algo.initial_estimate_covariance_rot = 0.05"
   ]
  },
  {
   "cell_type": "code",
   "execution_count": 5,
   "metadata": {
    "collapsed": true
   },
   "outputs": [],
   "source": [
    "descriptor_algo = descriptor_factory(learning_run['metadata']['descriptor_config'])\n",
    "\n",
    "clustering = recova.clustering.CenteredClusteringAlgorithm(0.005, 100)\n",
    "covariance_algo = recova.covariance.SamplingCovarianceComputationAlgorithm(clustering)\n",
    "censi_algo = recova.covariance.CensiCovarianceComputationAlgorithm()"
   ]
  },
  {
   "cell_type": "code",
   "execution_count": 6,
   "metadata": {
    "collapsed": true
   },
   "outputs": [],
   "source": [
    "all_pairs = database.registration_pairs()\n",
    "\n",
    "pairs = list(filter(lambda x: x.dataset == 'wood_summer' and x.reference == x.reading - 1, all_pairs))"
   ]
  },
  {
   "cell_type": "code",
   "execution_count": null,
   "metadata": {},
   "outputs": [],
   "source": [
    "len(pairs)"
   ]
  },
  {
   "cell_type": "code",
   "execution_count": null,
   "metadata": {
    "scrolled": true
   },
   "outputs": [],
   "source": [
    "censi_covariances = np.empty((len(pairs), 6, 6))\n",
    "icp_results = np.empty((len(pairs), 4, 4))\n",
    "\n",
    "for i, pair in enumerate(pairs):\n",
    "    print('{}/{}'.format(i, len(pairs)))\n",
    "    t, covariance = registration_and_censi_estimate_from_points(pair.points_of_reading(), pair.points_of_reference(), pair.initial_estimate(), icp_algo)\n",
    "    censi_covariances[i] = covariance\n",
    "    icp_results[i] = t"
   ]
  },
  {
   "cell_type": "code",
   "execution_count": null,
   "metadata": {
    "collapsed": true
   },
   "outputs": [],
   "source": [
    "descriptors = np.zeros((len(pairs), len(descriptor_algo.labels())))\n",
    "\n",
    "for i, pair in enumerate(pairs):\n",
    "    descriptors[i] = descriptor_algo.compute(pair)\n",
    "\n",
    "predictions = model.predict(descriptors)"
   ]
  },
  {
   "cell_type": "code",
   "execution_count": null,
   "metadata": {
    "collapsed": true
   },
   "outputs": [],
   "source": [
    "def build_trajectory(ts):\n",
    "    trajectory = np.empty((len(ts) + 1, 4, 4))\n",
    "    trajectory[0] = np.identity(4)\n",
    "    for i in range(len(ts)):\n",
    "        trajectory[i+1] = ts[i] @ trajectory[i]\n",
    "        \n",
    "    return trajectory"
   ]
  },
  {
   "cell_type": "code",
   "execution_count": null,
   "metadata": {},
   "outputs": [],
   "source": [
    "icp_trajectory = build_trajectory(icp_results)\n",
    "icp_trajectory.shape"
   ]
  },
  {
   "cell_type": "code",
   "execution_count": null,
   "metadata": {},
   "outputs": [],
   "source": [
    "ground_truth = np.empty((dataset.n_clouds(), 4, 4))\n",
    "for i in range(len(ground_truth) - 1):\n",
    "    ground_truth[i] = dataset.ground_truth(i+1, i)\n",
    "    \n",
    "gt_trajectory = build_trajectory(ground_truth)\n",
    "gt_trajectory.shape"
   ]
  },
  {
   "cell_type": "code",
   "execution_count": null,
   "metadata": {
    "collapsed": true
   },
   "outputs": [],
   "source": [
    "def plot_trajectory(trajectory, ax, color=None):\n",
    "    ax.plot(trajectory[:,0,3], trajectory[:,1,3], color=color)\n"
   ]
  },
  {
   "cell_type": "code",
   "execution_count": null,
   "metadata": {
    "collapsed": true
   },
   "outputs": [],
   "source": [
    "def mahalanobis(diff, covariance):\n",
    "    return np.sqrt(diff @ (np.linalg.inv(covariance) @ diff))"
   ]
  },
  {
   "cell_type": "code",
   "execution_count": null,
   "metadata": {
    "collapsed": true
   },
   "outputs": [],
   "source": [
    "def plot_covariance(mean, covariance, ax):\n",
    "    eigvals, eigvecs = np.linalg.eig(covariance[0:2,0:2])\n",
    "    angle = np.arctan2(eigvecs[0,0], eigvecs[0,1]) * 360 / (2 * np.pi)\n",
    "    width, height = 3 * np.sqrt(eigvals)\n",
    "\n",
    "    ellipse = matplotlib.patches.Ellipse(xy=mean[0:2,3], width=width, height=height, angle=angle * 360 / (2 * np.pi), fill=False)\n",
    "    ax.add_artist(ellipse)\n",
    "    \n",
    "    "
   ]
  },
  {
   "cell_type": "code",
   "execution_count": null,
   "metadata": {
    "collapsed": true
   },
   "outputs": [],
   "source": [
    "cum_censi_estimate = np.cumsum(censi_covariances, axis=0)\n",
    "cum_cello_estimate = np.cumsum(predictions, axis=0)"
   ]
  },
  {
   "cell_type": "code",
   "execution_count": null,
   "metadata": {
    "scrolled": false
   },
   "outputs": [],
   "source": [
    "fig, ax = plt.subplots()\n",
    "ax.set_aspect('equal')\n",
    "\n",
    "plot_trajectory(icp_trajectory, ax, color='0.5')\n",
    "plot_trajectory(gt_trajectory, ax, color='0.0')\n",
    "\n",
    "for i in range(len(icp_trajectory) - 1):\n",
    "    plot_covariance(icp_trajectory[i], cum_cello_estimate[i], ax)\n",
    "\n",
    "\n",
    "plt.show()"
   ]
  },
  {
   "cell_type": "code",
   "execution_count": null,
   "metadata": {
    "collapsed": true
   },
   "outputs": [],
   "source": [
    "\n",
    "\n",
    "censi_mahalanobis = np.empty(len(icp_trajectory))\n",
    "cello_mahalanobis = np.empty(len(icp_trajectory))\n",
    "for i in range(len(icp_trajectory)):\n",
    "    diff = np.linalg.inv(icp_trajectory[i]) @ gt_trajectory[i]\n",
    "    diff_algebra = se3.log(diff)\n",
    "    \n",
    "    inv_cov = np.linalg.inv(cum_cello_estimate)\n",
    "    \n",
    "    cello_mahalanobis[i] = mahalanobis(diff_algebra, cum_cello_estimate[i])\n",
    "    censi_mahalanobis[i] = mahalanobis(diff_algebra, cum_censi_estimate[i])"
   ]
  },
  {
   "cell_type": "code",
   "execution_count": null,
   "metadata": {},
   "outputs": [],
   "source": [
    "fig, ax = plt.subplots()\n",
    "\n",
    "ax.plot(list(range(len(cello_mahalanobis))), cello_mahalanobis)\n",
    "#plt.plot(list(range(len(censi_mahalanobis))), censi_mahalanobis)"
   ]
  },
  {
   "cell_type": "code",
   "execution_count": null,
   "metadata": {
    "collapsed": true
   },
   "outputs": [],
   "source": [
    "plt.show()"
   ]
  },
  {
   "cell_type": "code",
   "execution_count": null,
   "metadata": {
    "collapsed": true
   },
   "outputs": [],
   "source": []
  }
 ],
 "metadata": {
  "kernelspec": {
   "display_name": "Python 3",
   "language": "python",
   "name": "python3"
  },
  "language_info": {
   "codemirror_mode": {
    "name": "ipython",
    "version": 3
   },
   "file_extension": ".py",
   "mimetype": "text/x-python",
   "name": "python",
   "nbconvert_exporter": "python",
   "pygments_lexer": "ipython3",
   "version": "3.5.2"
  }
 },
 "nbformat": 4,
 "nbformat_minor": 2
}
