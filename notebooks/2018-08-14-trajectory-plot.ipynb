{
 "cells": [
  {
   "cell_type": "code",
   "execution_count": 2,
   "metadata": {},
   "outputs": [
    {
     "name": "stdout",
     "output_type": "stream",
     "text": [
      "{\n",
      "  \"shell_port\": 36091,\n",
      "  \"key\": \"0ea8c0dc-6d95a8acb61fe461440b49c8\",\n",
      "  \"hb_port\": 33857,\n",
      "  \"kernel_name\": \"\",\n",
      "  \"control_port\": 55285,\n",
      "  \"stdin_port\": 52545,\n",
      "  \"iopub_port\": 47033,\n",
      "  \"transport\": \"tcp\",\n",
      "  \"ip\": \"127.0.0.1\",\n",
      "  \"signature_scheme\": \"hmac-sha256\"\n",
      "}\n",
      "\n",
      "Paste the above JSON into a file, and connect with:\n",
      "    $> jupyter <app> --existing <file>\n",
      "or, if you are local, you can connect with just:\n",
      "    $> jupyter <app> --existing kernel-27797a09-042a-4985-af59-c4f8d77b27f5.json\n",
      "or even just:\n",
      "    $> jupyter <app> --existing\n",
      "if this is the most recent Jupyter kernel you have started.\n"
     ]
    }
   ],
   "source": [
    "%connect_info"
   ]
  },
  {
   "cell_type": "code",
   "execution_count": 3,
   "metadata": {
    "collapsed": true
   },
   "outputs": [],
   "source": [
    "%load_ext autoreload\n",
    "%autoreload 2\n",
    "%matplotlib notebook"
   ]
  },
  {
   "cell_type": "code",
   "execution_count": 4,
   "metadata": {
    "collapsed": true
   },
   "outputs": [],
   "source": [
    "import json\n",
    "import matplotlib.patches\n",
    "import matplotlib.pyplot as plt\n",
    "import numpy as np\n",
    "\n",
    "from lieroy import se3\n",
    "from recov.registration_algorithm import IcpAlgorithm\n",
    "from recov.censi import registration_and_censi_estimate_from_points\n",
    "from recov.datasets import create_registration_dataset\n",
    "import recova.covariance\n",
    "import recova.clustering\n",
    "from recova.descriptor.factory import descriptor_factory\n",
    "from recova.learning.learning import model_from_file\n",
    "from recova.registration_result_database import RegistrationPairDatabase"
   ]
  },
  {
   "cell_type": "code",
   "execution_count": 5,
   "metadata": {},
   "outputs": [
    {
     "name": "stdout",
     "output_type": "stream",
     "text": [
      "[[-0.00185774 -0.00648147  0.99997723  0.33350474]\n",
      " [-0.99996596  0.00805186 -0.00180553 -0.00479611]\n",
      " [-0.00803997 -0.99994655 -0.0064962  -0.07557855]\n",
      " [ 0.          0.          0.          1.        ]]\n"
     ]
    }
   ],
   "source": [
    "dataset = create_registration_dataset('kitti', '/home/dlandry/dataset/kitti/dataset/sequences/10/')\n",
    "database = RegistrationPairDatabase('/home/dlandry/dataset/db_kitti_02/')\n",
    "\n",
    "with open('/home/dlandry/dataset/learning_sets/2018-08-20-kitti-5-10.json') as f:\n",
    "    learning_set = json.load(f)\n",
    "\n",
    "with open('/home/dlandry/dataset/learning_runs/2018-08-20-kitti-05-10.json') as f:\n",
    "    learning_run = json.load(f)\n",
    "    \n",
    "with open('/home/dlandry/dataset/censi_estimates/2018-08-20-kitti10.json') as f:\n",
    "    censi_estimates = json.load(f)\n",
    "    \n",
    "model = model_from_file('/home/dlandry/dataset/learning_runs/2018-08-20-kitti-05-10.model', 'cello')\n",
    "\n",
    "icp_algo = IcpAlgorithm()\n",
    "icp_algo.estimate_dist_type = 'normal'\n",
    "icp_algo.initial_estimate_covariance = 0.05\n",
    "icp_algo.initial_estimate_covariance_rot = 0.05"
   ]
  },
  {
   "cell_type": "code",
   "execution_count": 6,
   "metadata": {
    "collapsed": true
   },
   "outputs": [],
   "source": [
    "descriptor_algo = descriptor_factory(learning_run['metadata']['descriptor_config'])\n",
    "\n",
    "clustering = recova.clustering.CenteredClusteringAlgorithm(0.005, 100)\n",
    "covariance_algo = recova.covariance.SamplingCovarianceComputationAlgorithm(clustering)\n",
    "censi_algo = recova.covariance.CensiCovarianceComputationAlgorithm()"
   ]
  },
  {
   "cell_type": "code",
   "execution_count": 7,
   "metadata": {
    "collapsed": true
   },
   "outputs": [],
   "source": [
    "all_pairs = database.registration_pairs()\n",
    "\n",
    "pairs = list(filter(lambda x: x.dataset == '10' and x.reference == x.reading - 1, all_pairs))"
   ]
  },
  {
   "cell_type": "code",
   "execution_count": 8,
   "metadata": {},
   "outputs": [
    {
     "data": {
      "text/plain": [
       "1200"
      ]
     },
     "execution_count": 8,
     "metadata": {},
     "output_type": "execute_result"
    }
   ],
   "source": [
    "len(pairs)"
   ]
  },
  {
   "cell_type": "code",
   "execution_count": 9,
   "metadata": {
    "scrolled": true
   },
   "outputs": [
    {
     "name": "stdout",
     "output_type": "stream",
     "text": [
      "0/1200\n"
     ]
    },
    {
     "name": "stderr",
     "output_type": "stream",
     "text": [
      "censi_estimate -reading /tmp/b070be27-0180-452c-b64a-0c33a6ccbcad.qpc -reference /tmp/41ec5f8c-5ecc-4b4e-9546-15d58909d389.qpc -ground_truth '[[0.9998804000026431, 0.0013815709878528296, 0.015407559829568783, 0.012101869978391931], [-0.0013659550064853755, 0.9999984999996263, -0.0010239703563923606, 0.00044687355470825196], [-0.015408950169956791, 0.0010028006435147262, 0.9998807999977385, 0.12672809999777768], [0.0, 0.0, 0.0, 1.0]]' -config '{errorMinimizer: PointToPlaneWithCovErrorMinimizer, inspector: NullInspector, logger: NullLogger,\n",
      "  matcher: {KDTreeMatcher: {knn: 3}}, outlierFilters: [{TrimmedDistOutlierFilter: {\n",
      "        ratio: 0.7}}], readingDataPointsFilters: [{SurfaceNormalDataPointsFilter: {\n",
      "        keepDensities: 1, keepEigenValues: 1, knn: 20}}, {RandomSamplingDataPointsFilter: {\n",
      "        prob: 0.75}}, {MaxDensityDataPointsFilter: {maxDensity: 50000}}], referenceDataPointsFilters: [\n",
      "    {SurfaceNormalDataPointsFilter: {keepDensities: 1, keepEigenValues: 1, knn: 20}},\n",
      "    {MaxDensityDataPointsFilter: {maxDensity: 50000}}], transformationCheckers: [\n",
      "    {CounterTransformationChecker: {maxIterationCount: 40}}, DifferentialTransformationChecker]}\n",
      "' -sensor_noise_std 0.01\n"
     ]
    },
    {
     "ename": "KeyboardInterrupt",
     "evalue": "",
     "output_type": "error",
     "traceback": [
      "\u001b[0;31m---------------------------------------------------------------------------\u001b[0m",
      "\u001b[0;31mKeyboardInterrupt\u001b[0m                         Traceback (most recent call last)",
      "\u001b[0;32m<ipython-input-9-36f4b032612a>\u001b[0m in \u001b[0;36m<module>\u001b[0;34m()\u001b[0m\n\u001b[1;32m      4\u001b[0m \u001b[0;32mfor\u001b[0m \u001b[0mi\u001b[0m\u001b[0;34m,\u001b[0m \u001b[0mpair\u001b[0m \u001b[0;32min\u001b[0m \u001b[0menumerate\u001b[0m\u001b[0;34m(\u001b[0m\u001b[0mpairs\u001b[0m\u001b[0;34m)\u001b[0m\u001b[0;34m:\u001b[0m\u001b[0;34m\u001b[0m\u001b[0m\n\u001b[1;32m      5\u001b[0m     \u001b[0mprint\u001b[0m\u001b[0;34m(\u001b[0m\u001b[0;34m'{}/{}'\u001b[0m\u001b[0;34m.\u001b[0m\u001b[0mformat\u001b[0m\u001b[0;34m(\u001b[0m\u001b[0mi\u001b[0m\u001b[0;34m,\u001b[0m \u001b[0mlen\u001b[0m\u001b[0;34m(\u001b[0m\u001b[0mpairs\u001b[0m\u001b[0;34m)\u001b[0m\u001b[0;34m)\u001b[0m\u001b[0;34m)\u001b[0m\u001b[0;34m\u001b[0m\u001b[0m\n\u001b[0;32m----> 6\u001b[0;31m     \u001b[0mt\u001b[0m\u001b[0;34m,\u001b[0m \u001b[0mcovariance\u001b[0m \u001b[0;34m=\u001b[0m \u001b[0mregistration_and_censi_estimate_from_points\u001b[0m\u001b[0;34m(\u001b[0m\u001b[0mpair\u001b[0m\u001b[0;34m.\u001b[0m\u001b[0mpoints_of_reading\u001b[0m\u001b[0;34m(\u001b[0m\u001b[0;34m)\u001b[0m\u001b[0;34m,\u001b[0m \u001b[0mpair\u001b[0m\u001b[0;34m.\u001b[0m\u001b[0mpoints_of_reference\u001b[0m\u001b[0;34m(\u001b[0m\u001b[0;34m)\u001b[0m\u001b[0;34m,\u001b[0m \u001b[0mpair\u001b[0m\u001b[0;34m.\u001b[0m\u001b[0minitial_estimate\u001b[0m\u001b[0;34m(\u001b[0m\u001b[0;34m)\u001b[0m\u001b[0;34m,\u001b[0m \u001b[0micp_algo\u001b[0m\u001b[0;34m)\u001b[0m\u001b[0;34m\u001b[0m\u001b[0m\n\u001b[0m\u001b[1;32m      7\u001b[0m     \u001b[0mcensi_covariances\u001b[0m\u001b[0;34m[\u001b[0m\u001b[0mi\u001b[0m\u001b[0;34m]\u001b[0m \u001b[0;34m=\u001b[0m \u001b[0mcovariance\u001b[0m\u001b[0;34m\u001b[0m\u001b[0m\n\u001b[1;32m      8\u001b[0m     \u001b[0micp_results\u001b[0m\u001b[0;34m[\u001b[0m\u001b[0mi\u001b[0m\u001b[0;34m]\u001b[0m \u001b[0;34m=\u001b[0m \u001b[0mt\u001b[0m\u001b[0;34m\u001b[0m\u001b[0m\n",
      "\u001b[0;32m~/repos/registration-covariance/py/recov/censi.py\u001b[0m in \u001b[0;36mregistration_and_censi_estimate_from_points\u001b[0;34m(reading, reference, initial_estimate, algo, sensor_noise_std)\u001b[0m\n\u001b[1;32m     78\u001b[0m     \u001b[0mpointcloud_to_qpc_file\u001b[0m\u001b[0;34m(\u001b[0m\u001b[0mreference\u001b[0m\u001b[0;34m,\u001b[0m \u001b[0mreference_fifo_name\u001b[0m\u001b[0;34m)\u001b[0m\u001b[0;34m\u001b[0m\u001b[0m\n\u001b[1;32m     79\u001b[0m \u001b[0;34m\u001b[0m\u001b[0m\n\u001b[0;32m---> 80\u001b[0;31m     \u001b[0mresponse\u001b[0m \u001b[0;34m=\u001b[0m \u001b[0mproc\u001b[0m\u001b[0;34m.\u001b[0m\u001b[0mstdout\u001b[0m\u001b[0;34m.\u001b[0m\u001b[0mread\u001b[0m\u001b[0;34m(\u001b[0m\u001b[0;34m)\u001b[0m\u001b[0;34m\u001b[0m\u001b[0m\n\u001b[0m\u001b[1;32m     81\u001b[0m \u001b[0;34m\u001b[0m\u001b[0m\n\u001b[1;32m     82\u001b[0m     \u001b[0mresult\u001b[0m \u001b[0;34m=\u001b[0m \u001b[0mjson\u001b[0m\u001b[0;34m.\u001b[0m\u001b[0mloads\u001b[0m\u001b[0;34m(\u001b[0m\u001b[0mresponse\u001b[0m\u001b[0;34m)\u001b[0m\u001b[0;34m\u001b[0m\u001b[0m\n",
      "\u001b[0;31mKeyboardInterrupt\u001b[0m: "
     ]
    }
   ],
   "source": [
    "censi_covariances = np.empty((len(pairs), 6, 6))\n",
    "icp_results = np.empty((len(pairs), 4, 4))\n",
    "\n",
    "for i, pair in enumerate(pairs):\n",
    "    print('{}/{}'.format(i, len(pairs)))\n",
    "    t, covariance = registration_and_censi_estimate_from_points(pair.points_of_reading(), pair.points_of_reference(), pair.initial_estimate(), icp_algo)\n",
    "    censi_covariances[i] = covariance\n",
    "    icp_results[i] = t"
   ]
  },
  {
   "cell_type": "code",
   "execution_count": null,
   "metadata": {
    "collapsed": true
   },
   "outputs": [],
   "source": [
    "descriptors = np.zeros((len(pairs), len(descriptor_algo.labels())))\n",
    "\n",
    "for i, pair in enumerate(pairs):\n",
    "    descriptors[i] = descriptor_algo.compute(pair)\n",
    "\n",
    "predictions = model.predict(descriptors)"
   ]
  },
  {
   "cell_type": "code",
   "execution_count": null,
   "metadata": {
    "collapsed": true
   },
   "outputs": [],
   "source": [
    "def build_trajectory(ts):\n",
    "    trajectory = np.empty((len(ts) + 1, 4, 4))\n",
    "    trajectory[0] = np.identity(4)\n",
    "    for i in range(len(ts)):\n",
    "        trajectory[i+1] = ts[i] @ trajectory[i]\n",
    "        \n",
    "    return trajectory"
   ]
  },
  {
   "cell_type": "code",
   "execution_count": null,
   "metadata": {
    "collapsed": true
   },
   "outputs": [],
   "source": [
    "icp_trajectory = build_trajectory(icp_results)\n",
    "icp_trajectory.shape"
   ]
  },
  {
   "cell_type": "code",
   "execution_count": null,
   "metadata": {
    "collapsed": true
   },
   "outputs": [],
   "source": [
    "ground_truth = np.empty((dataset.n_clouds(), 4, 4))\n",
    "for i in range(len(ground_truth) - 1):\n",
    "    ground_truth[i] = dataset.ground_truth(i+1, i)\n",
    "    \n",
    "gt_trajectory = build_trajectory(ground_truth)\n",
    "gt_trajectory.shape"
   ]
  },
  {
   "cell_type": "code",
   "execution_count": null,
   "metadata": {
    "collapsed": true
   },
   "outputs": [],
   "source": [
    "def plot_trajectory(trajectory, ax, color=None):\n",
    "    ax.plot(trajectory[:,0,3], trajectory[:,1,3], color=color)\n"
   ]
  },
  {
   "cell_type": "code",
   "execution_count": null,
   "metadata": {
    "collapsed": true
   },
   "outputs": [],
   "source": [
    "def mahalanobis(diff, covariance):\n",
    "    return np.sqrt(diff @ (np.linalg.inv(covariance) @ diff))"
   ]
  },
  {
   "cell_type": "code",
   "execution_count": null,
   "metadata": {
    "collapsed": true
   },
   "outputs": [],
   "source": [
    "def plot_covariance(mean, covariance, ax):\n",
    "    eigvals, eigvecs = np.linalg.eig(covariance[0:2,0:2])\n",
    "    sort_indices = np.argsort(eigvals)\n",
    "    eigvals, eigvecs = eigvals()\n",
    "    angle = np.arctan2(eigvecs[0,0], eigvecs[0,1]) * 360 / (2 * np.pi)\n",
    "    width, height = 3 * np.sqrt(eigvals)\n",
    "\n",
    "    ellipse = matplotlib.patches.Ellipse(xy=mean[0:2,3], width=width, height=height, angle=angle * 360 / (2 * np.pi), fill=False)\n",
    "    ax.add_artist(ellipse)\n",
    "    \n",
    "    "
   ]
  },
  {
   "cell_type": "code",
   "execution_count": null,
   "metadata": {
    "collapsed": true
   },
   "outputs": [],
   "source": [
    "cum_censi_estimate = np.cumsum(censi_covariances, axis=0)\n",
    "cum_cello_estimate = np.cumsum(predictions, axis=0)"
   ]
  },
  {
   "cell_type": "code",
   "execution_count": null,
   "metadata": {
    "collapsed": true,
    "scrolled": false
   },
   "outputs": [],
   "source": [
    "fig, ax = plt.subplots()\n",
    "ax.set_aspect('equal')\n",
    "\n",
    "plot_trajectory(icp_trajectory, ax, color='0.5')\n",
    "plot_trajectory(gt_trajectory, ax, color='0.0')\n",
    "\n",
    "for i in range(len(icp_trajectory) - 1):\n",
    "    plot_covariance(icp_trajectory[i], cum_cello_estimate[i], ax)\n",
    "\n",
    "\n",
    "plt.show()"
   ]
  },
  {
   "cell_type": "code",
   "execution_count": null,
   "metadata": {
    "collapsed": true
   },
   "outputs": [],
   "source": [
    "\n",
    "\n",
    "censi_mahalanobis = np.empty(len(icp_trajectory))\n",
    "cello_mahalanobis = np.empty(len(icp_trajectory))\n",
    "for i in range(len(icp_trajectory)):\n",
    "    diff = np.linalg.inv(icp_trajectory[i]) @ gt_trajectory[i]\n",
    "    diff_algebra = se3.log(diff)\n",
    "    \n",
    "    inv_cov = np.linalg.inv(cum_cello_estimate)\n",
    "    \n",
    "    cello_mahalanobis[i] = mahalanobis(diff_algebra, cum_cello_estimate[i])\n",
    "    censi_mahalanobis[i] = mahalanobis(diff_algebra, cum_censi_estimate[i])"
   ]
  },
  {
   "cell_type": "code",
   "execution_count": null,
   "metadata": {
    "collapsed": true
   },
   "outputs": [],
   "source": [
    "fig, ax = plt.subplots()\n",
    "\n",
    "ax.plot(list(range(len(cello_mahalanobis))), cello_mahalanobis)\n",
    "#plt.plot(list(range(len(censi_mahalanobis))), censi_mahalanobis)"
   ]
  },
  {
   "cell_type": "code",
   "execution_count": null,
   "metadata": {
    "collapsed": true
   },
   "outputs": [],
   "source": [
    "plt.show()"
   ]
  },
  {
   "cell_type": "code",
   "execution_count": null,
   "metadata": {
    "collapsed": true
   },
   "outputs": [],
   "source": []
  }
 ],
 "metadata": {
  "kernelspec": {
   "display_name": "Python 3",
   "language": "python",
   "name": "python3"
  },
  "language_info": {
   "codemirror_mode": {
    "name": "ipython",
    "version": 3
   },
   "file_extension": ".py",
   "mimetype": "text/x-python",
   "name": "python",
   "nbconvert_exporter": "python",
   "pygments_lexer": "ipython3",
   "version": "3.5.2"
  }
 },
 "nbformat": 4,
 "nbformat_minor": 2
}
