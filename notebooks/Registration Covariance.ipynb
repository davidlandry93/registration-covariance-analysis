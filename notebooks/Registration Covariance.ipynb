{
 "cells": [
  {
   "cell_type": "markdown",
   "metadata": {},
   "source": [
    "# Registration covariance\n",
    "\n",
    "Analysis of the behavior of two registration algorithms: ICP and NDP.\n",
    "I will use pandas for this.\n",
    "\n",
    "The purpose of this document is to analyse data collected with the registration-covariance program.\n",
    "This dataset contains a lot of pointcloud registration runs, so we can analyze the behavior of these algorithms."
   ]
  },
  {
   "cell_type": "code",
   "execution_count": null,
   "metadata": {
    "collapsed": true
   },
   "outputs": [],
   "source": [
    "%load_ext autoreload\n",
    "%autoreload 2"
   ]
  },
  {
   "cell_type": "code",
   "execution_count": null,
   "metadata": {
    "collapsed": true
   },
   "outputs": [],
   "source": [
    "import json\n",
    "import matplotlib\n",
    "import matplotlib.pyplot as plt\n",
    "import numpy as np\n",
    "import os\n",
    "import pandas as pd\n",
    "import pathlib"
   ]
  },
  {
   "cell_type": "markdown",
   "metadata": {},
   "source": [
    "First let's load the data."
   ]
  },
  {
   "cell_type": "code",
   "execution_count": null,
   "metadata": {
    "scrolled": false
   },
   "outputs": [],
   "source": [
    "frames = []\n",
    "\n",
    "path = pathlib.Path('/home/david/dataset/recov')\n",
    "#files = list(path.iterdir())\n",
    "#files = ['/home/david/dataset/recov/2017-05-17-apartment.csv',\n",
    "#        '/home/david/dataset/recov/2017-05-17-gazebo-summer.csv',\n",
    "#        '/home/david/dataset/recov/2017-05-17-gazebo-winter.csv',\n",
    "#         '/home/david/dataset/recov/2017-05-17-hauptgebaude.csv',\n",
    "#         '/home/david/dataset/recov/2017-05-17-plain.csv',\n",
    "#         '/home/david/dataset/recov/2017-05-17-wood-autumn.csv',\n",
    "#        '/home/david/dataset/recov/2017-05-17-wood-summer.csv']\n",
    "\n",
    "files = ['/home/dlandry/dataset/recov/apartment.csv']\n",
    "\n",
    "for file in files:\n",
    "    entry = pathlib.Path(file)\n",
    "    if entry.suffix == '.csv' and entry.is_file():\n",
    "        frames.append(pd.read_csv(entry))\n",
    "    \n",
    "dataset = pd.concat(frames)\n",
    "dataset.index = range(len(dataset))\n",
    "\n",
    "len(dataset)"
   ]
  },
  {
   "cell_type": "code",
   "execution_count": null,
   "metadata": {},
   "outputs": [],
   "source": [
    "dataset[0:3]"
   ]
  },
  {
   "cell_type": "markdown",
   "metadata": {},
   "source": [
    "Fun fact: we ran a lot of registrations to get this dataset."
   ]
  },
  {
   "cell_type": "code",
   "execution_count": null,
   "metadata": {},
   "outputs": [],
   "source": [
    "dataset['n_samples'].sum()"
   ]
  },
  {
   "cell_type": "markdown",
   "metadata": {},
   "source": [
    "## ICP Algorithm\n",
    "\n",
    "To begin, let's analyze the behavior of ICP when we play with various variables."
   ]
  },
  {
   "cell_type": "code",
   "execution_count": null,
   "metadata": {
    "collapsed": true
   },
   "outputs": [],
   "source": [
    "icp_dataset = dataset[dataset['algorithm'] == 'icp']"
   ]
  },
  {
   "cell_type": "markdown",
   "metadata": {},
   "source": [
    "### Distribution of errors"
   ]
  },
  {
   "cell_type": "code",
   "execution_count": null,
   "metadata": {},
   "outputs": [],
   "source": [
    "fig, [[axx, axy], [axz, axt]] = plt.subplots(2,2, sharey=True, figsize=(20,10))\n",
    "\n",
    "dataset.hist(column='bias_x', ax=axx, bins=100)\n",
    "dataset.hist(column='bias_y', ax=axy, bins=100)\n",
    "dataset.hist(column='bias_z', ax=axz, bins=100)\n",
    "dataset.hist(column='bias_theta', ax=axt, bins=100)\n",
    "\n",
    "plt.show()"
   ]
  },
  {
   "cell_type": "code",
   "execution_count": null,
   "metadata": {},
   "outputs": [],
   "source": [
    "dataset[dataset['dataset'] != 'apartment'].hist(column='bias_y', by='algorithm', bins=50)\n",
    "dataset.hist(column='bias_y', by='dataset', bins=50)\n",
    "plt.show()"
   ]
  },
  {
   "cell_type": "code",
   "execution_count": null,
   "metadata": {},
   "outputs": [],
   "source": [
    "dataset.std()"
   ]
  },
  {
   "cell_type": "code",
   "execution_count": null,
   "metadata": {},
   "outputs": [],
   "source": [
    "dataset.boxplot(column='var_x', by='algorithm')\n",
    "plt.show()"
   ]
  },
  {
   "cell_type": "code",
   "execution_count": null,
   "metadata": {},
   "outputs": [],
   "source": [
    "icp_dataset.boxplot(column='gt_mahalanobis_distance')\n",
    "plt.show()"
   ]
  },
  {
   "cell_type": "code",
   "execution_count": null,
   "metadata": {
    "scrolled": true
   },
   "outputs": [],
   "source": [
    "dataset.boxplot(column='bias_norm', by='algorithm')\n",
    "plt.show()"
   ]
  },
  {
   "cell_type": "code",
   "execution_count": null,
   "metadata": {},
   "outputs": [],
   "source": [
    "icp_dataset[icp_dataset['reading'] - icp_dataset['reference'] < 7].boxplot(column='bias_norm', by='dataset')\n",
    "plt.show()"
   ]
  },
  {
   "cell_type": "code",
   "execution_count": null,
   "metadata": {},
   "outputs": [],
   "source": [
    "icp_dataset.boxplot(column='rotation_mean_gt', by='dataset')\n",
    "plt.show()"
   ]
  },
  {
   "cell_type": "markdown",
   "metadata": {},
   "source": [
    "### Effect of the distance between the input scans\n",
    "\n",
    "This first plot shows how far the result is from the ground truth as the difficulty of the registration increases. \n",
    "By result we mean the distribution of transformations output by the registration algorithm.\n",
    "By increased difficulty we mean that the ground truth distance between the two scans to register is larger."
   ]
  },
  {
   "cell_type": "code",
   "execution_count": null,
   "metadata": {
    "scrolled": true
   },
   "outputs": [],
   "source": [
    "icp_dataset.plot(kind='scatter', x='dist_between_scans', y='gt_mahalanobis_distance', s=1, figsize=(10,5))\n",
    "plt.show()"
   ]
  },
  {
   "cell_type": "code",
   "execution_count": null,
   "metadata": {
    "scrolled": false
   },
   "outputs": [],
   "source": [
    "icp_dataset.plot(kind='scatter', x='dist_between_scans', y='translation_mean_gt', s=1, figsize=(10,5))\n",
    "plt.show()"
   ]
  },
  {
   "cell_type": "code",
   "execution_count": null,
   "metadata": {
    "collapsed": true
   },
   "outputs": [],
   "source": [
    "fig, ax = plt.subplots()\n",
    "icp_dataset[icp_dataset['dataset'] == 'coop'].plot(kind='scatter', x='dist_between_scans', y='translation_mean_gt', s=1, figsize=(10,5), ax=ax, color='red')\n",
    "icp_dataset[icp_dataset['dataset'] == 'arla'].plot(kind='scatter', x='dist_between_scans', y='translation_mean_gt', s=1, figsize=(10,5), ax=ax, color='blue')\n",
    "plt.show()"
   ]
  },
  {
   "cell_type": "code",
   "execution_count": null,
   "metadata": {
    "collapsed": true
   },
   "outputs": [],
   "source": [
    "fig, ax = plt.subplots()\n",
    "icp_dataset[icp_dataset['dataset'] == 'coop'].plot(kind='scatter', x='dist_between_scans', y='rotation_mean_gt', s=1, figsize=(10,5), ax=ax, color='red')\n",
    "icp_dataset[icp_dataset['dataset'] == 'arla'].plot(kind='scatter', x='dist_between_scans', y='rotation_mean_gt', s=1, figsize=(10,5), ax=ax, color='blue')\n",
    "plt.show()"
   ]
  },
  {
   "cell_type": "markdown",
   "metadata": {},
   "source": [
    "This next figure represents the growth of the covariance as the difficulty of the registration increases.\n",
    "In this dataset it seems that it is safe to do registration up until 20-30cm of distance between both clouds, after that you become less certain about the result."
   ]
  },
  {
   "cell_type": "code",
   "execution_count": null,
   "metadata": {
    "scrolled": true
   },
   "outputs": [],
   "source": [
    "icp_dataset['cov_norm'].max()\n",
    "\n",
    "icp_dataset.plot(kind='scatter', x='dist_between_scans', y='cov_norm', s=1, figsize=(10,5), ylim=[0.0, 0.0002])\n",
    "plt.show()"
   ]
  },
  {
   "cell_type": "code",
   "execution_count": null,
   "metadata": {},
   "outputs": [],
   "source": [
    "ylim = (0., 0.5)\n",
    "icp_dataset.plot(kind='scatter', x='cov_norm', y='gt_mahalanobis_distance', s=1, figsize=(10,5))\n",
    "plt.show()"
   ]
  },
  {
   "cell_type": "markdown",
   "metadata": {},
   "source": [
    "### Effect of the quality of the initial estimate\n",
    "\n",
    "The results show that icp is indeed less reliable when the scans are further apart. \n",
    "But could it be because the quality of our initial estimates degraded?\n",
    "Let's do some computations to see if it's the case.\n",
    "First we augment our dataset with the disparity data."
   ]
  },
  {
   "cell_type": "markdown",
   "metadata": {},
   "source": [
    "Let's plot the closeness of the groud thruth with respect to the disparity of the estimate."
   ]
  },
  {
   "cell_type": "code",
   "execution_count": null,
   "metadata": {
    "collapsed": true
   },
   "outputs": [],
   "source": [
    "icp_dataset = dataset[dataset['algorithm'] == 'icp']\n",
    "icp_dataset.plot(kind='scatter', x='disparity_gt_estimate', y='gt_mahalanobis_distance', s=1, figsize=(10,5))\n",
    "plt.show()"
   ]
  },
  {
   "cell_type": "markdown",
   "metadata": {},
   "source": [
    "And now the size of the covariance with respect to the disparity of the estimate."
   ]
  },
  {
   "cell_type": "code",
   "execution_count": null,
   "metadata": {
    "collapsed": true
   },
   "outputs": [],
   "source": [
    "ylim = (icp_dataset['cov_norm'].min(), icp_dataset['cov_norm'].max())\n",
    "icp_dataset.plot(kind='scatter', x='disparity_gt_estimate', y='cov_norm', s=1, figsize=(10,5), ylim=ylim)\n",
    "plt.show()"
   ]
  },
  {
   "cell_type": "markdown",
   "metadata": {},
   "source": [
    "Let's see how the disparity and the distance between scans are corellated. If they are very heavily correlated, the last section doesn't tell us much."
   ]
  },
  {
   "cell_type": "code",
   "execution_count": null,
   "metadata": {
    "collapsed": true,
    "scrolled": false
   },
   "outputs": [],
   "source": [
    "ylim = (icp_dataset['disparity_gt_estimate'].min(), icp_dataset['disparity_gt_estimate'].max())\n",
    "icp_dataset.plot(kind='scatter', x='dist_between_scans', y='disparity_gt_estimate', s=1, figsize=(10,5), ylim=ylim)\n",
    "plt.show()"
   ]
  },
  {
   "cell_type": "markdown",
   "metadata": {},
   "source": [
    "We also took note of the covariance of the noise that we artificially induced in the initial estimate.\n",
    "That's another quality metric of the initial estimate.\n",
    "Let's see how it affects the result."
   ]
  },
  {
   "cell_type": "code",
   "execution_count": null,
   "metadata": {
    "collapsed": true,
    "scrolled": false
   },
   "outputs": [],
   "source": [
    "ax = icp_dataset.boxplot(column='gt_mahalanobis_distance', by='initial_estimate_covariance')\n",
    "plt.show()"
   ]
  },
  {
   "cell_type": "code",
   "execution_count": null,
   "metadata": {
    "collapsed": true
   },
   "outputs": [],
   "source": [
    "ax = icp_dataset.boxplot(column='translation_mean_gt', by='initial_estimate_covariance')\n",
    "plt.show()"
   ]
  },
  {
   "cell_type": "markdown",
   "metadata": {},
   "source": [
    "Interestingly, it does not seem to affect the general quality of the estimates, but it does seem to affect the number of outliers. \n",
    "We have to note though that outliers in terms of quantiles does not mean outliers in terms of result; a mahalanobis distance of 0.003, even though it is an outlier of the distribution of results, is still a very low error."
   ]
  },
  {
   "cell_type": "code",
   "execution_count": null,
   "metadata": {
    "collapsed": true,
    "scrolled": true
   },
   "outputs": [],
   "source": [
    "icp_dataset[icp_dataset['gt_mahalanobis_distance'] > 0.003].groupby('initial_estimate_covariance').count()"
   ]
  },
  {
   "cell_type": "markdown",
   "metadata": {},
   "source": [
    "As a proof that these outliers are still satisfactory results, let's see what their human measurements counterpart are."
   ]
  },
  {
   "cell_type": "code",
   "execution_count": null,
   "metadata": {
    "collapsed": true
   },
   "outputs": [],
   "source": [
    "fig, ax = plt.subplots()\n",
    "ax.set_xlim([0.0, 0.001])\n",
    "icp_dataset.plot(kind='scatter', x='gt_mahalanobis_distance', y='translation_mean_gt', s=1, ax=ax)\n",
    "plt.show()"
   ]
  },
  {
   "cell_type": "code",
   "execution_count": null,
   "metadata": {
    "collapsed": true
   },
   "outputs": [],
   "source": [
    "fig, ax = plt.subplots()\n",
    "ax.set_xlim([0.0, 0.01])\n",
    "icp_dataset.plot(kind='scatter', x='gt_mahalanobis_distance', y='rotation_mean_gt', s=1, ax=ax)\n",
    "plt.show()"
   ]
  },
  {
   "cell_type": "markdown",
   "metadata": {},
   "source": [
    "### Computation time\n",
    "\n",
    "Let's see how our difficulty metrics affect the computation time, since ICP is an iterative algorithm."
   ]
  },
  {
   "cell_type": "code",
   "execution_count": null,
   "metadata": {},
   "outputs": [],
   "source": [
    "icp_dataset.plot(kind='scatter', x='dist_between_scans', y='avg_cpu_time', s=1, figsize=(10,5))\n",
    "plt.show()"
   ]
  },
  {
   "cell_type": "code",
   "execution_count": null,
   "metadata": {
    "scrolled": true
   },
   "outputs": [],
   "source": [
    "icp_dataset.plot(kind='scatter', x='disparity_gt_estimate', y='avg_cpu_time', s=1, figsize=(10,5))\n",
    "plt.show()"
   ]
  },
  {
   "cell_type": "code",
   "execution_count": null,
   "metadata": {},
   "outputs": [],
   "source": [
    "fig, ax = plt.subplots()\n",
    "for i, group in icp_dataset.groupby('dataset'):\n",
    "    ax.scatter(x=group['disparity_gt_estimate'], y=group['avg_cpu_time'], s=1)\n",
    "\n",
    "plt.show()"
   ]
  },
  {
   "cell_type": "markdown",
   "metadata": {},
   "source": [
    "### Covariance and error"
   ]
  },
  {
   "cell_type": "code",
   "execution_count": null,
   "metadata": {},
   "outputs": [],
   "source": [
    "icp_dataset.plot(kind='scatter', x='gt_mahalanobis_distance', y='cov_norm', s=1, xlim=[0.0, 0.0005], ylim=[0.0, 0.001])\n",
    "plt.show()"
   ]
  },
  {
   "cell_type": "markdown",
   "metadata": {},
   "source": [
    "## The NDT Algorithm\n",
    "\n",
    "Let's produce similar graphs for NDT."
   ]
  },
  {
   "cell_type": "code",
   "execution_count": null,
   "metadata": {
    "collapsed": true
   },
   "outputs": [],
   "source": [
    "ndt_dataset = dataset.loc[dataset['algorithm'] == 'ndt', :]"
   ]
  },
  {
   "cell_type": "code",
   "execution_count": null,
   "metadata": {},
   "outputs": [],
   "source": [
    "ax = ndt_dataset.boxplot(column='bias_norm')\n",
    "ax.set_ylim([0., 0.5])\n",
    "plt.show()"
   ]
  },
  {
   "cell_type": "code",
   "execution_count": null,
   "metadata": {},
   "outputs": [],
   "source": [
    "ax = ndt_dataset.boxplot(column='rotation_mean_gt')\n",
    "ax.set_ylim([0., 0.5])\n",
    "plt.show()"
   ]
  },
  {
   "cell_type": "code",
   "execution_count": null,
   "metadata": {},
   "outputs": [],
   "source": [
    "ndt_dataset.plot(kind='scatter', x='dist_between_scans', y='gt_mahalanobis_distance', s=1, figsize=(10,5), ylim=[0., 2.])\n",
    "plt.show()"
   ]
  },
  {
   "cell_type": "code",
   "execution_count": null,
   "metadata": {},
   "outputs": [],
   "source": [
    "ndt_dataset.plot(kind='scatter', x='dist_between_scans', y='bias_norm', s=1, figsize=(10,5), ylim=[0., 1.])\n",
    "plt.show()"
   ]
  },
  {
   "cell_type": "code",
   "execution_count": null,
   "metadata": {},
   "outputs": [],
   "source": [
    "ndt_dataset.plot(kind='scatter', x='dist_between_scans', y='rotation_mean_gt', s=1, figsize=(10,5), ylim=[0., 0.4])\n",
    "plt.show()"
   ]
  },
  {
   "cell_type": "code",
   "execution_count": null,
   "metadata": {},
   "outputs": [],
   "source": [
    "ndt_dataset.plot(kind='scatter', x='dist_between_scans', y='gt_mahalanobis_distance', s=1, figsize=(10,5), ylim=[0., 2.])\n",
    "plt.show()"
   ]
  },
  {
   "cell_type": "code",
   "execution_count": null,
   "metadata": {},
   "outputs": [],
   "source": [
    "ndt_dataset.plot(kind='scatter', x='dist_between_scans', y='cov_norm', s=1, figsize=(10,5), ylim=[0.0, 1.0])\n",
    "plt.show()"
   ]
  },
  {
   "cell_type": "code",
   "execution_count": null,
   "metadata": {},
   "outputs": [],
   "source": [
    "fig, ax = plt.subplots()\n",
    "ax.set_ylim([0., 1.0])\n",
    "ndt_dataset[ndt_dataset['dataset'] == 'coop'].plot(kind='scatter', x='dist_between_scans', y='bias_norm', s=1, figsize=(10,5), ax=ax, color='red')\n",
    "ndt_dataset[ndt_dataset['dataset'] == 'arla'].plot(kind='scatter', x='dist_between_scans', y='bias_norm', s=1, figsize=(10,5), ax=ax, color='blue')\n",
    "plt.show()"
   ]
  },
  {
   "cell_type": "markdown",
   "metadata": {},
   "source": [
    "The next one is very interesting.\n",
    "Because of the grid, NDT seems only to be able to output rotation by discrete steps."
   ]
  },
  {
   "cell_type": "code",
   "execution_count": null,
   "metadata": {
    "scrolled": true
   },
   "outputs": [],
   "source": [
    "fig, ax = plt.subplots()\n",
    "ndt_dataset[ndt_dataset['dataset'] == 'coop'].plot(kind='scatter', x='dist_between_scans', y='rotation_mean_gt', s=1, figsize=(10,5), ax=ax, color='red')\n",
    "ndt_dataset[ndt_dataset['dataset'] == 'arla'].plot(kind='scatter', x='dist_between_scans', y='rotation_mean_gt', s=1, figsize=(10,5), ax=ax, color='blue')\n",
    "plt.show()"
   ]
  },
  {
   "cell_type": "code",
   "execution_count": null,
   "metadata": {
    "collapsed": true,
    "scrolled": true
   },
   "outputs": [],
   "source": [
    "ylim = (ndt_dataset['cov_norm'].min(), 1)\n",
    "ndt_dataset.plot(kind='scatter', x='disparity_gt_estimate', y='cov_norm', s=1, figsize=(10,5), ylim=ylim)\n",
    "plt.show()"
   ]
  },
  {
   "cell_type": "markdown",
   "metadata": {},
   "source": [
    "### Impact of the resolution\n",
    "\n",
    "The choice of resolutions for the NDT grids is a difficult parameter for the NDT algorithm.\n",
    "First we parse the registration config to extract the resolution used."
   ]
  },
  {
   "cell_type": "code",
   "execution_count": null,
   "metadata": {},
   "outputs": [],
   "source": [
    "fig, ax = plt.subplots(figsize=(10,5))\n",
    "dataset.boxplot(column='gt_mahalanobis_distance', by='config', figsize=(10,5), ax=ax)\n",
    "ax.set_ylim(0., 2.)\n",
    "plt.show()"
   ]
  },
  {
   "cell_type": "code",
   "execution_count": null,
   "metadata": {},
   "outputs": [],
   "source": [
    "fig, ax = plt.subplots(figsize=(10,5))\n",
    "dataset.boxplot(column='cov_norm', by='config',ax=ax)\n",
    "ax.set_ylim([0.0, 5.0])\n",
    "plt.show()"
   ]
  },
  {
   "cell_type": "markdown",
   "metadata": {},
   "source": [
    "We could also have a look at the change in compute time as the resolution increases."
   ]
  },
  {
   "cell_type": "code",
   "execution_count": null,
   "metadata": {
    "collapsed": true,
    "scrolled": true
   },
   "outputs": [],
   "source": [
    "dataset.boxplot(column='avg_cpu_time', by='config', figsize=(10,5))\n",
    "plt.show()"
   ]
  },
  {
   "cell_type": "code",
   "execution_count": null,
   "metadata": {
    "collapsed": true,
    "scrolled": true
   },
   "outputs": [],
   "source": [
    "ndt_dataset.plot(kind='scatter', x='avg_cpu_time', y='gt_mahalanobis_distance', s=1, ylim=[0., 1.])\n",
    "plt.show()"
   ]
  },
  {
   "cell_type": "markdown",
   "metadata": {},
   "source": [
    "## Correlation matrices"
   ]
  },
  {
   "cell_type": "code",
   "execution_count": null,
   "metadata": {
    "collapsed": true
   },
   "outputs": [],
   "source": [
    "variables_of_interest = ['bias_norm', 'rotation_mean_gt', 'gt_mahalanobis_distance', 'cov_norm', 'dist_between_scans', 'avg_cpu_time', 'censi_cov_norm', 'translation_gt', 'rotation_gt']"
   ]
  },
  {
   "cell_type": "markdown",
   "metadata": {},
   "source": [
    "### For all data"
   ]
  },
  {
   "cell_type": "code",
   "execution_count": null,
   "metadata": {},
   "outputs": [],
   "source": [
    "dataset[variables_of_interest].corr('spearman')"
   ]
  },
  {
   "cell_type": "markdown",
   "metadata": {},
   "source": [
    "### For ICP"
   ]
  },
  {
   "cell_type": "code",
   "execution_count": null,
   "metadata": {},
   "outputs": [],
   "source": [
    "icp_dataset[variables_of_interest].corr('spearman')"
   ]
  },
  {
   "cell_type": "markdown",
   "metadata": {},
   "source": [
    "### For NDT"
   ]
  },
  {
   "cell_type": "code",
   "execution_count": null,
   "metadata": {},
   "outputs": [],
   "source": [
    "ndt_dataset[variables_of_interest].corr('spearman')"
   ]
  },
  {
   "cell_type": "markdown",
   "metadata": {},
   "source": [
    "### For good NDT"
   ]
  },
  {
   "cell_type": "code",
   "execution_count": null,
   "metadata": {
    "collapsed": true,
    "scrolled": true
   },
   "outputs": [],
   "source": [
    "good_ndt = ndt_dataset[ndt_dataset['config'] == '{\"resolutions\": [0.5]}']\n",
    "good_ndt[['gt_mahalanobis_distance', 'cov_norm', 'dist_between_scans', 'avg_cpu_time', 'censi_cov_norm']].corr('spearman')"
   ]
  },
  {
   "cell_type": "code",
   "execution_count": null,
   "metadata": {
    "collapsed": true
   },
   "outputs": [],
   "source": [
    "len(good_ndt)"
   ]
  },
  {
   "cell_type": "code",
   "execution_count": null,
   "metadata": {
    "collapsed": true
   },
   "outputs": [],
   "source": [
    "fig, ax = plt.subplots(figsize=(10,5))\n",
    "ax.set_title('Censi covariance estimate with respect to the sampled covariance')\n",
    "\n",
    "\n",
    "ax = good_ndt.plot(kind='scatter', x='cov_norm', y='censi_cov_norm', s=1, figsize=(10,5), ax=ax, xlim=[0,2], ylim=[0,0.000005])\n",
    "\n",
    "ax.set_xlabel('Matrix norm of the sampled covariance')\n",
    "ax.set_ylabel('Matrix norm of the Censi covariance estimate')\n",
    "plt.show()"
   ]
  },
  {
   "cell_type": "markdown",
   "metadata": {},
   "source": [
    "## Comparisons\n",
    "\n",
    "Here we see that ndt does not really compare to ICP in terms of precision, even at the best resolution."
   ]
  },
  {
   "cell_type": "code",
   "execution_count": null,
   "metadata": {
    "scrolled": true
   },
   "outputs": [],
   "source": [
    "fig, ax = plt.subplots(figsize=(10,5))\n",
    "                       \n",
    "best_ndt = ndt_dataset[ndt_dataset['ndt_resolutions'] == '[0.5]']\n",
    "\n",
    "ax.scatter(ndt_dataset['dist_between_scans'], ndt_dataset['gt_mahalanobis_distance'], s=1)\n",
    "ax.scatter(icp_dataset['dist_between_scans'], icp_dataset['gt_mahalanobis_distance'], s=1)\n",
    "ax.set_ylim([0.0, 0.05])\n",
    "\n",
    "plt.show()"
   ]
  },
  {
   "cell_type": "code",
   "execution_count": null,
   "metadata": {},
   "outputs": [],
   "source": [
    "dataset['gt_mahalanobis_distance'].plot(kind='box')\n",
    "plt.show()"
   ]
  },
  {
   "cell_type": "code",
   "execution_count": null,
   "metadata": {},
   "outputs": [],
   "source": [
    "ax = dataset.boxplot(column='gt_mahalanobis_distance', by='algorithm', figsize=(10, 6))\n",
    "ax.set_ylim([0., 0.2])\n",
    "plt.show()"
   ]
  },
  {
   "cell_type": "code",
   "execution_count": null,
   "metadata": {
    "scrolled": false
   },
   "outputs": [],
   "source": [
    "ax = dataset.boxplot(column='bias_norm', by='algorithm', figsize=(10, 6))\n",
    "ax.set_ylim([0., 0.5])\n",
    "plt.show()"
   ]
  },
  {
   "cell_type": "code",
   "execution_count": null,
   "metadata": {},
   "outputs": [],
   "source": [
    "ax = dataset.boxplot(column='rotation_mean_gt', by='algorithm', figsize=(10, 6))\n",
    "ax.set_ylim([0., 0.3])\n",
    "plt.show()"
   ]
  },
  {
   "cell_type": "code",
   "execution_count": null,
   "metadata": {},
   "outputs": [],
   "source": [
    "ax = dataset.boxplot(column='cov_norm', by='algorithm', figsize=(10, 6))\n",
    "ax.set_ylim([0., .5])\n",
    "plt.show()"
   ]
  },
  {
   "cell_type": "code",
   "execution_count": null,
   "metadata": {
    "scrolled": false
   },
   "outputs": [],
   "source": [
    "fig, ax = plt.subplots()\n",
    "groups = dataset.sort_values('dist_between_scans').groupby('algorithm')\n",
    "\n",
    "for name, group in groups:\n",
    "    ax.scatter(group['dist_between_scans'], group['gt_mahalanobis_distance'], s=1.0)\n",
    "\n",
    "ax.set_ylim([0, 1.0])\n",
    "plt.show()"
   ]
  },
  {
   "cell_type": "code",
   "execution_count": null,
   "metadata": {},
   "outputs": [],
   "source": [
    "dataset.groupby('algorithm').mean()"
   ]
  },
  {
   "cell_type": "code",
   "execution_count": null,
   "metadata": {
    "collapsed": true
   },
   "outputs": [],
   "source": [
    "ndt_dataset[ndt_dataset['cov_norm'] > 15]"
   ]
  },
  {
   "cell_type": "code",
   "execution_count": null,
   "metadata": {
    "collapsed": true
   },
   "outputs": [],
   "source": [
    "dataset.plot(kind='scatter', x='dist_between_scans', y='disparity_gt_estimate', s=1.)\n",
    "plt.show()"
   ]
  },
  {
   "cell_type": "code",
   "execution_count": null,
   "metadata": {
    "collapsed": true
   },
   "outputs": [],
   "source": [
    "ax = dataset.boxplot(column='translation_mean_gt', by='algorithm')\n",
    "ax.set_ylim([0., 1.0])\n",
    "plt.show()"
   ]
  },
  {
   "cell_type": "code",
   "execution_count": null,
   "metadata": {
    "collapsed": true
   },
   "outputs": [],
   "source": [
    "ax = dataset.boxplot(column='rotation_mean_gt', by='algorithm')\n",
    "ax.set_ylim([0., 0.2])\n",
    "plt.show()"
   ]
  },
  {
   "cell_type": "code",
   "execution_count": null,
   "metadata": {
    "collapsed": true
   },
   "outputs": [],
   "source": [
    "icp_dataset.plot(kind='scatter', x='dist_between_scans', y='lie_norm_mean_gt', s=1)\n",
    "plt.show()"
   ]
  },
  {
   "cell_type": "markdown",
   "metadata": {},
   "source": [
    "### Number of outliers\n",
    "\n",
    "We try to assess the robustness of each algorithm by counting the number of outliers in the error function.\n",
    "A large number of outliers in the error indicate that some results are much further than usual from the ground truth.\n",
    "It's safe to assume the registration failed there."
   ]
  },
  {
   "cell_type": "code",
   "execution_count": null,
   "metadata": {},
   "outputs": [],
   "source": [
    "ndt_Q1 = ndt_dataset['gt_mahalanobis_distance'].quantile(0.25)\n",
    "ndt_Q3 = ndt_dataset['gt_mahalanobis_distance'].quantile(0.75)\n",
    "ndt_IQ = ndt_Q3 - ndt_Q1\n",
    "ndt_threshold = ndt_Q3 + 3. * ndt_IQ\n",
    "ndt_dataset['gt_mahalanobis_distance'].where(ndt_dataset['gt_mahalanobis_distance'] > ndt_threshold).count() / ndt_dataset['gt_mahalanobis_distance'].count()"
   ]
  },
  {
   "cell_type": "code",
   "execution_count": null,
   "metadata": {},
   "outputs": [],
   "source": [
    "icp_Q1 = icp_dataset['gt_mahalanobis_distance'].quantile(0.25)\n",
    "icp_Q3 = icp_dataset['gt_mahalanobis_distance'].quantile(0.75)\n",
    "icp_IQ = icp_Q3 - icp_Q1\n",
    "icp_threshold = icp_Q3 + 3. * icp_IQ\n",
    "icp_dataset['gt_mahalanobis_distance'].where(icp_dataset['gt_mahalanobis_distance'] > icp_threshold).count() / icp_dataset['gt_mahalanobis_distance'].count()"
   ]
  },
  {
   "cell_type": "markdown",
   "metadata": {},
   "source": [
    "More classicaly we can set a fixed threshold on the error, and count how many registration runs ended up further than "
   ]
  },
  {
   "cell_type": "code",
   "execution_count": null,
   "metadata": {},
   "outputs": [],
   "source": [
    "dataset[dataset['bias_norm'] > 0.3].sort_values('dist_between_scans')"
   ]
  },
  {
   "cell_type": "code",
   "execution_count": null,
   "metadata": {},
   "outputs": [],
   "source": [
    "for i, group in dataset.groupby(dataset['reading']-dataset['reference']):\n",
    "    group.boxplot('bias_norm')\n",
    "    \n",
    "plt.show()"
   ]
  },
  {
   "cell_type": "code",
   "execution_count": null,
   "metadata": {
    "collapsed": true,
    "scrolled": true
   },
   "outputs": [],
   "source": [
    "dataset[dataset['dataset'] == 'coop'].plot(kind='scatter', x='reference', y='translation_mean_gt', s=1., ylim=[0., 1.])\n",
    "plt.show()"
   ]
  },
  {
   "cell_type": "code",
   "execution_count": null,
   "metadata": {
    "collapsed": true
   },
   "outputs": [],
   "source": [
    "dataset[dataset['dataset'] == 'arla'].plot(kind='scatter', x='reference', y='translation_mean_gt', s=1., ylim=[0., 1.])\n",
    "plt.show()"
   ]
  },
  {
   "cell_type": "code",
   "execution_count": null,
   "metadata": {
    "collapsed": true
   },
   "outputs": [],
   "source": [
    "dataset[dataset['dataset'] == 'arla'].plot(kind='scatter', x='reference', y='disparity_gt_estimate', s=1., ylim=[0., 0.5])\n",
    "plt.show()"
   ]
  },
  {
   "cell_type": "code",
   "execution_count": null,
   "metadata": {
    "collapsed": true
   },
   "outputs": [],
   "source": [
    "dataset[dataset['dataset'] == 'coop'].plot(kind='scatter', x='reference', y='disparity_gt_estimate', s=1., ylim=[0., 0.1])\n",
    "plt.show()"
   ]
  },
  {
   "cell_type": "code",
   "execution_count": null,
   "metadata": {},
   "outputs": [],
   "source": [
    "dataset.plot(kind='scatter', x='disparity_gt_estimate', y='bias_norm', s=1, ylim=[0., 1.0])\n",
    "plt.show()"
   ]
  },
  {
   "cell_type": "code",
   "execution_count": null,
   "metadata": {},
   "outputs": [],
   "source": [
    "fig, ax = plt.subplots()\n",
    "ax.set_ylim([0., 1.0])\n",
    "colors = {'icp': 'red', 'ndt': 'blue'}\n",
    "\n",
    "for name, group in dataset.groupby('algorithm'):\n",
    "    ax.scatter(group['disparity_gt_estimate'], group['bias_norm'], s=1.)\n",
    "    group.plot(kind='scatter', x='disparity_gt_estimate', y='bias_norm', ax=ax, s=1, color=colors[name])\n",
    "    \n",
    "plt.show()"
   ]
  },
  {
   "cell_type": "code",
   "execution_count": null,
   "metadata": {},
   "outputs": [],
   "source": [
    "dataset[dataset['bias_norm'] > 10]"
   ]
  },
  {
   "cell_type": "code",
   "execution_count": null,
   "metadata": {},
   "outputs": [],
   "source": [
    "icp_dataset.plot(kind='scatter', x='translation_gt', y='bias_norm', s=1)\n",
    "plt.show()"
   ]
  },
  {
   "cell_type": "code",
   "execution_count": null,
   "metadata": {},
   "outputs": [],
   "source": [
    "easy_matches = dataset[dataset['reading'] - dataset['reference'] == 4]\n",
    "easy_matches.boxplot(column='bias_norm', by='algorithm')\n",
    "plt.show()"
   ]
  },
  {
   "cell_type": "code",
   "execution_count": null,
   "metadata": {},
   "outputs": [],
   "source": [
    "easy_matches[easy_matches['bias_norm'] > 0.1]"
   ]
  },
  {
   "cell_type": "code",
   "execution_count": null,
   "metadata": {
    "collapsed": true
   },
   "outputs": [],
   "source": []
  }
 ],
 "metadata": {
  "kernelspec": {
   "display_name": "Python 3",
   "language": "python",
   "name": "python3"
  },
  "language_info": {
   "codemirror_mode": {
    "name": "ipython",
    "version": 3
   },
   "file_extension": ".py",
   "mimetype": "text/x-python",
   "name": "python",
   "nbconvert_exporter": "python",
   "pygments_lexer": "ipython3",
   "version": "3.5.2"
  }
 },
 "nbformat": 4,
 "nbformat_minor": 2
}
