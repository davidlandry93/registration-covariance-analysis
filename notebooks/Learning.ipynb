{
 "cells": [
  {
   "cell_type": "code",
   "execution_count": null,
   "metadata": {
    "collapsed": true
   },
   "outputs": [],
   "source": [
    "%matplotlib notebook\n",
    "\n",
    "import json\n",
    "import matplotlib.pyplot as plt\n",
    "import matplotlib.patches\n",
    "import numpy as np\n",
    "import sklearn as sk\n",
    "\n",
    "from sklearn.preprocessing import scale\n",
    "from sklearn.decomposition import PCA\n",
    "from sklearn.cross_decomposition import PLSCanonical\n",
    "\n",
    "np.set_printoptions(precision=3, linewidth=100)\n"
   ]
  },
  {
   "cell_type": "code",
   "execution_count": null,
   "metadata": {
    "collapsed": true
   },
   "outputs": [],
   "source": [
    "def rebuild_covariance_matrix(v):\n",
    "    cov = np.zeros((6,6))\n",
    "    cursor = 0\n",
    "    for i in range(6):\n",
    "        cov[i, 0:(i+1)] = v[cursor:(cursor + i + 1)]\n",
    "        cursor += i + 1\n",
    "        \n",
    "    cov = np.dot(cov, cov.T)\n",
    "        \n",
    "    return cov"
   ]
  },
  {
   "cell_type": "code",
   "execution_count": null,
   "metadata": {
    "collapsed": true
   },
   "outputs": [],
   "source": [
    "with open('/home/dlandry/dataset/recov/with_more_data.json') as dataset_file:\n",
    "    dataset_dict = json.load(dataset_file)\n",
    "    \n",
    "xs = np.array(dataset_dict['data']['xs'])\n",
    "ys = np.array(dataset_dict['data']['ys'])\n",
    "merged = np.hstack([xs,ys])\n",
    "scaled = scale(merged)"
   ]
  },
  {
   "cell_type": "code",
   "execution_count": null,
   "metadata": {
    "scrolled": true
   },
   "outputs": [],
   "source": [
    "pca = PCA(n_components=6)\n",
    "pca.fit(scaled)"
   ]
  },
  {
   "cell_type": "code",
   "execution_count": null,
   "metadata": {},
   "outputs": [],
   "source": [
    "idx = np.arange(len(pca.components_[0]))\n",
    "\n",
    "plt.bar(idx, pca.components_[0], 0.2)\n",
    "plt.bar(idx + 0.2, pca.components_[1], 0.2)\n",
    "plt.bar(idx + 0.4, pca.components_[2], 0.2)\n",
    "plt.show()"
   ]
  },
  {
   "cell_type": "code",
   "execution_count": null,
   "metadata": {
    "collapsed": true
   },
   "outputs": [],
   "source": [
    "idx = np.arange(len(xs))\n",
    "np.random.shuffle(idx)\n",
    "training_size = int(len(xs) * 0.8)\n",
    "\n",
    "xs_training = xs[idx[0:training_size]]\n",
    "ys_training = ys[idx[0:training_size]]\n",
    "\n",
    "xs_validation = xs[idx[training_size:]]\n",
    "ys_validation = ys[idx[training_size:]]"
   ]
  },
  {
   "cell_type": "code",
   "execution_count": null,
   "metadata": {},
   "outputs": [],
   "source": [
    "pls = PLSCanonical(n_components=6, scale=True)\n",
    "pls.fit(xs_training,ys_training)"
   ]
  },
  {
   "cell_type": "code",
   "execution_count": null,
   "metadata": {},
   "outputs": [],
   "source": [
    "ys_predicted = pls.predict(xs_validation)\n",
    "loss_matrix = ys_validation - ys_predicted\n",
    "norm = np.linalg.norm(loss_matrix, axis=1)\n",
    "avg_loss = np.mean(norm)\n",
    "print(avg_loss)"
   ]
  },
  {
   "cell_type": "code",
   "execution_count": null,
   "metadata": {},
   "outputs": [],
   "source": [
    "rebuild_covariance_matrix(ys_predicted[20])"
   ]
  },
  {
   "cell_type": "code",
   "execution_count": null,
   "metadata": {},
   "outputs": [],
   "source": [
    "rebuild_covariance_matrix(ys_validation[20])"
   ]
  },
  {
   "cell_type": "code",
   "execution_count": null,
   "metadata": {
    "collapsed": true
   },
   "outputs": [],
   "source": [
    "def plot_covariance_matrix(c, dims, ax, color='black'):\n",
    "    submatrix = (c[list(dims)])[:,list(dims)]\n",
    "    eigvals, eigvecs = np.linalg.eig(submatrix)\n",
    "    \n",
    "    angle = np.arctan2(eigvecs[0][1], eigvecs[0][0])\n",
    "    \n",
    "    ell = matplotlib.patches.Ellipse((0., 0.), np.sqrt(eigvals[0]), np.sqrt(eigvals[1]), np.rad2deg(angle),\n",
    "                                    linewidth=1.0, edgecolor=color, fill=False)\n",
    "    \n",
    "    ax.add_artist(ell)\n",
    "    "
   ]
  },
  {
   "cell_type": "code",
   "execution_count": null,
   "metadata": {
    "collapsed": true
   },
   "outputs": [],
   "source": [
    "def compare_covariance_matrices(c1, c2):\n",
    "    fig, ax = plt.subplots()\n",
    "    plot_covariance_matrix(c1, (0,1), ax)\n",
    "    plot_covariance_matrix(c2, (0,1), ax)\n",
    "    plt.show()"
   ]
  },
  {
   "cell_type": "code",
   "execution_count": null,
   "metadata": {},
   "outputs": [],
   "source": [
    "fig, ax = plt.subplots()\n",
    "\n",
    "to_compare = 16\n",
    "\n",
    "plot_covariance_matrix(rebuild_covariance_matrix(ys_validation[to_compare]), (0,1), ax, color='0.0')\n",
    "plot_covariance_matrix(rebuild_covariance_matrix(ys_predicted[to_compare]), (0,1), ax, color='0.5')\n",
    "\n",
    "ax.set_xlim(-1, 1)\n",
    "ax.set_ylim(-1, 1)\n",
    "\n"
   ]
  },
  {
   "cell_type": "code",
   "execution_count": null,
   "metadata": {
    "collapsed": true
   },
   "outputs": [],
   "source": []
  }
 ],
 "metadata": {
  "kernelspec": {
   "display_name": "Python 3",
   "language": "python",
   "name": "python3"
  },
  "language_info": {
   "codemirror_mode": {
    "name": "ipython",
    "version": 3
   },
   "file_extension": ".py",
   "mimetype": "text/x-python",
   "name": "python",
   "nbconvert_exporter": "python",
   "pygments_lexer": "ipython3",
   "version": "3.5.2"
  }
 },
 "nbformat": 4,
 "nbformat_minor": 2
}
