{
 "cells": [
  {
   "cell_type": "code",
   "execution_count": null,
   "metadata": {
    "collapsed": true
   },
   "outputs": [],
   "source": [
    "%matplotlib notebook\n",
    "\n",
    "import json\n",
    "import matplotlib.pyplot as plt\n",
    "import matplotlib.patches\n",
    "import numpy as np\n",
    "import sklearn as sk\n",
    "\n",
    "from sklearn import svm\n",
    "from sklearn.preprocessing import scale\n",
    "from sklearn.decomposition import PCA\n",
    "from sklearn.cross_decomposition import PLSCanonical\n",
    "\n",
    "\n",
    "np.set_printoptions(precision=3, linewidth=100)\n"
   ]
  },
  {
   "cell_type": "code",
   "execution_count": null,
   "metadata": {
    "collapsed": true
   },
   "outputs": [],
   "source": [
    "def rebuild_covariance_matrix(v):\n",
    "    cov = np.zeros((6,6))\n",
    "    cursor = 0\n",
    "    for i in range(6):\n",
    "        cov[i, 0:(i+1)] = v[cursor:(cursor + i + 1)]\n",
    "        cursor += i + 1\n",
    "        \n",
    "    cov = np.dot(cov, cov.T)\n",
    "        \n",
    "    return cov"
   ]
  },
  {
   "cell_type": "code",
   "execution_count": null,
   "metadata": {
    "collapsed": true
   },
   "outputs": [],
   "source": [
    "def plot_covariance_matrix(c, dims, ax, color='black'):\n",
    "    submatrix = (c[list(dims)])[:,list(dims)]\n",
    "    eigvals, eigvecs = np.linalg.eig(submatrix)\n",
    "    \n",
    "    angle = np.arctan2(eigvecs[0][1], eigvecs[0][0])\n",
    "    \n",
    "    ell = matplotlib.patches.Ellipse((0., 0.), np.sqrt(eigvals[0]), np.sqrt(eigvals[1]), np.rad2deg(angle),\n",
    "                                    linewidth=1.0, edgecolor=color, fill=False)\n",
    "    \n",
    "    ax.add_artist(ell)\n",
    "    "
   ]
  },
  {
   "cell_type": "code",
   "execution_count": null,
   "metadata": {
    "collapsed": true
   },
   "outputs": [],
   "source": [
    "def compare_covariance_matrices(c1, c2):\n",
    "    fig, ax = plt.subplots()\n",
    "    plot_covariance_matrix(c1, (0,1), ax)\n",
    "    plot_covariance_matrix(c2, (0,1), ax)\n",
    "    plt.show()"
   ]
  },
  {
   "cell_type": "code",
   "execution_count": null,
   "metadata": {
    "collapsed": true
   },
   "outputs": [],
   "source": [
    "def covariance_matrices_bar_plot(c1, c2, ax):\n",
    "    indices = np.arange(6)\n",
    "    \n",
    "    width = 0.2\n",
    "    ax.bar(indices, np.sqrt(np.diagonal(c1)), width, color='black')\n",
    "    ax.bar(indices + width, np.sqrt(np.diagonal(c2)), width, color='0.6')\n",
    "    ax.set_xticks(indices + width / 2)"
   ]
  },
  {
   "cell_type": "code",
   "execution_count": null,
   "metadata": {},
   "outputs": [],
   "source": [
    "def compute_loss(predicted, validation):\n",
    "    return np.mean(np.linalg.norm(predicted - validation, axis=1))"
   ]
  },
  {
   "cell_type": "markdown",
   "metadata": {},
   "source": [
    "# Creation of the two datasets"
   ]
  },
  {
   "cell_type": "code",
   "execution_count": null,
   "metadata": {},
   "outputs": [],
   "source": [
    "with open('/home/dlandry/dataset/recov/learning_sets/2018-01-15-overlapping.json') as dataset_file:\n",
    "    dataset_dict = json.load(dataset_file)\n",
    "    \n",
    "meta = dataset_dict['metadata']\n",
    "print('{},{},{}'.format(meta['combiner'], meta['binner'], meta['clustering']))"
   ]
  },
  {
   "cell_type": "code",
   "execution_count": null,
   "metadata": {
    "collapsed": true
   },
   "outputs": [],
   "source": [
    "xs = np.array(dataset_dict['data']['xs'])\n",
    "ys = np.array(dataset_dict['data']['ys'])"
   ]
  },
  {
   "cell_type": "code",
   "execution_count": null,
   "metadata": {
    "collapsed": true
   },
   "outputs": [],
   "source": [
    "idx = np.arange(len(xs))\n",
    "np.random.shuffle(idx)\n",
    "training_size = int(len(xs) * 0.8)\n",
    "\n",
    "xs_training = xs[idx[0:training_size]]\n",
    "ys_training = ys[idx[0:training_size]]\n",
    "\n",
    "xs_validation = xs[idx[training_size:]]\n",
    "ys_validation = ys[idx[training_size:]]"
   ]
  },
  {
   "cell_type": "markdown",
   "metadata": {},
   "source": [
    "# PLS"
   ]
  },
  {
   "cell_type": "code",
   "execution_count": null,
   "metadata": {},
   "outputs": [],
   "source": [
    "for n in range(1,10):\n",
    "    pls = PLSCanonical(n_components=n, scale=True)\n",
    "    pls.fit(xs_training, ys_training)\n",
    "    \n",
    "    ys_predicted = pls.predict(xs_validation)\n",
    "    loss_matrix = ys_validation - ys_predicted\n",
    "    norm = np.linalg.norm(loss_matrix, axis=1)\n",
    "    avg_loss = np.mean(norm)\n",
    "    \n",
    "    print('{:.3f} average loss for {} components'.format(avg_loss, n))"
   ]
  },
  {
   "cell_type": "code",
   "execution_count": null,
   "metadata": {},
   "outputs": [],
   "source": [
    "pls = PLSCanonical(n_components=1, scale=True)\n",
    "pls.fit(xs_training,ys_training)\n",
    "ys_predicted = pls.predict(xs_validation)"
   ]
  },
  {
   "cell_type": "markdown",
   "metadata": {},
   "source": [
    "# KNN"
   ]
  },
  {
   "cell_type": "code",
   "execution_count": null,
   "metadata": {
    "collapsed": true
   },
   "outputs": [],
   "source": [
    "def test_kdtree(tree, training_ys, validation_xs, validation_ys, k):\n",
    "    dist, indices = tree.query(validation_xs, k=k)\n",
    "    response = np.zeros(validation_ys.shape)\n",
    "    for i in range(len(validation_ys)):\n",
    "        for j in range(k):\n",
    "            ratio = dist[i,j] / np.sum(dist[i])\n",
    "            response[i] += training_ys[indices[i,j]] * ratio\n",
    "            \n",
    "    return response"
   ]
  },
  {
   "cell_type": "code",
   "execution_count": null,
   "metadata": {},
   "outputs": [],
   "source": [
    "import sklearn.neighbors\n",
    "\n",
    "tree = sklearn.neighbors.KDTree(xs_training)\n",
    "\n",
    "for k in range(1, 15):\n",
    "    predicted = test_kdtree(tree, ys_training, xs_validation, ys_validation, k)\n",
    "    print('K {}. Avg Loss {}.'.format(k, compute_loss(predicted, ys_validation)))\n",
    "\n",
    "\n",
    "\n"
   ]
  },
  {
   "cell_type": "markdown",
   "metadata": {},
   "source": [
    "# Validation of examples"
   ]
  },
  {
   "cell_type": "code",
   "execution_count": null,
   "metadata": {
    "scrolled": false
   },
   "outputs": [],
   "source": [
    "fig, ax = plt.subplots()\n",
    "\n",
    "to_compare = 30\n",
    "\n",
    "c1 = rebuild_covariance_matrix(ys_validation[to_compare])\n",
    "c2 = rebuild_covariance_matrix(ys_predicted[to_compare])\n",
    "covariance_matrices_bar_plot(c1, c2, ax)"
   ]
  },
  {
   "cell_type": "code",
   "execution_count": null,
   "metadata": {
    "scrolled": false
   },
   "outputs": [],
   "source": [
    "fig, ax = plt.subplots()\n",
    "\n",
    "to_compare = 45\n",
    "\n",
    "plot_covariance_matrix(rebuild_covariance_matrix(ys_validation[to_compare]), (0,1), ax, color='0.0')\n",
    "plot_covariance_matrix(rebuild_covariance_matrix(ys_predicted[to_compare]), (0,1), ax, color='0.5')\n",
    "\n",
    "ax.set_xlim(-1, 1)\n",
    "ax.set_ylim(-1, 1)\n",
    "\n"
   ]
  },
  {
   "cell_type": "code",
   "execution_count": null,
   "metadata": {
    "collapsed": true
   },
   "outputs": [],
   "source": []
  }
 ],
 "metadata": {
  "kernelspec": {
   "display_name": "Python 3",
   "language": "python",
   "name": "python3"
  },
  "language_info": {
   "codemirror_mode": {
    "name": "ipython",
    "version": 3
   },
   "file_extension": ".py",
   "mimetype": "text/x-python",
   "name": "python",
   "nbconvert_exporter": "python",
   "pygments_lexer": "ipython3",
   "version": "3.5.2"
  }
 },
 "nbformat": 4,
 "nbformat_minor": 2
}
