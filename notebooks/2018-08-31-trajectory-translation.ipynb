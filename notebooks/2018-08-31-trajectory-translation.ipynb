{
 "cells": [
  {
   "cell_type": "code",
   "execution_count": 24,
   "metadata": {},
   "outputs": [
    {
     "name": "stdout",
     "output_type": "stream",
     "text": [
      "The autoreload extension is already loaded. To reload it, use:\n",
      "  %reload_ext autoreload\n"
     ]
    }
   ],
   "source": [
    "%load_ext autoreload\n",
    "%autoreload 2\n",
    "%matplotlib notebook"
   ]
  },
  {
   "cell_type": "code",
   "execution_count": 25,
   "metadata": {},
   "outputs": [
    {
     "ename": "ImportError",
     "evalue": "cannot import name 'plot_trajectory_translation'",
     "output_type": "error",
     "traceback": [
      "\u001b[0;31m---------------------------------------------------------------------------\u001b[0m",
      "\u001b[0;31mImportError\u001b[0m                               Traceback (most recent call last)",
      "\u001b[0;32m<ipython-input-25-6a1186a7a35a>\u001b[0m in \u001b[0;36m<module>\u001b[0;34m()\u001b[0m\n\u001b[1;32m     10\u001b[0m \u001b[0;32mfrom\u001b[0m \u001b[0mrecova\u001b[0m\u001b[0;34m.\u001b[0m\u001b[0mregistration_result_database\u001b[0m \u001b[0;32mimport\u001b[0m \u001b[0mRegistrationPairDatabase\u001b[0m\u001b[0;34m\u001b[0m\u001b[0m\n\u001b[1;32m     11\u001b[0m \u001b[0;34m\u001b[0m\u001b[0m\n\u001b[0;32m---> 12\u001b[0;31m \u001b[0;32mfrom\u001b[0m \u001b[0mrecova\u001b[0m\u001b[0;34m.\u001b[0m\u001b[0mrecov_plot\u001b[0m \u001b[0;32mimport\u001b[0m \u001b[0mplot_trajectory_translation\u001b[0m\u001b[0;34m,\u001b[0m \u001b[0mplot_covariance\u001b[0m\u001b[0;34m\u001b[0m\u001b[0m\n\u001b[0m\u001b[1;32m     13\u001b[0m \u001b[0;32mfrom\u001b[0m \u001b[0mrecova\u001b[0m\u001b[0;34m.\u001b[0m\u001b[0mtrajectory_evaluation\u001b[0m \u001b[0;32mimport\u001b[0m \u001b[0mcollect_trajectory_data\u001b[0m\u001b[0;34m,\u001b[0m \u001b[0mmake_cumulative_covariances\u001b[0m\u001b[0;34m\u001b[0m\u001b[0m\n\u001b[1;32m     14\u001b[0m \u001b[0;32mfrom\u001b[0m \u001b[0mrecova\u001b[0m\u001b[0;34m.\u001b[0m\u001b[0mutil\u001b[0m \u001b[0;32mimport\u001b[0m \u001b[0mset_matplotlibrc\u001b[0m\u001b[0;34m\u001b[0m\u001b[0m\n",
      "\u001b[0;31mImportError\u001b[0m: cannot import name 'plot_trajectory_translation'"
     ]
    }
   ],
   "source": [
    "import json\n",
    "import pathlib\n",
    "import matplotlib.pyplot as plt\n",
    "import numpy as np\n",
    "\n",
    "from lieroy import se3\n",
    "\n",
    "from recov.datasets import KittiDataset, EthzDataset\n",
    "from recova.learning.learning import model_from_file\n",
    "from recova.registration_result_database import RegistrationPairDatabase\n",
    "\n",
    "from recova.recov_plot import plot_trajectory_translation, plot_covariance\n",
    "from recova.trajectory_evaluation import collect_trajectory_data, make_cumulative_covariances \n",
    "from recova.util import set_matplotlibrc\n",
    "\n",
    "np.set_printoptions(precision=3, linewidth=100)"
   ]
  },
  {
   "cell_type": "code",
   "execution_count": 26,
   "metadata": {
    "collapsed": true
   },
   "outputs": [],
   "source": [
    "DATABASE_LOCATION = '/home/dlandry/dataset/db_kitti_02/'\n",
    "LOCATION = '03'\n",
    "POINTCLOUD_DATASET_LOCATION = '/home/dlandry/dataset/kitti/dataset/sequences/{}'.format(LOCATION)\n",
    "LEARNING_DATASET_LOCATION = '/home/dlandry/dataset/learning_sets/2018-08-28-kitti-3-4-5.json'\n",
    "MODEL_LOCATION = '/home/dlandry/dataset/learning_runs/2018-08-29-kitti-03.model'\n",
    "\n",
    "\n",
    "db = RegistrationPairDatabase(DATABASE_LOCATION)\n",
    "dataset = KittiDataset(pathlib.Path(POINTCLOUD_DATASET_LOCATION))\n",
    "\n",
    "with open(LEARNING_DATASET_LOCATION) as f:\n",
    "    learning_dataset = json.load(f)\n",
    "    \n",
    "model = model_from_file(MODEL_LOCATION, 'cello')"
   ]
  },
  {
   "cell_type": "code",
   "execution_count": 27,
   "metadata": {
    "collapsed": true
   },
   "outputs": [],
   "source": [
    "DATABASE_LOCATION = '/home/dlandry/dataset/db_eth_05//'\n",
    "LOCATION = 'wood_autumn'\n",
    "POINTCLOUD_DATASET_LOCATION = '/home/dlandry//dataset/ethz/{}'.format(LOCATION)\n",
    "LEARNING_DATASET_LOCATION = '/home/dlandry/dataset/learning_sets/2018-08-20-wood.json'\n",
    "MODEL_LOCATION = '/home/dlandry/dataset/learning_runs/2018-08-20-wood-summer.model'\n",
    "\n",
    "\n",
    "db = RegistrationPairDatabase(DATABASE_LOCATION)\n",
    "dataset = EthzDataset(pathlib.Path(POINTCLOUD_DATASET_LOCATION))\n",
    "\n",
    "with open(LEARNING_DATASET_LOCATION) as f:\n",
    "    learning_dataset = json.load(f)\n",
    "    \n",
    "model = model_from_file(MODEL_LOCATION, 'cello')"
   ]
  },
  {
   "cell_type": "code",
   "execution_count": null,
   "metadata": {
    "scrolled": true
   },
   "outputs": [
    {
     "name": "stdout",
     "output_type": "stream",
     "text": [
      "0\n",
      "32\n",
      "100%|██████████████████████████████████████████| 31/31 [00:00<00:00, 250.15it/s]\n",
      "  0%|                                                    | 0/31 [00:00<?, ?it/s](5000, 6)\n",
      "(5000, 6)\n",
      "(5000, 6)\n",
      "(5000, 6)\n",
      "(5000, 6)\n",
      "(5000, 6)\n",
      "(5000, 6)\n",
      "  3%|█▍                                          | 1/31 [00:00<00:23,  1.25it/s](5000, 6)\n",
      " 10%|████▎                                       | 3/31 [00:00<00:09,  3.08it/s](5000, 6)\n",
      " 26%|███████████▎                                | 8/31 [00:01<00:03,  6.77it/s](5000, 6)\n",
      "(5000, 6)\n",
      "(5000, 6)\n",
      "(5000, 6)\n",
      "(5000, 6)\n",
      "(5000, 6)\n",
      "(5000, 6)\n",
      " 52%|██████████████████████▏                    | 16/31 [00:01<00:01,  8.57it/s](5000, 6)\n",
      "(5000, 6)\n",
      "(5000, 6)\n",
      "(5000, 6)\n",
      "(5000, 6)\n",
      "(5000, 6)\n",
      "(5000, 6)\n",
      "(5000, 6)\n",
      " 77%|█████████████████████████████████▎         | 24/31 [00:02<00:00,  8.60it/s](5000, 6)\n",
      "(5000, 6)\n",
      "(5000, 6)\n",
      "(5000, 6)\n",
      "(5000, 6)\n",
      "(5000, 6)\n",
      "(5000, 6)\n",
      "100%|███████████████████████████████████████████| 31/31 [00:03<00:00,  9.06it/s]\n",
      "100%|█████████████████████████████████████████| 31/31 [00:00<00:00, 1018.23it/s]\n",
      "100%|██████████████████████████████████████████| 31/31 [00:00<00:00, 914.22it/s]\n",
      "100%|█████████████████████████████████████████| 31/31 [00:00<00:00, 1167.76it/s]\n",
      "100%|█████████████████████████████████████████| 31/31 [00:00<00:00, 1074.77it/s]\n",
      "100%|██████████████████████████████████████████| 31/31 [00:00<00:00, 901.23it/s]\n",
      "100%|█████████████████████████████████████████| 31/31 [00:00<00:00, 1115.42it/s]\n",
      "100%|█████████████████████████████████████████| 31/31 [00:00<00:00, 1141.75it/s]\n",
      "100%|██████████████████████████████████████████| 31/31 [00:00<00:00, 993.64it/s]\n",
      "100%|█████████████████████████████████████████| 31/31 [00:00<00:00, 1096.82it/s]\n"
     ]
    }
   ],
   "source": [
    "(gt_trajectory, \n",
    " sampled_trajectory,\n",
    " cum_covariances, \n",
    " censi_cum_cov) = collect_trajectory_data(db, LOCATION, dataset, learning_dataset['metadata']['descriptor_config'], model, n_sampled_trajectories=10)"
   ]
  },
  {
   "cell_type": "code",
   "execution_count": null,
   "metadata": {},
   "outputs": [],
   "source": [
    "fig, ax = plt.subplots()\n",
    "ax.grid(color='0.8', linewidth=0.5, zorder=0, linestyle='--')\n",
    "\n",
    "plot_trajectory_translation(gt_trajectory[:], ax)\n",
    "\n",
    "for t in sampled_trajectory:\n",
    "    plot_trajectory_translation(t[0:], ax, linestyle='dotted')    \n",
    "\n",
    "for i in range(0, len(gt_trajectory)):\n",
    "    plot_covariance(gt_trajectory[i], cum_covariances[i], ax, color='0.6')\n",
    "    \n",
    "ax.set_xlabel('$x$ (m)')\n",
    "ax.set_ylabel('$y$ (m)')\n",
    "    \n",
    "plt.show()"
   ]
  },
  {
   "cell_type": "code",
   "execution_count": null,
   "metadata": {
    "collapsed": true
   },
   "outputs": [],
   "source": [
    "cum_covariances"
   ]
  },
  {
   "cell_type": "code",
   "execution_count": null,
   "metadata": {
    "collapsed": true
   },
   "outputs": [],
   "source": []
  }
 ],
 "metadata": {
  "kernelspec": {
   "display_name": "Python 3",
   "language": "python",
   "name": "python3"
  },
  "language_info": {
   "codemirror_mode": {
    "name": "ipython",
    "version": 3
   },
   "file_extension": ".py",
   "mimetype": "text/x-python",
   "name": "python",
   "nbconvert_exporter": "python",
   "pygments_lexer": "ipython3",
   "version": "3.5.2"
  }
 },
 "nbformat": 4,
 "nbformat_minor": 2
}
