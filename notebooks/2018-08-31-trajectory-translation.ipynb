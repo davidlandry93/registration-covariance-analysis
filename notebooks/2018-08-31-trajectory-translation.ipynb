{
 "cells": [
  {
   "cell_type": "code",
   "execution_count": 2,
   "metadata": {
    "collapsed": true
   },
   "outputs": [],
   "source": [
    "%load_ext autoreload\n",
    "%autoreload 2\n",
    "%matplotlib inline"
   ]
  },
  {
   "cell_type": "code",
   "execution_count": 3,
   "metadata": {
    "collapsed": true
   },
   "outputs": [],
   "source": [
    "import json\n",
    "import pathlib\n",
    "import matplotlib.patches\n",
    "import matplotlib.pyplot as plt\n",
    "import numpy as np\n",
    "\n",
    "from lieroy import se3\n",
    "\n",
    "from recov.datasets import KittiDataset, EthzDataset\n",
    "from recova.clustering import CenteredClusteringAlgorithm, RegistrationPairClusteringAdapter\n",
    "from recova.covariance import SamplingCovarianceComputationAlgorithm\n",
    "from recova.learning.learning import model_from_file\n",
    "from recova.registration_result_database import RegistrationPairDatabase\n",
    "\n",
    "from recova.recov_plot import plot_trajectory_translation, plot_covariance\n",
    "from recova.trajectory_evaluation import collect_trajectory_data, make_cumulative_covariances, trajectory_linear_length, select_sequential_pairs, make_reference_cum_cov, build_trajectory_from_dataset\n",
    "from recova.util import set_matplotlibrc\n",
    "\n",
    "np.set_printoptions(precision=6, linewidth=100)"
   ]
  },
  {
   "cell_type": "code",
   "execution_count": null,
   "metadata": {
    "collapsed": true
   },
   "outputs": [],
   "source": [
    "DATABASE_LOCATION = '/home/dlandry/dataset/db_kitti_02/'\n",
    "LOCATION = '04'\n",
    "POINTCLOUD_DATASET_LOCATION = '/home/dlandry/dataset/kitti/dataset/sequences/{}'.format(LOCATION)\n",
    "LEARNING_DATASET_LOCATION = '/home/dlandry/dataset/learning_sets/2018-09-06-kitti-less-3-4-5.json'\n",
    "MODEL_LOCATION = '/home/dlandry/dataset/learning_runs/2018-09-06-kitti-less-04.model'\n",
    "\n",
    "\n",
    "db = RegistrationPairDatabase(DATABASE_LOCATION)\n",
    "dataset = KittiDataset(pathlib.Path(POINTCLOUD_DATASET_LOCATION))\n",
    "\n",
    "with open(LEARNING_DATASET_LOCATION) as f:\n",
    "    learning_dataset = json.load(f)\n",
    "    \n",
    "model = model_from_file(MODEL_LOCATION, 'cello')"
   ]
  },
  {
   "cell_type": "code",
   "execution_count": 25,
   "metadata": {},
   "outputs": [],
   "source": [
    "DATABASE_LOCATION = '/home/dlandry/dataset/db_eth_05/'\n",
    "LOCATION = 'hauptgebaude'\n",
    "POINTCLOUD_DATASET_LOCATION = '/home/dlandry/dataset/ethz/{}'.format(LOCATION)\n",
    "\n",
    "LEARNING_DATASET_LOCATION = '/home/dlandry/dataset/learning_sets/2018-08-17-inside.json'\n",
    "MODEL_LOCATION = '/home/dlandry/dataset/learning_runs/2018-08-21-hauptgebaude.model'\n",
    "\n",
    "\n",
    "db = RegistrationPairDatabase(DATABASE_LOCATION)\n",
    "dataset = EthzDataset(pathlib.Path(POINTCLOUD_DATASET_LOCATION))\n",
    "\n",
    "with open(LEARNING_DATASET_LOCATION) as f:\n",
    "    learning_dataset = json.load(f)\n",
    "    \n",
    "model = model_from_file(MODEL_LOCATION, 'cello')"
   ]
  },
  {
   "cell_type": "code",
   "execution_count": 26,
   "metadata": {},
   "outputs": [],
   "source": [
    "clustering_algo = CenteredClusteringAlgorithm(radius=0.1, k=16, n_seed_init=32)\n",
    "clustering_algo = RegistrationPairClusteringAdapter(clustering_algo)\n",
    "cov_algo = SamplingCovarianceComputationAlgorithm(clustering_algo)\n",
    "\n",
    "pairs = select_sequential_pairs(db, LOCATION)\n",
    "gt_trajectory = build_trajectory_from_dataset(dataset)\n",
    "reference_cum_cov = make_reference_cum_cov(gt_trajectory, pairs, cov_algo)\n"
   ]
  },
  {
   "cell_type": "code",
   "execution_count": 27,
   "metadata": {
    "scrolled": false
   },
   "outputs": [
    {
     "name": "stdout",
     "output_type": "stream",
     "text": [
      "100%|████████████████████████████████████████| 35/35 [00:00<00:00, 13491.47it/s]\n",
      "100%|█████████████████████████████████████████| 35/35 [00:00<00:00, 6427.07it/s]\n",
      "100%|█████████████████████████████████████████| 35/35 [00:00<00:00, 1283.45it/s]\n",
      "100%|█████████████████████████████████████████| 35/35 [00:00<00:00, 1377.57it/s]\n",
      "100%|█████████████████████████████████████████| 35/35 [00:00<00:00, 1340.95it/s]\n",
      "100%|█████████████████████████████████████████| 35/35 [00:00<00:00, 1320.93it/s]\n",
      "100%|█████████████████████████████████████████| 35/35 [00:00<00:00, 1390.50it/s]\n",
      "100%|██████████████████████████████████████████| 35/35 [00:00<00:00, 989.78it/s]\n",
      "100%|█████████████████████████████████████████| 35/35 [00:00<00:00, 1382.37it/s]\n",
      "100%|█████████████████████████████████████████| 35/35 [00:00<00:00, 1412.26it/s]\n",
      "100%|█████████████████████████████████████████| 35/35 [00:00<00:00, 1327.97it/s]\n",
      "100%|█████████████████████████████████████████| 35/35 [00:00<00:00, 1371.11it/s]\n",
      "100%|█████████████████████████████████████████| 35/35 [00:00<00:00, 1475.35it/s]\n",
      "100%|█████████████████████████████████████████| 35/35 [00:00<00:00, 1189.17it/s]\n",
      "100%|█████████████████████████████████████████| 35/35 [00:00<00:00, 1347.18it/s]\n",
      "100%|█████████████████████████████████████████| 35/35 [00:00<00:00, 1118.02it/s]\n",
      "100%|█████████████████████████████████████████| 35/35 [00:00<00:00, 1141.96it/s]\n",
      "100%|█████████████████████████████████████████| 35/35 [00:00<00:00, 1352.63it/s]\n",
      "100%|█████████████████████████████████████████| 35/35 [00:00<00:00, 1318.61it/s]\n",
      "100%|█████████████████████████████████████████| 35/35 [00:00<00:00, 1385.40it/s]\n",
      "100%|█████████████████████████████████████████| 35/35 [00:00<00:00, 1343.23it/s]\n",
      "100%|█████████████████████████████████████████| 35/35 [00:00<00:00, 1233.62it/s]\n",
      "100%|█████████████████████████████████████████| 35/35 [00:00<00:00, 1293.74it/s]\n",
      "100%|█████████████████████████████████████████| 35/35 [00:00<00:00, 1367.47it/s]\n",
      "100%|█████████████████████████████████████████| 35/35 [00:00<00:00, 1317.01it/s]\n",
      "100%|█████████████████████████████████████████| 35/35 [00:00<00:00, 1395.95it/s]\n",
      "100%|█████████████████████████████████████████| 35/35 [00:00<00:00, 1221.00it/s]\n",
      "100%|█████████████████████████████████████████| 35/35 [00:00<00:00, 1381.67it/s]\n",
      "100%|█████████████████████████████████████████| 35/35 [00:00<00:00, 1355.12it/s]\n",
      "100%|█████████████████████████████████████████| 35/35 [00:00<00:00, 1246.96it/s]\n",
      "100%|█████████████████████████████████████████| 35/35 [00:00<00:00, 1322.74it/s]\n",
      "100%|█████████████████████████████████████████| 35/35 [00:00<00:00, 1246.57it/s]\n",
      "100%|█████████████████████████████████████████| 35/35 [00:00<00:00, 1376.57it/s]\n",
      "100%|█████████████████████████████████████████| 35/35 [00:00<00:00, 1435.18it/s]\n",
      "100%|█████████████████████████████████████████| 35/35 [00:00<00:00, 1366.69it/s]\n",
      "100%|█████████████████████████████████████████| 35/35 [00:00<00:00, 1263.09it/s]\n",
      "100%|█████████████████████████████████████████| 35/35 [00:00<00:00, 1262.91it/s]\n",
      "100%|█████████████████████████████████████████| 35/35 [00:00<00:00, 1260.86it/s]\n",
      "100%|█████████████████████████████████████████| 35/35 [00:00<00:00, 1274.30it/s]\n",
      "100%|█████████████████████████████████████████| 35/35 [00:00<00:00, 1302.09it/s]\n",
      "100%|█████████████████████████████████████████| 35/35 [00:00<00:00, 1335.21it/s]\n",
      "100%|█████████████████████████████████████████| 35/35 [00:00<00:00, 1347.41it/s]\n",
      "100%|█████████████████████████████████████████| 35/35 [00:00<00:00, 1382.11it/s]\n",
      "100%|█████████████████████████████████████████| 35/35 [00:00<00:00, 1363.53it/s]\n",
      "100%|█████████████████████████████████████████| 35/35 [00:00<00:00, 1262.45it/s]\n",
      "100%|█████████████████████████████████████████| 35/35 [00:00<00:00, 1279.27it/s]\n",
      "100%|█████████████████████████████████████████| 35/35 [00:00<00:00, 1229.24it/s]\n",
      "100%|█████████████████████████████████████████| 35/35 [00:00<00:00, 1242.54it/s]\n",
      "100%|█████████████████████████████████████████| 35/35 [00:00<00:00, 1402.24it/s]\n",
      "100%|█████████████████████████████████████████| 35/35 [00:00<00:00, 1327.23it/s]\n",
      "100%|█████████████████████████████████████████| 35/35 [00:00<00:00, 1267.92it/s]\n",
      "100%|█████████████████████████████████████████████████████████████| 35/35 [00:00<00:00, 1362.55it/s]\n"
     ]
    }
   ],
   "source": [
    "(gt_trajectory, \n",
    " sampled_trajectory,\n",
    " cum_covariances, \n",
    " censi_cum_cov) = collect_trajectory_data(db, LOCATION, dataset, learning_dataset['metadata']['descriptor_config'], model, n_sampled_trajectories=50, second_order=True)"
   ]
  },
  {
   "cell_type": "code",
   "execution_count": 28,
   "metadata": {},
   "outputs": [
    {
     "name": "stdout",
     "output_type": "stream",
     "text": [
      "Length of dataset hauptgebaude: 24.06\n"
     ]
    }
   ],
   "source": [
    "length = trajectory_linear_length(gt_trajectory)\n",
    "print('Length of dataset {}: {:.4}'.format(LOCATION, length))"
   ]
  },
  {
   "cell_type": "markdown",
   "metadata": {},
   "source": [
    "# Draft figure"
   ]
  },
  {
   "cell_type": "code",
   "execution_count": 31,
   "metadata": {
    "scrolled": false
   },
   "outputs": [
    {
     "data": {
      "image/png": "[encoded data removed]",
      "text/plain": [
       "<Figure size 1200x800 with 1 Axes>"
      ]
     },
     "metadata": {},
     "output_type": "display_data"
    }
   ],
   "source": [
    "fig, ax = plt.subplots()\n",
    "fig.set_dpi(200)\n",
    "\n",
    "gt_handle, = plot_trajectory_translation(gt_trajectory, ax, label='GT trajectory')\n",
    "\n",
    "for t in sampled_trajectory[:-1]:\n",
    "    plot_trajectory_translation(t, ax, linestyle='dotted', color='black')    \n",
    "    \n",
    "#sampled_handle, = plot_trajectory_translation(t, ax, linestyle='dotted', color='black', label='Sampled\\ntrajectories')\n",
    "\n",
    "for i in range(0, len(gt_trajectory)-1, 1):\n",
    "    plot_covariance(gt_trajectory[i], cum_covariances[i], ax, color='0.6', fill=True)\n",
    "    \n",
    "final_cov_handle = plot_covariance(gt_trajectory[-1], reference_cum_cov[-1], ax, color='red', fill=False, label='Final covariance')\n",
    "\n",
    "    \n",
    "cov_legend_handle = matplotlib.patches.Patch(color='0.6', label='Estimated\\nuncertainty')\n",
    "    \n",
    "ax.grid(color='0.8', linewidth=0.5, zorder=-100, linestyle='--')\n",
    "    \n",
    "ax.set_xlabel('$x$ (m)')\n",
    "ax.set_ylabel('$y$ (m)')\n",
    "\n",
    "ax.set_xlim((23,25))\n",
    "#ax.set_ylim((23,25))\n",
    "\n",
    "#plt.legend(handles=[gt_handle, sampled_handle, cov_legend_handle, final_cov_handle])\n",
    "plt.savefig('/home/dlandry/traj_trans.png')\n",
    "plt.show()\n"
   ]
  },
  {
   "cell_type": "markdown",
   "metadata": {},
   "source": [
    "# Clean figure"
   ]
  },
  {
   "cell_type": "code",
   "execution_count": null,
   "metadata": {
    "collapsed": true
   },
   "outputs": [],
   "source": [
    "fig, ax = plt.subplots()\n",
    "fig.set_dpi(200)\n",
    "fig.set_size_inches((3.413,3.413))\n",
    "\n",
    "set_matplotlibrc()\n",
    "\n",
    "\n",
    "\n",
    "gt_handle, = plot_trajectory_translation(gt_trajectory[:500], ax, label='GT trajectory')\n",
    "\n",
    "for t in sampled_trajectory[:-1]:\n",
    "    plot_trajectory_translation(t[0:500], ax, linestyle='dotted', color='black')    \n",
    "    \n",
    "sampled_handle, = plot_trajectory_translation(t[0:500], ax, linestyle='dotted', color='black', label='Sampled\\ntrajectories')\n",
    "\n",
    "for i in range(0, len(gt_trajectory[:500]), 1):\n",
    "    plot_covariance(gt_trajectory[i], cum_covariances[i], ax, color='0.6', fill=True)\n",
    "    \n",
    "cov_legend_handle = matplotlib.patches.Patch(color='0.6', label='Estimated\\nuncertainty')\n",
    "    \n",
    "ax.grid(color='0.8', linewidth=0.5, zorder=-100, linestyle='--')\n",
    "    \n",
    "ax.set_xlabel('$x$ (m)')\n",
    "ax.set_ylabel('$y$ (m)')\n",
    "\n",
    "plt.legend(handles=[gt_handle, sampled_handle, cov_legend_handle], loc='lower left')\n",
    "plt.savefig('/home/dlandry/traj_trans.png')\n",
    "plt.show()"
   ]
  },
  {
   "cell_type": "code",
   "execution_count": null,
   "metadata": {
    "collapsed": true
   },
   "outputs": [],
   "source": [
    "cum_covariances"
   ]
  },
  {
   "cell_type": "code",
   "execution_count": null,
   "metadata": {
    "collapsed": true
   },
   "outputs": [],
   "source": [
    "np.trace(cum_covariances)"
   ]
  },
  {
   "cell_type": "code",
   "execution_count": null,
   "metadata": {
    "collapsed": true
   },
   "outputs": [],
   "source": [
    "det = [np.linalg.det(x) for x in cum_covariances]"
   ]
  },
  {
   "cell_type": "code",
   "execution_count": null,
   "metadata": {
    "collapsed": true
   },
   "outputs": [],
   "source": [
    "\n",
    "det"
   ]
  },
  {
   "cell_type": "code",
   "execution_count": null,
   "metadata": {
    "collapsed": true
   },
   "outputs": [],
   "source": [
    "plt.plot(det)\n",
    "plt.show()"
   ]
  },
  {
   "cell_type": "code",
   "execution_count": null,
   "metadata": {
    "collapsed": true
   },
   "outputs": [],
   "source": []
  }
 ],
 "metadata": {
  "kernelspec": {
   "display_name": "Python 3",
   "language": "python",
   "name": "python3"
  },
  "language_info": {
   "codemirror_mode": {
    "name": "ipython",
    "version": 3
   },
   "file_extension": ".py",
   "mimetype": "text/x-python",
   "name": "python",
   "nbconvert_exporter": "python",
   "pygments_lexer": "ipython3",
   "version": "3.5.2"
  }
 },
 "nbformat": 4,
 "nbformat_minor": 2
}
