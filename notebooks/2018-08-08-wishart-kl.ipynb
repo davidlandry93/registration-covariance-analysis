{
 "cells": [
  {
   "cell_type": "code",
   "execution_count": 269,
   "metadata": {},
   "outputs": [
    {
     "name": "stdout",
     "output_type": "stream",
     "text": [
      "The autoreload extension is already loaded. To reload it, use:\n",
      "  %reload_ext autoreload\n"
     ]
    }
   ],
   "source": [
    "%load_ext autoreload\n",
    "%autoreload 2"
   ]
  },
  {
   "cell_type": "code",
   "execution_count": 280,
   "metadata": {
    "collapsed": true
   },
   "outputs": [],
   "source": [
    "import matplotlib.pyplot as plt\n",
    "import numpy as np\n",
    "import scipy.special\n",
    "from recova.util import wishart_kl_divergence, wishart_likelihood\n",
    "\n",
    "np.set_printoptions(precision=3, linewidth=100)"
   ]
  },
  {
   "cell_type": "code",
   "execution_count": 301,
   "metadata": {
    "collapsed": true
   },
   "outputs": [],
   "source": [
    "n0 = 6\n",
    "base = 0.5 * np.identity(6) / n0\n",
    "\n",
    "n1 = 1000\n",
    "prediction = 0.5 * np.identity(6) / n1"
   ]
  },
  {
   "cell_type": "code",
   "execution_count": 302,
   "metadata": {
    "scrolled": true
   },
   "outputs": [
    {
     "name": "stdout",
     "output_type": "stream",
     "text": [
      "[[0.083 0.    0.    0.    0.    0.   ]\n",
      " [0.    0.083 0.    0.    0.    0.   ]\n",
      " [0.    0.    0.083 0.    0.    0.   ]\n",
      " [0.    0.    0.    0.083 0.    0.   ]\n",
      " [0.    0.    0.    0.    0.083 0.   ]\n",
      " [0.    0.    0.    0.    0.    0.083]]\n",
      "[[0.001 0.    0.    0.    0.    0.   ]\n",
      " [0.    0.001 0.    0.    0.    0.   ]\n",
      " [0.    0.    0.001 0.    0.    0.   ]\n",
      " [0.    0.    0.    0.001 0.    0.   ]\n",
      " [0.    0.    0.    0.    0.001 0.   ]\n",
      " [0.    0.    0.    0.    0.    0.001]]\n",
      "Det vdiff: 30.695974858524494\n",
      "Trace vdiff: 993.9999999999999\n",
      "Gammas: 15582.677413763644\n",
      "Trigamma: -196.28223122356854\n"
     ]
    },
    {
     "data": {
      "text/plain": [
       "3020.407753277829"
      ]
     },
     "execution_count": 302,
     "metadata": {},
     "output_type": "execute_result"
    }
   ],
   "source": [
    "wishart_kl_divergence(base, n0, prediction, n1)"
   ]
  },
  {
   "cell_type": "code",
   "execution_count": 285,
   "metadata": {},
   "outputs": [
    {
     "data": {
      "text/plain": [
       "492537.81396259577"
      ]
     },
     "execution_count": 285,
     "metadata": {},
     "output_type": "execute_result"
    }
   ],
   "source": [
    "scipy.special.multigammaln(10000, 6)"
   ]
  },
  {
   "cell_type": "code",
   "execution_count": 264,
   "metadata": {
    "collapsed": true
   },
   "outputs": [],
   "source": [
    "xs = np.linspace(6, 1000, 50)\n",
    "meshgrid_x, meshgrid_y = np.meshgrid(xs, xs)\n",
    "\n",
    "z = np.empty((50, 50))\n",
    "for i in range(50):\n",
    "    for j in range(50):\n",
    "        z[i][j] = third_term(meshgrid_x[i][j], meshgrid_y[i][j])"
   ]
  },
  {
   "cell_type": "code",
   "execution_count": 267,
   "metadata": {},
   "outputs": [
    {
     "data": {
      "image/png": "[encoded data removed]",
      "text/plain": [
       "<matplotlib.figure.Figure at 0x7f7a00575dd8>"
      ]
     },
     "metadata": {},
     "output_type": "display_data"
    }
   ],
   "source": [
    "plt.contourf(meshgrid_x, meshgrid_y, z)\n",
    "plt.colorbar()\n",
    "plt.show()"
   ]
  },
  {
   "cell_type": "code",
   "execution_count": 268,
   "metadata": {
    "collapsed": true
   },
   "outputs": [],
   "source": [
    "def third_term(base, pred):\n",
    "    return scipy.special.multigammaln(pred / 2., 6) - scipy.special.multigammaln(base / 2., 6)"
   ]
  },
  {
   "cell_type": "code",
   "execution_count": 309,
   "metadata": {},
   "outputs": [
    {
     "data": {
      "text/plain": [
       "18.631796198873417"
      ]
     },
     "execution_count": 309,
     "metadata": {},
     "output_type": "execute_result"
    }
   ],
   "source": [
    "third_term(999, 1000)"
   ]
  },
  {
   "cell_type": "code",
   "execution_count": 433,
   "metadata": {
    "collapsed": true
   },
   "outputs": [],
   "source": [
    "a = np.array([[3.0, 4, 5.0],\n",
    "         [4.0, 2.0, 0.0],\n",
    "         [5.0, 0.0, 1.0]])\n",
    "\n",
    "b = np.array([[2.0, 0.0, 0.0],\n",
    "              [0.0, 3.0, 0.0],\n",
    "              [0.0, 0.0, 1.0]])"
   ]
  },
  {
   "cell_type": "code",
   "execution_count": 434,
   "metadata": {
    "collapsed": true
   },
   "outputs": [],
   "source": [
    "va, qa = np.linalg.eig(a)\n",
    "\n",
    "sort_indexes = np.argsort(va)\n",
    "va = va[sort_indexes]\n",
    "qa = qa[:,sort_indexes]"
   ]
  },
  {
   "cell_type": "code",
   "execution_count": 435,
   "metadata": {},
   "outputs": [
    {
     "data": {
      "text/plain": [
       "array([-4.281,  1.618,  8.663])"
      ]
     },
     "execution_count": 435,
     "metadata": {},
     "output_type": "execute_result"
    }
   ],
   "source": [
    "va"
   ]
  },
  {
   "cell_type": "code",
   "execution_count": 436,
   "metadata": {},
   "outputs": [
    {
     "data": {
      "text/plain": [
       "array([[ 0.659,  0.075,  0.748],\n",
       "       [-0.42 , -0.789,  0.449],\n",
       "       [-0.624,  0.61 ,  0.488]])"
      ]
     },
     "execution_count": 436,
     "metadata": {},
     "output_type": "execute_result"
    }
   ],
   "source": [
    "qa"
   ]
  },
  {
   "cell_type": "code",
   "execution_count": 437,
   "metadata": {
    "collapsed": true
   },
   "outputs": [],
   "source": [
    "vb, qb = np.linalg.eig(b)\n",
    "\n",
    "sort_indexes = np.argsort(vb)\n",
    "vb = vb[sort_indexes]\n",
    "qb = qb[:,sort_indexes]"
   ]
  },
  {
   "cell_type": "code",
   "execution_count": 438,
   "metadata": {},
   "outputs": [
    {
     "data": {
      "text/plain": [
       "array([[0., 1., 0.],\n",
       "       [0., 0., 1.],\n",
       "       [1., 0., 0.]])"
      ]
     },
     "execution_count": 438,
     "metadata": {},
     "output_type": "execute_result"
    }
   ],
   "source": [
    "qb"
   ]
  },
  {
   "cell_type": "code",
   "execution_count": 439,
   "metadata": {},
   "outputs": [
    {
     "name": "stdout",
     "output_type": "stream",
     "text": [
      "-0.6240191791510917\n",
      "[ 0.659 -0.42  -0.624]\n",
      "[0. 0. 1.]\n",
      "0.07537739853294521\n",
      "[ 0.075 -0.789  0.61 ]\n",
      "[1. 0. 0.]\n",
      "0.4491764093609724\n",
      "[0.748 0.449 0.488]\n",
      "[0. 1. 0.]\n"
     ]
    }
   ],
   "source": [
    "for i in range(3):\n",
    "    print(np.dot(qa[:,i], qb[:,i]))\n",
    "    print(qa[:,i])\n",
    "    print(qb[:,i])"
   ]
  },
  {
   "cell_type": "code",
   "execution_count": 440,
   "metadata": {},
   "outputs": [
    {
     "data": {
      "text/plain": [
       "array([[2.5, 2. , 2.5],\n",
       "       [2. , 2.5, 0. ],\n",
       "       [2.5, 0. , 1. ]])"
      ]
     },
     "execution_count": 440,
     "metadata": {},
     "output_type": "execute_result"
    }
   ],
   "source": [
    "(a + b) / 2"
   ]
  },
  {
   "cell_type": "code",
   "execution_count": 465,
   "metadata": {
    "collapsed": true
   },
   "outputs": [],
   "source": [
    "diag = np.diag(va + vb / 2)\n",
    "q = qa + qb / 2\n",
    "\n",
    "for i in range(3):\n",
    "    q[:,i] = q[:,i] / np.linalg.norm(q[:,i])"
   ]
  },
  {
   "cell_type": "code",
   "execution_count": 466,
   "metadata": {},
   "outputs": [
    {
     "data": {
      "text/plain": [
       "array([[ 0.833,  0.5  ,  0.574],\n",
       "       [-0.531, -0.685,  0.728],\n",
       "       [-0.157,  0.53 ,  0.375]])"
      ]
     },
     "execution_count": 466,
     "metadata": {},
     "output_type": "execute_result"
    }
   ],
   "source": [
    "q"
   ]
  },
  {
   "cell_type": "code",
   "execution_count": 464,
   "metadata": {},
   "outputs": [
    {
     "data": {
      "text/plain": [
       "0.033193555764041795"
      ]
     },
     "execution_count": 464,
     "metadata": {},
     "output_type": "execute_result"
    }
   ],
   "source": [
    "np.dot(q[:,0], q[:,2])    "
   ]
  },
  {
   "cell_type": "code",
   "execution_count": 443,
   "metadata": {},
   "outputs": [
    {
     "data": {
      "text/plain": [
       "array([[-3.781,  0.   ,  0.   ],\n",
       "       [ 0.   ,  2.618,  0.   ],\n",
       "       [ 0.   ,  0.   , 10.163]])"
      ]
     },
     "execution_count": 443,
     "metadata": {},
     "output_type": "execute_result"
    }
   ],
   "source": [
    "diag"
   ]
  },
  {
   "cell_type": "code",
   "execution_count": 444,
   "metadata": {},
   "outputs": [
    {
     "name": "stdout",
     "output_type": "stream",
     "text": [
      "[[ 0.659  0.075  0.748]\n",
      " [-0.42  -0.789  0.449]\n",
      " [-0.624  0.61   0.488]]\n",
      "[[0. 1. 0.]\n",
      " [0. 0. 1.]\n",
      " [1. 0. 0.]]\n"
     ]
    }
   ],
   "source": [
    "print(qa)\n",
    "print(qb)"
   ]
  },
  {
   "cell_type": "code",
   "execution_count": 447,
   "metadata": {},
   "outputs": [],
   "source": [
    "ans_b = np.dot(q, np.dot(diag, q.T))"
   ]
  },
  {
   "cell_type": "code",
   "execution_count": 448,
   "metadata": {},
   "outputs": [],
   "source": [
    "ans_a = (a + b) / 2"
   ]
  },
  {
   "cell_type": "code",
   "execution_count": 454,
   "metadata": {},
   "outputs": [
    {
     "data": {
      "text/plain": [
       "array([[2.5, 2. , 2.5],\n",
       "       [2. , 2.5, 0. ],\n",
       "       [2.5, 0. , 1. ]])"
      ]
     },
     "execution_count": 454,
     "metadata": {},
     "output_type": "execute_result"
    }
   ],
   "source": [
    "ans_a"
   ]
  },
  {
   "cell_type": "code",
   "execution_count": 455,
   "metadata": {},
   "outputs": [
    {
     "data": {
      "text/plain": [
       "array([[1.379, 5.023, 3.372],\n",
       "       [5.023, 5.553, 1.507],\n",
       "       [3.372, 1.507, 2.068]])"
      ]
     },
     "execution_count": 455,
     "metadata": {},
     "output_type": "execute_result"
    }
   ],
   "source": [
    "ans_b"
   ]
  },
  {
   "cell_type": "code",
   "execution_count": 459,
   "metadata": {},
   "outputs": [
    {
     "data": {
      "text/plain": [
       "5.830951894845301"
      ]
     },
     "execution_count": 459,
     "metadata": {},
     "output_type": "execute_result"
    }
   ],
   "source": [
    "np.linalg.norm(ans_a)"
   ]
  },
  {
   "cell_type": "code",
   "execution_count": 460,
   "metadata": {
    "scrolled": true
   },
   "outputs": [
    {
     "data": {
      "text/plain": [
       "10.712613442529252"
      ]
     },
     "execution_count": 460,
     "metadata": {},
     "output_type": "execute_result"
    }
   ],
   "source": [
    "np.linalg.norm(ans_b)"
   ]
  },
  {
   "cell_type": "code",
   "execution_count": 453,
   "metadata": {
    "scrolled": true
   },
   "outputs": [
    {
     "data": {
      "text/plain": [
       "3.0388649196698427"
      ]
     },
     "execution_count": 453,
     "metadata": {},
     "output_type": "execute_result"
    }
   ],
   "source": [
    "np.sqrt(9.2347)"
   ]
  },
  {
   "cell_type": "code",
   "execution_count": null,
   "metadata": {},
   "outputs": [],
   "source": []
  },
  {
   "cell_type": "code",
   "execution_count": null,
   "metadata": {
    "collapsed": true
   },
   "outputs": [],
   "source": []
  },
  {
   "cell_type": "code",
   "execution_count": null,
   "metadata": {
    "collapsed": true
   },
   "outputs": [],
   "source": []
  },
  {
   "cell_type": "code",
   "execution_count": null,
   "metadata": {
    "collapsed": true
   },
   "outputs": [],
   "source": []
  }
 ],
 "metadata": {
  "kernelspec": {
   "display_name": "Python 3",
   "language": "python",
   "name": "python3"
  },
  "language_info": {
   "codemirror_mode": {
    "name": "ipython",
    "version": 3
   },
   "file_extension": ".py",
   "mimetype": "text/x-python",
   "name": "python",
   "nbconvert_exporter": "python",
   "pygments_lexer": "ipython3",
   "version": "3.5.2"
  }
 },
 "nbformat": 4,
 "nbformat_minor": 2
}
