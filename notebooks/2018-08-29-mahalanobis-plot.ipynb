{
 "cells": [
  {
   "cell_type": "code",
   "execution_count": null,
   "metadata": {},
   "outputs": [],
   "source": [
    "%load_ext autoreload\n",
    "%autoreload 2\n",
    "%matplotlib inline"
   ]
  },
  {
   "cell_type": "code",
   "execution_count": 9,
   "metadata": {
    "collapsed": true
   },
   "outputs": [],
   "source": [
    "import json\n",
    "import pathlib\n",
    "import matplotlib.pyplot as plt\n",
    "import numpy as np\n",
    "\n",
    "from lieroy import se3\n",
    "\n",
    "from recov.datasets import KittiDataset, EthzDataset\n",
    "from recova.learning.learning import model_from_file\n",
    "from recova.registration_result_database import RegistrationPairDatabase\n",
    "\n",
    "from recova.trajectory_evaluation import collect_trajectory_data, make_cumulative_covariances\n",
    "from recova.util import set_matplotlibrc\n",
    "\n",
    "np.set_printoptions(precision=3, linewidth=100)"
   ]
  },
  {
   "cell_type": "code",
   "execution_count": 21,
   "metadata": {},
   "outputs": [],
   "source": [
    "DATABASE_LOCATION = '/home/dlandry/dataset/db_eth_05/'\n",
    "LOCATION = 'wood_summer'\n",
    "#POINTCLOUD_DATASET_LOCATION = '/home/dlandry/dataset/kitti/dataset/sequences/{}'.format(LOCATION)\n",
    "POINTCLOUD_DATASET_LOCATION = '/home/dlandry/dataset/ethz/{}'.format(LOCATION)\n",
    "LEARNING_DATASET_LOCATION = '/home/dlandry/dataset/learning_sets/2018-08-20-wood.json'\n",
    "MODEL_LOCATION = '/home/dlandry/dataset/learning_runs/2018-08-21-gazebo-summer.model'\n",
    "\n",
    "\n",
    "db = RegistrationPairDatabase(DATABASE_LOCATION)\n",
    "dataset = EthzDataset(pathlib.Path(POINTCLOUD_DATASET_LOCATION))\n",
    "\n",
    "with open(LEARNING_DATASET_LOCATION) as f:\n",
    "    learning_dataset = json.load(f)\n",
    "    \n",
    "model = model_from_file(MODEL_LOCATION, 'cello')"
   ]
  },
  {
   "cell_type": "code",
   "execution_count": 22,
   "metadata": {
    "collapsed": true
   },
   "outputs": [],
   "source": [
    "dataset_indices = {}\n",
    "\n",
    "ys = np.array(learning_dataset['data']['ys'])\n",
    "\n",
    "for i, pair in enumerate(learning_dataset['data']['pairs']):\n",
    "    if pair['dataset'] in dataset_indices:\n",
    "        dataset_indices[pair['dataset']].append(i)\n",
    "    else:\n",
    "        dataset_indices[pair['dataset']] = [i]\n",
    "\n",
    "dataset_avgs = {}\n",
    "\n",
    "for x in dataset_indices:\n",
    "    idx = np.array(dataset_indices[x])\n",
    "    dataset_avgs[x] = np.mean(ys[idx], axis=0)"
   ]
  },
  {
   "cell_type": "code",
   "execution_count": 23,
   "metadata": {
    "scrolled": true
   },
   "outputs": [
    {
     "name": "stdout",
     "output_type": "stream",
     "text": [
      "0\n",
      "37\n",
      "100%|██████████████████████████████████████████| 36/36 [00:00<00:00, 352.82it/s]\n",
      "100%|██████████████████████████████████████████| 36/36 [00:00<00:00, 386.72it/s]\n",
      "100%|██████████████████████████████████████████████████████████████| 36/36 [00:00<00:00, 333.21it/s]\n"
     ]
    }
   ],
   "source": [
    "dataset = EthzDataset(pathlib.Path(POINTCLOUD_DATASET_LOCATION))\n",
    "\n",
    "(gt_trajectory, \n",
    " sampled_trajectory,\n",
    " cum_covariances, \n",
    " censi_cum_cov) = collect_trajectory_data(db, LOCATION, dataset, learning_dataset['metadata']['descriptor_config'], model)"
   ]
  },
  {
   "cell_type": "code",
   "execution_count": 24,
   "metadata": {
    "collapsed": true
   },
   "outputs": [],
   "source": [
    "def compute_baseline_maha(gt_trajectory, baseline_cov, sampled_trajectory):\n",
    "    baseline_covariances = np.zeros((len(gt_trajectory), 6, 6))\n",
    "    for i in range(len(gt_trajectory)):\n",
    "        baseline_covariances[i] = baseline_cov\n",
    "    \n",
    "    cum_covs = make_cumulative_covariances(gt_trajectory, baseline_covariances)\n",
    "    return compute_mahalanobis_trajectory(gt_trajectory[1:], cum_covs[1:], sampled_trajectory[1:])"
   ]
  },
  {
   "cell_type": "code",
   "execution_count": 25,
   "metadata": {},
   "outputs": [
    {
     "data": {
      "text/plain": [
       "{'wood_autumn': array([[ 1.933e-03, -5.384e-04, -1.390e-04, -7.478e-06, -1.064e-04,  2.260e-04],\n",
       "        [-5.384e-04,  1.345e-03,  8.073e-06,  4.841e-05,  7.751e-06, -6.710e-04],\n",
       "        [-1.390e-04,  8.073e-06,  1.250e-04, -1.650e-05,  5.989e-05, -1.950e-05],\n",
       "        [-7.478e-06,  4.841e-05, -1.650e-05,  2.316e-05, -7.350e-06,  1.952e-05],\n",
       "        [-1.064e-04,  7.751e-06,  5.989e-05, -7.350e-06,  4.353e-05, -1.227e-05],\n",
       "        [ 2.260e-04, -6.710e-04, -1.950e-05,  1.952e-05, -1.227e-05,  6.601e-04]]),\n",
       " 'wood_summer': array([[ 1.818e-03, -5.140e-04, -1.031e-04, -1.368e-05, -8.802e-05,  1.843e-04],\n",
       "        [-5.140e-04,  1.305e-03,  1.466e-05,  4.662e-05,  1.254e-05, -6.081e-04],\n",
       "        [-1.031e-04,  1.466e-05,  9.262e-05, -1.189e-05,  4.485e-05, -2.498e-05],\n",
       "        [-1.368e-05,  4.662e-05, -1.189e-05,  2.106e-05, -5.387e-06,  1.273e-05],\n",
       "        [-8.802e-05,  1.254e-05,  4.485e-05, -5.387e-06,  3.404e-05, -1.312e-05],\n",
       "        [ 1.843e-04, -6.081e-04, -2.498e-05,  1.273e-05, -1.312e-05,  5.813e-04]])}"
      ]
     },
     "execution_count": 25,
     "metadata": {},
     "output_type": "execute_result"
    }
   ],
   "source": [
    "dataset_avgs"
   ]
  },
  {
   "cell_type": "code",
   "execution_count": 26,
   "metadata": {
    "collapsed": true
   },
   "outputs": [],
   "source": [
    "def compute_mahalanobis_trajectory(gt_trajectory, cum_cov, trajectory):\n",
    "    \"\"\"\n",
    "    Compute the mahalanobis distance of trajectory w/r to the distributions formed by gt_trajectory and cum_cov\n",
    "    \"\"\"\n",
    "    zped = zip(gt_trajectory, cum_cov, trajectory)\n",
    "        \n",
    "    mahalanobis = np.array(list(map(lambda x: mahalanobis_distance(*x), zped))).squeeze()\n",
    "        \n",
    "    return mahalanobis\n",
    "\n",
    "        \n",
    "def mahalanobis_distance(mean, cov, sample):\n",
    "    delta = se3.log(np.linalg.inv(mean) @ sample)\n",
    "    return np.sqrt(delta.reshape((1,-1)) @ (np.linalg.inv(cov) @ delta))\n",
    "\n",
    "def trajectory_data_to_maha_trajectories(gt_trajectory, sampled_trajectory, cum_covariances, censi_cum_cov, baseline_cov):\n",
    "    maha_dists = compute_mahalanobis_trajectory(gt_trajectory[1:], cum_covariances[1:], sampled_trajectory[1:])\n",
    "    censi_maha_dists = compute_mahalanobis_trajectory(gt_trajectory[1:], censi_cum_cov[1:], sampled_trajectory[1:])\n",
    "    baseline_maha_dists = compute_baseline_maha(gt_trajectory, baseline_cov, sampled_trajectory)\n",
    "    \n",
    "    return (maha_dists, censi_maha_dists, baseline_maha_dists)"
   ]
  },
  {
   "cell_type": "code",
   "execution_count": 32,
   "metadata": {},
   "outputs": [],
   "source": [
    "compute_baseline_maha(gt_trajectory, dataset_avgs['wood_autumn'], sampled_trajectory)\n",
    "ours, censi, baseline = trajectory_data_to_maha_trajectories(gt_trajectory, sampled_trajectory, cum_covariances, censi_cum_cov, dataset_avgs['wood_autumn'])"
   ]
  },
  {
   "cell_type": "code",
   "execution_count": 33,
   "metadata": {},
   "outputs": [
    {
     "data": {
      "image/png": "[encoded data removed]",
      "text/plain": [
       "<Figure size 432x288 with 1 Axes>"
      ]
     },
     "metadata": {},
     "output_type": "display_data"
    }
   ],
   "source": [
    "plt.plot(ours, label='ours')\n",
    "plt.plot(censi, label='censi')\n",
    "plt.plot(baseline, label='baseline')\n",
    "plt.yscale('log')\n",
    "plt.legend()\n",
    "plt.show()"
   ]
  },
  {
   "cell_type": "code",
   "execution_count": null,
   "metadata": {},
   "outputs": [],
   "source": [
    "db_kitti = RegistrationPairDatabase('/home/dlandry/dataset/db_kitti_02/')\n",
    "db_ethz = RegistrationPairDatabase('/home/dlandry/dataset/db_eth_05/')\n",
    "\n",
    "datasets = [KittiDataset(pathlib.Path('/home/dlandry/dataset/kitti/dataset/sequences/{}'.format(x))) for x in ['02', '05', '10']]\n",
    "with open(LEARNING_DATASET_LOCATION) as f:\n",
    "    learning_dataset = json.load(f)\n",
    "    descriptor_config = learning_dataset['metadata']['descriptor_config']\n",
    "    \n",
    "model = model_from_file(MODEL_LOCATION, 'cello')\n",
    "model_10 = model_from_file('/home/dlandry/dataset/learning_runs/2018-08-20-kitti-05-10.model', 'cello')\n",
    "\n",
    "collect_data_args = [\n",
    "    (db_kitti, '02', datasets[0], descriptor_config, model, dataset_avgs['05']),\n",
    "    (db_kitti, '05', datasets[1], descriptor_config, model, dataset_avgs['10']),\n",
    "    (db_kitti, '10', datasets[2], descriptor_config, model_10, dataset_avgs['05']),\n",
    "]\n",
    "\n",
    "trajectory_data = [(x[1], *collect_trajectory_data(*x[:-1]), x[-1]) for x in collect_data_args]"
   ]
  },
  {
   "cell_type": "code",
   "execution_count": null,
   "metadata": {
    "collapsed": true
   },
   "outputs": [],
   "source": [
    "\n"
   ]
  },
  {
   "cell_type": "code",
   "execution_count": null,
   "metadata": {
    "collapsed": true
   },
   "outputs": [],
   "source": [
    "def plot_maha_data(location, estimated_maha, censi_maha, baseline_maha, ax):\n",
    "    ax.plot(estimated_maha, label='Our covariance', color='black')\n",
    "    #ax.plot(censi_maha, label='Censi covariance', color='black', linestyle='--')\n",
    "    ax.plot(baseline_maha, label='Baseline')\n",
    "    #ax.set_yscale('log')\n",
    "    ax.set_title(location)\n",
    "    \n",
    "    ax.set_xlabel('Reading ID')"
   ]
  },
  {
   "cell_type": "code",
   "execution_count": null,
   "metadata": {
    "collapsed": true
   },
   "outputs": [],
   "source": [
    "maha_data = [trajectory_data_to_maha_trajectories(*x[1:]) for x in trajectory_data]"
   ]
  },
  {
   "cell_type": "code",
   "execution_count": null,
   "metadata": {},
   "outputs": [],
   "source": [
    "maha_data"
   ]
  },
  {
   "cell_type": "code",
   "execution_count": null,
   "metadata": {},
   "outputs": [],
   "source": [
    "set_matplotlibrc()\n",
    "\n",
    "fig, ax = plt.subplots(1,3, sharey='all')\n",
    "fig.set_size_inches((7.03, 2.00))\n",
    "fig.set_dpi(200)\n",
    "\n",
    "locations = ['Kitti 02', 'Kitti 05', 'Kitti 10']\n",
    "baseline_covs = [dataset_avgs['05'], dataset_avgs['10'], dataset_avgs['05']]\n",
    "\n",
    "for i in range(3):\n",
    "    plot_maha_data(locations[i], *maha_data[i], ax[i])\n",
    "    \n",
    "ax[0].set_ylabel('Mahalanobis distance')\n",
    "\n",
    "plt.legend()\n",
    "plt.tight_layout()\n",
    "plt.savefig('/home/dlandry/maha_dists.pdf')\n",
    "plt.show()"
   ]
  },
  {
   "cell_type": "code",
   "execution_count": null,
   "metadata": {
    "collapsed": true
   },
   "outputs": [],
   "source": [
    "\n",
    "\n",
    "maha_dists = compute_mahalanobis_trajectory(gt_trajectory[1:], cum_covariances[1:], sampled_trajectory[1:])\n",
    "censi_maha_dists = compute_mahalanobis_trajectory(gt_trajectory[1:], censi_cum_cov[1:], sampled_trajectory[1:])"
   ]
  },
  {
   "cell_type": "code",
   "execution_count": null,
   "metadata": {},
   "outputs": [],
   "source": [
    "fig, ax = plt.subplots()\n",
    "ax.plot(maha_dists[:], label='Our covariance')\n",
    "ax.plot(censi_maha_dists[:], label='Censi covariance')\n",
    "\n",
    "ax.set_xlabel('Reading ID')\n",
    "ax.set_ylabel('Mahalanobis distance')\n",
    "plt.legend()\n",
    "plt.show()"
   ]
  },
  {
   "cell_type": "code",
   "execution_count": null,
   "metadata": {},
   "outputs": [],
   "source": [
    "np.argmax(maha_dists)"
   ]
  },
  {
   "cell_type": "code",
   "execution_count": null,
   "metadata": {},
   "outputs": [],
   "source": [
    "np.argmax(censi_maha_dists)"
   ]
  },
  {
   "cell_type": "code",
   "execution_count": null,
   "metadata": {},
   "outputs": [],
   "source": [
    "gt_trajectory[1226:1232]"
   ]
  },
  {
   "cell_type": "code",
   "execution_count": null,
   "metadata": {},
   "outputs": [],
   "source": [
    "sampled_trajectory[1226:1232]"
   ]
  },
  {
   "cell_type": "code",
   "execution_count": null,
   "metadata": {},
   "outputs": [],
   "source": [
    "maha_dists[1226:1232]"
   ]
  },
  {
   "cell_type": "code",
   "execution_count": null,
   "metadata": {
    "collapsed": true
   },
   "outputs": [],
   "source": []
  }
 ],
 "metadata": {
  "kernelspec": {
   "display_name": "Python 3",
   "language": "python",
   "name": "python3"
  },
  "language_info": {
   "codemirror_mode": {
    "name": "ipython",
    "version": 3
   },
   "file_extension": ".py",
   "mimetype": "text/x-python",
   "name": "python",
   "nbconvert_exporter": "python",
   "pygments_lexer": "ipython3",
   "version": "3.5.2"
  }
 },
 "nbformat": 4,
 "nbformat_minor": 2
}
