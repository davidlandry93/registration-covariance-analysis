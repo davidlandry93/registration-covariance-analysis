{
 "cells": [
  {
   "cell_type": "code",
   "execution_count": null,
   "metadata": {},
   "outputs": [],
   "source": [
    "%matplotlib inline"
   ]
  },
  {
   "cell_type": "code",
   "execution_count": null,
   "metadata": {},
   "outputs": [],
   "source": [
    "import matplotlib.pyplot as plt\n",
    "import numpy as np\n",
    "import pandas as pd\n",
    "import seaborn as sns"
   ]
  },
  {
   "cell_type": "code",
   "execution_count": null,
   "metadata": {
    "collapsed": true
   },
   "outputs": [],
   "source": [
    "summary = pd.read_csv('/home/dlandry/dataset/2018-04-23-normal-estimates-summary.csv')\n",
    "summary2 = pd.read_csv('/home/dlandry/dataset/2018-04-24-censi-summary.csv')"
   ]
  },
  {
   "cell_type": "code",
   "execution_count": null,
   "metadata": {},
   "outputs": [],
   "source": [
    "fig, ax = plt.subplots()\n",
    "summary.boxplot(column='trace', by='dataset', ax=ax)\n",
    "summary2.boxplot(column='trace', by='dataset', ax=ax)"
   ]
  },
  {
   "cell_type": "code",
   "execution_count": null,
   "metadata": {
    "scrolled": true
   },
   "outputs": [],
   "source": [
    "fig, ax = plt.subplots()\n",
    "fig.set_size_inches((10,10))\n",
    "\n",
    "groups2 = summary2.groupby(['dataset'])\n",
    "groups2.boxplot(column='trace', ax=ax)\n",
    "plt.show()"
   ]
  },
  {
   "cell_type": "code",
   "execution_count": null,
   "metadata": {},
   "outputs": [],
   "source": [
    "summary2 = pd.read_csv('/home/dlandry/dataset/recov/summary.csv')"
   ]
  },
  {
   "cell_type": "code",
   "execution_count": null,
   "metadata": {},
   "outputs": [],
   "source": [
    "summary2.sort_values(by='cluster_distance')"
   ]
  },
  {
   "cell_type": "code",
   "execution_count": null,
   "metadata": {},
   "outputs": [],
   "source": [
    "summary.boxplot(column='cluster_distance')\n",
    "summary2.boxplot(column='cluster_distance')\n",
    "plt.show()"
   ]
  },
  {
   "cell_type": "markdown",
   "metadata": {},
   "source": [
    "# Comparison of the traces among datasets"
   ]
  },
  {
   "cell_type": "code",
   "execution_count": null,
   "metadata": {},
   "outputs": [],
   "source": [
    "summary1 = pd.read_csv('/home/dlandry/dataset/2018-04-23-normal-estimates-summary.csv')\n",
    "summary1['algorithm'] = 'sampling'\n",
    "#summary2 = pd.read_csv('/home/dlandry/dataset/2018-04-24-censi-summary.csv')\n",
    "#summary2['algorithm'] = 'censi'\n",
    "summary3 = pd.read_csv('/home/dlandry/dataset/2018-04-19-summary.csv')\n",
    "summary3['algorithm'] = 'clustering'\n",
    "\n",
    "big_summary = pd.concat([summary1, summary3])"
   ]
  },
  {
   "cell_type": "code",
   "execution_count": null,
   "metadata": {},
   "outputs": [],
   "source": [
    "big_summary"
   ]
  },
  {
   "cell_type": "code",
   "execution_count": null,
   "metadata": {
    "scrolled": false
   },
   "outputs": [],
   "source": [
    "#fig, ax = plt.subplots()\n",
    "#fig.set_size_inches((8,6))\n",
    "sns.factorplot(x='dataset', y='trace', hue='algorithm', data=big_summary, kind='box')\n",
    "\n",
    "plt.xticks(rotation=270)\n",
    "    \n",
    "plt.gcf().set_size_inches((12,6))"
   ]
  },
  {
   "cell_type": "code",
   "execution_count": null,
   "metadata": {
    "collapsed": true
   },
   "outputs": [],
   "source": []
  }
 ],
 "metadata": {
  "kernelspec": {
   "display_name": "Python 3",
   "language": "python",
   "name": "python3"
  },
  "language_info": {
   "codemirror_mode": {
    "name": "ipython",
    "version": 3
   },
   "file_extension": ".py",
   "mimetype": "text/x-python",
   "name": "python",
   "nbconvert_exporter": "python",
   "pygments_lexer": "ipython3",
   "version": "3.5.2"
  }
 },
 "nbformat": 4,
 "nbformat_minor": 2
}
