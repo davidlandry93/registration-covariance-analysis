{
 "cells": [
  {
   "cell_type": "code",
   "execution_count": null,
   "metadata": {
    "collapsed": true
   },
   "outputs": [],
   "source": [
    "%matplotlib notebook\n",
    "\n",
    "import multiprocessing\n",
    "import numpy as np\n",
    "\n",
    "import sklearn.model_selection\n",
    "\n",
    "from recova.clustering import IdentityClusteringAlgorithm\n",
    "from recova.covariance import CensiCovarianceComputationAlgorithm, SamplingCovarianceComputationAlgorithm\n",
    "from recova.registration_result_database import RegistrationPairDatabase\n",
    "from recova.util import kullback_leibler, bat_distance"
   ]
  },
  {
   "cell_type": "markdown",
   "metadata": {},
   "source": [
    "# Split into training and validation dataset"
   ]
  },
  {
   "cell_type": "code",
   "execution_count": null,
   "metadata": {
    "collapsed": true
   },
   "outputs": [],
   "source": [
    "db = RegistrationPairDatabase('/home/dlandry/dataset/normal-estimates/')\n",
    "pairs = db.registration_pairs()\n",
    "\n",
    "pairs_training, pairs_validation = sklearn.model_selection.train_test_split(pairs, test_size=0.3)"
   ]
  },
  {
   "cell_type": "markdown",
   "metadata": {},
   "source": [
    "# Reference covariances of validation"
   ]
  },
  {
   "cell_type": "code",
   "execution_count": null,
   "metadata": {
    "collapsed": true,
    "scrolled": true
   },
   "outputs": [],
   "source": [
    "clustering_algo = IdentityClusteringAlgorithm()\n",
    "reference_algo = SamplingCovarianceComputationAlgorithm(clustering_algo)\n",
    "\n",
    "with multiprocessing.Pool(7) as pool:\n",
    "    reference_covariances = pool.map(reference_algo.compute, pairs_validation)"
   ]
  },
  {
   "cell_type": "code",
   "execution_count": null,
   "metadata": {
    "collapsed": true
   },
   "outputs": [],
   "source": [
    "reference_covariances = np.array(reference_covariances)"
   ]
  },
  {
   "cell_type": "markdown",
   "metadata": {},
   "source": [
    "# Compute Censi covariances"
   ]
  },
  {
   "cell_type": "code",
   "execution_count": null,
   "metadata": {
    "collapsed": true,
    "scrolled": true
   },
   "outputs": [],
   "source": [
    "censi_algo = CensiCovarianceComputationAlgorithm()\n",
    "\n",
    "with multiprocessing.Pool(7) as pool:\n",
    "    censi_covariances = pool.map(censi_algo.compute, pairs_validation)\n",
    "\n"
   ]
  },
  {
   "cell_type": "code",
   "execution_count": null,
   "metadata": {
    "collapsed": true,
    "scrolled": true
   },
   "outputs": [],
   "source": [
    "losses = [kullback_leibler(censi_covariances[i], reference_covariances[i]) for i in range(len(reference_covariances))]\n",
    "losses2 = [kullback_leibler(reference_covariances[i], censi_covariances[i]) for i in range(len(reference_covariances))]"
   ]
  },
  {
   "cell_type": "code",
   "execution_count": null,
   "metadata": {},
   "outputs": [],
   "source": [
    "losses"
   ]
  },
  {
   "cell_type": "code",
   "execution_count": null,
   "metadata": {},
   "outputs": [],
   "source": [
    "losses2"
   ]
  },
  {
   "cell_type": "code",
   "execution_count": null,
   "metadata": {
    "collapsed": true
   },
   "outputs": [],
   "source": [
    "bat_distances = [bat_distance(reference_covariances[i], censi_covariances[i]) for i in range(len(reference_covariances))]"
   ]
  },
  {
   "cell_type": "code",
   "execution_count": null,
   "metadata": {},
   "outputs": [],
   "source": [
    "bat_distances"
   ]
  },
  {
   "cell_type": "code",
   "execution_count": null,
   "metadata": {
    "collapsed": true
   },
   "outputs": [],
   "source": []
  }
 ],
 "metadata": {
  "kernelspec": {
   "display_name": "Python 3",
   "language": "python",
   "name": "python3"
  },
  "language_info": {
   "codemirror_mode": {
    "name": "ipython",
    "version": 3
   },
   "file_extension": ".py",
   "mimetype": "text/x-python",
   "name": "python",
   "nbconvert_exporter": "python",
   "pygments_lexer": "ipython3",
   "version": "3.5.2"
  }
 },
 "nbformat": 4,
 "nbformat_minor": 2
}
