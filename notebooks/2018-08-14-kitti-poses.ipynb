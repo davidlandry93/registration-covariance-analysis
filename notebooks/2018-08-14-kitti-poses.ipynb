{
 "cells": [
  {
   "cell_type": "code",
   "execution_count": 17,
   "metadata": {},
   "outputs": [
    {
     "name": "stdout",
     "output_type": "stream",
     "text": [
      "The autoreload extension is already loaded. To reload it, use:\n",
      "  %reload_ext autoreload\n"
     ]
    }
   ],
   "source": [
    "%load_ext autoreload\n",
    "%autoreload 2"
   ]
  },
  {
   "cell_type": "code",
   "execution_count": 34,
   "metadata": {
    "collapsed": true
   },
   "outputs": [],
   "source": [
    "import matplotlib.pyplot as plt\n",
    "import numpy as np\n",
    "import recov.datasets\n",
    "import pykitti"
   ]
  },
  {
   "cell_type": "code",
   "execution_count": 27,
   "metadata": {
    "collapsed": true
   },
   "outputs": [],
   "source": [
    "dataset = recov.datasets.create_registration_dataset('kitti', '~/dataset/kitti/dataset/sequences/01/')"
   ]
  },
  {
   "cell_type": "code",
   "execution_count": 28,
   "metadata": {},
   "outputs": [
    {
     "data": {
      "text/plain": [
       "array([[ 0.91602967,  0.40048269, -0.02242933,  8.67680619],\n",
       "       [-0.40077038,  0.91612307, -0.01008152, -1.9331654 ],\n",
       "       [ 0.01651057,  0.01822399,  0.99969756,  0.20841855],\n",
       "       [ 0.        ,  0.        ,  0.        ,  1.        ]])"
      ]
     },
     "execution_count": 28,
     "metadata": {},
     "output_type": "execute_result"
    }
   ],
   "source": [
    "dataset.poses[9]"
   ]
  },
  {
   "cell_type": "code",
   "execution_count": 29,
   "metadata": {},
   "outputs": [
    {
     "data": {
      "text/plain": [
       "array([[ 0.8964166 ,  0.44266156, -0.02208729,  9.56462715],\n",
       "       [-0.44295657,  0.89647889, -0.01072975, -2.35917515],\n",
       "       [ 0.01505114,  0.01940204,  0.9996984 ,  0.23793359],\n",
       "       [ 0.        ,  0.        ,  0.        ,  1.        ]])"
      ]
     },
     "execution_count": 29,
     "metadata": {},
     "output_type": "execute_result"
    }
   ],
   "source": [
    "dataset.poses[10]"
   ]
  },
  {
   "cell_type": "code",
   "execution_count": 30,
   "metadata": {},
   "outputs": [
    {
     "data": {
      "text/plain": [
       "array([[-5.48199496e-01,  8.34928992e-01, -4.86914629e-02,\n",
       "        -5.85626053e+02],\n",
       "       [-8.33491740e-01, -5.50208051e-01, -5.06224160e-02,\n",
       "        -9.68607596e+02],\n",
       "       [-6.90565700e-02,  1.28327634e-02,  9.97530147e-01,\n",
       "        -3.12127970e+01],\n",
       "       [ 0.00000000e+00,  0.00000000e+00,  0.00000000e+00,\n",
       "         1.00000000e+00]])"
      ]
     },
     "execution_count": 30,
     "metadata": {},
     "output_type": "execute_result"
    }
   ],
   "source": [
    "dataset.poses[500]"
   ]
  },
  {
   "cell_type": "code",
   "execution_count": 31,
   "metadata": {},
   "outputs": [
    {
     "data": {
      "text/plain": [
       "array([[-5.48145169e-01,  8.34996754e-01, -4.81374372e-02,\n",
       "        -5.87069272e+02],\n",
       "       [-8.33743195e-01, -5.50078599e-01, -4.78105853e-02,\n",
       "        -9.70769775e+02],\n",
       "       [-6.64010517e-02,  1.39271303e-02,  9.97695768e-01,\n",
       "        -3.13589668e+01],\n",
       "       [ 0.00000000e+00,  0.00000000e+00,  0.00000000e+00,\n",
       "         1.00000000e+00]])"
      ]
     },
     "execution_count": 31,
     "metadata": {},
     "output_type": "execute_result"
    }
   ],
   "source": [
    "dataset.poses[501]"
   ]
  },
  {
   "cell_type": "code",
   "execution_count": 32,
   "metadata": {},
   "outputs": [
    {
     "data": {
      "text/plain": [
       "array([[ 9.99996460e-01,  2.17740237e-04,  2.65902875e-03,\n",
       "        -2.60350183e+00],\n",
       "       [-2.20666875e-04,  9.99999386e-01,  1.08181144e-03,\n",
       "         1.77503166e-02],\n",
       "       [-2.65880664e-03, -1.08239416e-03,  9.99995865e-01,\n",
       "        -2.70148323e-02],\n",
       "       [ 0.00000000e+00,  0.00000000e+00,  0.00000000e+00,\n",
       "         1.00000000e+00]])"
      ]
     },
     "execution_count": 32,
     "metadata": {},
     "output_type": "execute_result"
    }
   ],
   "source": [
    "np.linalg.inv(dataset.poses[501]) @ dataset.poses[500]"
   ]
  },
  {
   "cell_type": "code",
   "execution_count": 33,
   "metadata": {},
   "outputs": [
    {
     "data": {
      "text/plain": [
       "array([[[ 9.99999900e-01, -6.98626470e-11,  4.81278784e-10,\n",
       "          2.92062202e-08],\n",
       "        [-6.98627133e-11,  1.00000000e+00,  9.42989827e-12,\n",
       "          2.09143206e-11],\n",
       "        [ 4.81278815e-10,  9.42989773e-12,  1.00000000e+00,\n",
       "         -1.40421910e-10],\n",
       "        [ 0.00000000e+00,  0.00000000e+00,  0.00000000e+00,\n",
       "          1.00000000e+00]],\n",
       "\n",
       "       [[ 9.99047515e-01,  4.35785101e-02, -2.21688556e-03,\n",
       "          1.00154613e+00],\n",
       "        [-4.35815577e-02,  9.99048966e-01, -1.34445394e-03,\n",
       "         -3.86236817e-02],\n",
       "        [ 2.15618814e-03,  1.43978992e-03,  9.99996619e-01,\n",
       "          1.60055667e-02],\n",
       "        [ 0.00000000e+00,  0.00000000e+00,  0.00000000e+00,\n",
       "          1.00000000e+00]],\n",
       "\n",
       "       [[ 9.96035977e-01,  8.86954822e-02, -6.73873687e-03,\n",
       "          1.99782328e+00],\n",
       "        [-8.87284595e-02,  9.96044547e-01, -4.76352351e-03,\n",
       "         -1.20318468e-01],\n",
       "        [ 6.28957854e-03,  5.34256160e-03,  9.99965876e-01,\n",
       "          3.31702812e-02],\n",
       "        [ 0.00000000e+00,  0.00000000e+00,  0.00000000e+00,\n",
       "          1.00000000e+00]],\n",
       "\n",
       "       ...,\n",
       "\n",
       "       [[ 8.51069719e-01,  5.21376318e-01, -6.20243189e-02,\n",
       "         -1.04778896e+03],\n",
       "        [-5.23309284e-01,  8.51923168e-01, -1.93504733e-02,\n",
       "         -1.67919737e+03],\n",
       "        [ 4.27510723e-02,  4.89265147e-02,  9.97887013e-01,\n",
       "         -6.64160654e+01],\n",
       "        [ 0.00000000e+00,  0.00000000e+00,  0.00000000e+00,\n",
       "          1.00000000e+00]],\n",
       "\n",
       "       [[ 8.49978971e-01,  5.23155359e-01, -6.20009948e-02,\n",
       "         -1.04638154e+03],\n",
       "        [-5.25100097e-01,  8.50814576e-01, -1.96102584e-02,\n",
       "         -1.68007500e+03],\n",
       "        [ 4.24921379e-02,  4.92250493e-02,  9.97883353e-01,\n",
       "         -6.63295739e+01],\n",
       "        [ 0.00000000e+00,  0.00000000e+00,  0.00000000e+00,\n",
       "          1.00000000e+00]],\n",
       "\n",
       "       [[ 8.49094182e-01,  5.24824412e-01, -5.99867106e-02,\n",
       "         -1.04493204e+03],\n",
       "        [-5.26783207e-01,  8.49704948e-01, -2.23840130e-02,\n",
       "         -1.68098279e+03],\n",
       "        [ 3.92233415e-02,  5.06061369e-02,  9.97948170e-01,\n",
       "         -6.62416232e+01],\n",
       "        [ 0.00000000e+00,  0.00000000e+00,  0.00000000e+00,\n",
       "          1.00000000e+00]]])"
      ]
     },
     "execution_count": 33,
     "metadata": {},
     "output_type": "execute_result"
    }
   ],
   "source": [
    "dataset.poses"
   ]
  },
  {
   "cell_type": "code",
   "execution_count": null,
   "metadata": {
    "collapsed": true
   },
   "outputs": [],
   "source": []
  },
  {
   "cell_type": "code",
   "execution_count": 35,
   "metadata": {},
   "outputs": [
    {
     "data": {
      "text/plain": [
       "[<matplotlib.lines.Line2D at 0x7f88e5847588>]"
      ]
     },
     "execution_count": 35,
     "metadata": {},
     "output_type": "execute_result"
    }
   ],
   "source": [
    "plt.plot(dataset.poses[:,0,3], dataset.poses[:,1,3])"
   ]
  },
  {
   "cell_type": "code",
   "execution_count": 36,
   "metadata": {},
   "outputs": [
    {
     "data": {
      "image/png": "[encoded data removed]",
      "text/plain": [
       "<matplotlib.figure.Figure at 0x7f88e5d59b38>"
      ]
     },
     "metadata": {},
     "output_type": "display_data"
    }
   ],
   "source": [
    "plt.show()"
   ]
  },
  {
   "cell_type": "code",
   "execution_count": null,
   "metadata": {
    "collapsed": true
   },
   "outputs": [],
   "source": []
  }
 ],
 "metadata": {
  "kernelspec": {
   "display_name": "Python 3",
   "language": "python",
   "name": "python3"
  },
  "language_info": {
   "codemirror_mode": {
    "name": "ipython",
    "version": 3
   },
   "file_extension": ".py",
   "mimetype": "text/x-python",
   "name": "python",
   "nbconvert_exporter": "python",
   "pygments_lexer": "ipython3",
   "version": "3.5.2"
  }
 },
 "nbformat": 4,
 "nbformat_minor": 2
}
