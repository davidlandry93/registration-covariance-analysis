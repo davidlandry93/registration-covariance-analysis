{
 "cells": [
  {
   "cell_type": "code",
   "execution_count": 1,
   "metadata": {
    "collapsed": true
   },
   "outputs": [],
   "source": [
    "%load_ext autoreload\n",
    "%autoreload 2"
   ]
  },
  {
   "cell_type": "code",
   "execution_count": 18,
   "metadata": {
    "collapsed": true
   },
   "outputs": [],
   "source": [
    "import matplotlib.pyplot as plt\n",
    "import numpy as np\n",
    "\n",
    "import recov.censi\n",
    "import recov.registration_algorithm\n",
    "\n",
    "import recova.clustering\n",
    "import recova.covariance\n",
    "import recova.registration_result_database\n",
    "\n",
    "np.set_printoptions(precision=3, linewidth=100)"
   ]
  },
  {
   "cell_type": "code",
   "execution_count": 3,
   "metadata": {
    "collapsed": true
   },
   "outputs": [],
   "source": [
    "db = recova.registration_result_database.RegistrationPairDatabase('/home/dlandry/dataset/db_eth_05/')\n",
    "\n",
    "clustering = recova.clustering.DensityThresholdClusteringAlgorithm(k=18, threshold=1e5)\n",
    "cov_algo = recova.covariance.SamplingCovarianceComputationAlgorithm(clustering)"
   ]
  },
  {
   "cell_type": "code",
   "execution_count": 51,
   "metadata": {},
   "outputs": [
    {
     "name": "stderr",
     "output_type": "stream",
     "text": [
      "1\n",
      "Returning early\n"
     ]
    }
   ],
   "source": [
    "pair = db.get_registration_pair('plain', 16, 14)\n",
    "ref_cov = cov_algo.compute(pair)"
   ]
  },
  {
   "cell_type": "code",
   "execution_count": 52,
   "metadata": {},
   "outputs": [
    {
     "data": {
      "text/plain": [
       "array([[ 6.524e-07, -2.798e-08, -2.317e-07, -1.227e-09,  9.646e-08,  4.864e-08],\n",
       "       [-2.798e-08,  4.099e-07,  1.909e-08, -1.253e-07, -6.489e-09, -1.404e-07],\n",
       "       [-2.317e-07,  1.909e-08,  7.059e-07, -4.137e-08,  1.502e-07,  5.028e-09],\n",
       "       [-1.227e-09, -1.253e-07, -4.137e-08,  1.716e-07,  9.194e-09, -2.071e-08],\n",
       "       [ 9.646e-08, -6.489e-09,  1.502e-07,  9.194e-09,  1.793e-07,  8.619e-10],\n",
       "       [ 4.864e-08, -1.404e-07,  5.028e-09, -2.071e-08,  8.619e-10,  1.591e-07]])"
      ]
     },
     "execution_count": 52,
     "metadata": {},
     "output_type": "execute_result"
    }
   ],
   "source": [
    "cov"
   ]
  },
  {
   "cell_type": "code",
   "execution_count": 53,
   "metadata": {},
   "outputs": [
    {
     "name": "stderr",
     "output_type": "stream",
     "text": [
      "censi_estimate -reading /tmp/a989b2fb-1195-47dd-b612-29f3dbe97199.qpc -reference /tmp/e5349deb-af42-4222-8dfb-b9081596b64a.qpc -ground_truth '[[0.8380851034017177, 0.5451598205011418, 0.020393518416864438, 1.5120141307946344], [-0.540253336449096, 0.834572878317487, -0.10776773374811784, -0.47105651154902184], [-0.07576967772890773, 0.07930011090821552, 0.9939675418636368, 0.2167791583467187], [0.0, 0.0, 0.0, 1.0]]' -config '{errorMinimizer: PointToPlaneWithCovErrorMinimizer, inspector: NullInspector, logger: NullLogger,\n",
      "  matcher: {KDTreeMatcher: {knn: 3}}, outlierFilters: [{TrimmedDistOutlierFilter: {\n",
      "        ratio: 0.7}}], readingDataPointsFilters: [{SurfaceNormalDataPointsFilter: {\n",
      "        keepDensities: 1, keepEigenValues: 1, knn: 20}}, {RandomSamplingDataPointsFilter: {\n",
      "        prob: 0.75}}, {MaxDensityDataPointsFilter: {maxDensity: 50000}}], referenceDataPointsFilters: [\n",
      "    {SurfaceNormalDataPointsFilter: {keepDensities: 1, keepEigenValues: 1, knn: 20}},\n",
      "    {MaxDensityDataPointsFilter: {maxDensity: 50000}}], transformationCheckers: [\n",
      "    {CounterTransformationChecker: {maxIterationCount: 40}}, DifferentialTransformationChecker]}\n",
      "' -sensor_noise_std 0.0\n",
      "{'covariance': [[0.0, 0.0, 0.0, 0.0, 0.0, 0.0], [0.0, 0.0, 0.0, 0.0, 0.0, 0.0], [0.0, 0.0, 0.0, 0.0, 0.0, 0.0], [0.0, 0.0, 0.0, 0.0, 0.0, 0.0], [0.0, 0.0, 0.0, 0.0, 0.0, 0.0], [0.0, 0.0, 0.0, 0.0, 0.0, 0.0]], 'transform': [[0.835246004490323, 0.549452788611063, 0.0216219265051215, 1.52882057273926], [-0.544344651430747, 0.831764845353654, -0.108883379468926, -0.488085429179807], [-0.0778097975391277, 0.0791738708373282, 0.99381998182704, 0.224440418302072], [0.0, 0.0, 0.0, 1.0]]}\n",
      "censi_estimate -reading /tmp/382065f5-67c2-490b-8161-5f0e10eb92d2.qpc -reference /tmp/da1e7b21-ce5c-4bb6-bf11-3f6dcd051f79.qpc -ground_truth '[[0.8380851034017177, 0.5451598205011418, 0.020393518416864438, 1.5120141307946344], [-0.540253336449096, 0.834572878317487, -0.10776773374811784, -0.47105651154902184], [-0.07576967772890773, 0.07930011090821552, 0.9939675418636368, 0.2167791583467187], [0.0, 0.0, 0.0, 1.0]]' -config '{errorMinimizer: PointToPlaneWithCovErrorMinimizer, inspector: NullInspector, logger: NullLogger,\n",
      "  matcher: {KDTreeMatcher: {knn: 3}}, outlierFilters: [{TrimmedDistOutlierFilter: {\n",
      "        ratio: 0.7}}], readingDataPointsFilters: [{SurfaceNormalDataPointsFilter: {\n",
      "        keepDensities: 1, keepEigenValues: 1, knn: 20}}, {RandomSamplingDataPointsFilter: {\n",
      "        prob: 0.75}}, {MaxDensityDataPointsFilter: {maxDensity: 50000}}], referenceDataPointsFilters: [\n",
      "    {SurfaceNormalDataPointsFilter: {keepDensities: 1, keepEigenValues: 1, knn: 20}},\n",
      "    {MaxDensityDataPointsFilter: {maxDensity: 50000}}], transformationCheckers: [\n",
      "    {CounterTransformationChecker: {maxIterationCount: 40}}, DifferentialTransformationChecker]}\n",
      "' -sensor_noise_std 0.02\n",
      "{'covariance': [[2.78621092683742e-08, 5.24657702478533e-09, 2.82259450061042e-09, 5.0892989276312e-10, -4.88880795920984e-10, -4.30883298571414e-09], [5.24657702478533e-09, 3.22434488189683e-08, 2.34419933154007e-09, 1.43666473330726e-09, -1.7559703812408e-10, -6.33549320286487e-10], [2.82259450061042e-09, 2.34419933154007e-09, 3.26417598794372e-09, 5.93752929483188e-10, 8.8144507287034e-10, -4.49598218487841e-10], [5.0892989276312e-10, 1.43666473330726e-09, 5.93752929483188e-10, 3.30117342397928e-10, 1.60406433433875e-10, -9.86640695938248e-11], [-4.88880795920984e-10, -1.7559703812408e-10, 8.8144507287034e-10, 1.60406433433875e-10, 5.82645415141649e-10, 2.02471850250845e-11], [-4.30883298571414e-09, -6.33549320286487e-10, -4.49598218487841e-10, -9.86640695938248e-11, 2.02471850250845e-11, 1.30287061420891e-09]], 'transform': [[0.835246004490323, 0.549452788611063, 0.0216219265051215, 1.52882057273926], [-0.544344651430747, 0.831764845353654, -0.108883379468926, -0.488085429179807], [-0.0778097975391277, 0.0791738708373282, 0.99381998182704, 0.224440418302072], [0.0, 0.0, 0.0, 1.0]]}\n",
      "censi_estimate -reading /tmp/361f70dc-e90d-473e-9d74-8ae5f3eee47b.qpc -reference /tmp/99559c27-3206-4e9d-b13d-35b7760f2520.qpc -ground_truth '[[0.8380851034017177, 0.5451598205011418, 0.020393518416864438, 1.5120141307946344], [-0.540253336449096, 0.834572878317487, -0.10776773374811784, -0.47105651154902184], [-0.07576967772890773, 0.07930011090821552, 0.9939675418636368, 0.2167791583467187], [0.0, 0.0, 0.0, 1.0]]' -config '{errorMinimizer: PointToPlaneWithCovErrorMinimizer, inspector: NullInspector, logger: NullLogger,\n",
      "  matcher: {KDTreeMatcher: {knn: 3}}, outlierFilters: [{TrimmedDistOutlierFilter: {\n",
      "        ratio: 0.7}}], readingDataPointsFilters: [{SurfaceNormalDataPointsFilter: {\n",
      "        keepDensities: 1, keepEigenValues: 1, knn: 20}}, {RandomSamplingDataPointsFilter: {\n",
      "        prob: 0.75}}, {MaxDensityDataPointsFilter: {maxDensity: 50000}}], referenceDataPointsFilters: [\n",
      "    {SurfaceNormalDataPointsFilter: {keepDensities: 1, keepEigenValues: 1, knn: 20}},\n",
      "    {MaxDensityDataPointsFilter: {maxDensity: 50000}}], transformationCheckers: [\n",
      "    {CounterTransformationChecker: {maxIterationCount: 40}}, DifferentialTransformationChecker]}\n",
      "' -sensor_noise_std 0.04\n",
      "{'covariance': [[1.07949788841019e-07, 2.0853550710791e-08, 9.47874483930951e-09, 1.97219889203135e-09, -2.17407373204502e-09, -1.71944961900616e-08], [2.0853550710791e-08, 1.28914416013756e-07, 9.27222660483982e-09, 5.55732676377542e-09, -8.08507448338423e-10, -2.24481407907407e-09], [9.47874483930951e-09, 9.27222660483982e-09, 1.27892692416654e-08, 2.4009979746983e-09, 3.52693316384522e-09, -1.42943786689534e-09], [1.97219889203135e-09, 5.55732676377542e-09, 2.4009979746983e-09, 1.30978790643728e-09, 6.36592673997196e-10, -3.11851550107507e-10], [-2.17407373204502e-09, -8.08507448338423e-10, 3.52693316384522e-09, 6.36592673997196e-10, 2.30684636430389e-09, 1.51034192733811e-10], [-1.71944961900616e-08, -2.24481407907407e-09, -1.42943786689534e-09, -3.11851550107507e-10, 1.51034192733811e-10, 5.35747642488867e-09]], 'transform': [[0.835246004490323, 0.549452788611063, 0.0216219265051215, 1.52882057273926], [-0.544344651430747, 0.831764845353654, -0.108883379468926, -0.488085429179807], [-0.0778097975391277, 0.0791738708373282, 0.99381998182704, 0.224440418302072], [0.0, 0.0, 0.0, 1.0]]}\n",
      "censi_estimate -reading /tmp/e0e398d2-e6f9-40f9-93d3-b136d7fa1bd1.qpc -reference /tmp/a41580d8-89b2-4593-8987-28b877c45fc5.qpc -ground_truth '[[0.8380851034017177, 0.5451598205011418, 0.020393518416864438, 1.5120141307946344], [-0.540253336449096, 0.834572878317487, -0.10776773374811784, -0.47105651154902184], [-0.07576967772890773, 0.07930011090821552, 0.9939675418636368, 0.2167791583467187], [0.0, 0.0, 0.0, 1.0]]' -config '{errorMinimizer: PointToPlaneWithCovErrorMinimizer, inspector: NullInspector, logger: NullLogger,\n",
      "  matcher: {KDTreeMatcher: {knn: 3}}, outlierFilters: [{TrimmedDistOutlierFilter: {\n",
      "        ratio: 0.7}}], readingDataPointsFilters: [{SurfaceNormalDataPointsFilter: {\n",
      "        keepDensities: 1, keepEigenValues: 1, knn: 20}}, {RandomSamplingDataPointsFilter: {\n",
      "        prob: 0.75}}, {MaxDensityDataPointsFilter: {maxDensity: 50000}}], referenceDataPointsFilters: [\n",
      "    {SurfaceNormalDataPointsFilter: {keepDensities: 1, keepEigenValues: 1, knn: 20}},\n",
      "    {MaxDensityDataPointsFilter: {maxDensity: 50000}}], transformationCheckers: [\n",
      "    {CounterTransformationChecker: {maxIterationCount: 40}}, DifferentialTransformationChecker]}\n",
      "' -sensor_noise_std 0.06\n",
      "{'covariance': [[2.51525977876703e-07, 4.43105538563154e-08, 2.53954040147298e-08, 4.84038371645362e-09, -3.33498506631666e-09, -3.83325990784086e-08], [4.43105538563154e-08, 2.87681372616727e-07, 2.3228425499947e-08, 1.36018207118867e-08, -6.93024527043457e-10, -5.72629127157806e-09], [2.53954040147298e-08, 2.3228425499947e-08, 3.00862617511856e-08, 5.56551245148959e-09, 8.335106304339e-09, -4.22317089821258e-09], [4.84038371645362e-09, 1.36018207118867e-08, 5.56551245148959e-09, 3.00330211499466e-09, 1.50329208356314e-09, -9.6262107622504e-10], [-3.33498506631666e-09, -6.93024527043457e-10, 8.335106304339e-09, 1.50329208356314e-09, 5.36209149106465e-09, -3.28491284655605e-11], [-3.83325990784086e-08, -5.72629127157806e-09, -4.22317089821258e-09, -9.6262107622504e-10, -3.28491284655605e-11, 1.17652406244164e-08]], 'transform': [[0.835246004490323, 0.549452788611063, 0.0216219265051215, 1.52882057273926], [-0.544344651430747, 0.831764845353654, -0.108883379468926, -0.488085429179807], [-0.0778097975391277, 0.0791738708373282, 0.99381998182704, 0.224440418302072], [0.0, 0.0, 0.0, 1.0]]}\n",
      "censi_estimate -reading /tmp/2f1a7676-9b23-4973-8160-1c41701f4d23.qpc -reference /tmp/7520488d-fd58-43f6-9f76-8a1fb0d80226.qpc -ground_truth '[[0.8380851034017177, 0.5451598205011418, 0.020393518416864438, 1.5120141307946344], [-0.540253336449096, 0.834572878317487, -0.10776773374811784, -0.47105651154902184], [-0.07576967772890773, 0.07930011090821552, 0.9939675418636368, 0.2167791583467187], [0.0, 0.0, 0.0, 1.0]]' -config '{errorMinimizer: PointToPlaneWithCovErrorMinimizer, inspector: NullInspector, logger: NullLogger,\n",
      "  matcher: {KDTreeMatcher: {knn: 3}}, outlierFilters: [{TrimmedDistOutlierFilter: {\n",
      "        ratio: 0.7}}], readingDataPointsFilters: [{SurfaceNormalDataPointsFilter: {\n",
      "        keepDensities: 1, keepEigenValues: 1, knn: 20}}, {RandomSamplingDataPointsFilter: {\n",
      "        prob: 0.75}}, {MaxDensityDataPointsFilter: {maxDensity: 50000}}], referenceDataPointsFilters: [\n",
      "    {SurfaceNormalDataPointsFilter: {keepDensities: 1, keepEigenValues: 1, knn: 20}},\n",
      "    {MaxDensityDataPointsFilter: {maxDensity: 50000}}], transformationCheckers: [\n",
      "    {CounterTransformationChecker: {maxIterationCount: 40}}, DifferentialTransformationChecker]}\n",
      "' -sensor_noise_std 0.08\n"
     ]
    },
    {
     "name": "stderr",
     "output_type": "stream",
     "text": [
      "{'covariance': [[4.25346692043168e-07, 7.99776288440026e-08, 4.90495257373737e-08, 1.01353231514732e-08, -5.38193187744196e-09, -6.47178687943509e-08], [7.99776288440026e-08, 4.96347999763475e-07, 3.77819510503039e-08, 2.2792906823682e-08, -1.92256043237625e-09, -1.1381488293832e-08], [4.90495257373737e-08, 3.77819510503039e-08, 5.33644424438714e-08, 9.77604500283499e-09, 1.46398184401449e-08, -7.8234867128723e-09], [1.01353231514732e-08, 2.2792906823682e-08, 9.77604500283499e-09, 5.26242615195773e-09, 2.5752718113818e-09, -1.91483736655966e-09], [-5.38193187744196e-09, -1.92256043237625e-09, 1.46398184401449e-08, 2.5752718113818e-09, 9.37918979006592e-09, -6.78992671747372e-11], [-6.47178687943509e-08, -1.1381488293832e-08, -7.8234867128723e-09, -1.91483736655966e-09, -6.78992671747372e-11, 2.01133233989518e-08]], 'transform': [[0.835246004490323, 0.549452788611063, 0.0216219265051215, 1.52882057273926], [-0.544344651430747, 0.831764845353654, -0.108883379468926, -0.488085429179807], [-0.0778097975391277, 0.0791738708373282, 0.99381998182704, 0.224440418302072], [0.0, 0.0, 0.0, 1.0]]}\n",
      "censi_estimate -reading /tmp/1dc757d4-948b-4bd8-9c01-7c7906a3cc09.qpc -reference /tmp/87e60d61-0458-4800-948d-47fca11729c1.qpc -ground_truth '[[0.8380851034017177, 0.5451598205011418, 0.020393518416864438, 1.5120141307946344], [-0.540253336449096, 0.834572878317487, -0.10776773374811784, -0.47105651154902184], [-0.07576967772890773, 0.07930011090821552, 0.9939675418636368, 0.2167791583467187], [0.0, 0.0, 0.0, 1.0]]' -config '{errorMinimizer: PointToPlaneWithCovErrorMinimizer, inspector: NullInspector, logger: NullLogger,\n",
      "  matcher: {KDTreeMatcher: {knn: 3}}, outlierFilters: [{TrimmedDistOutlierFilter: {\n",
      "        ratio: 0.7}}], readingDataPointsFilters: [{SurfaceNormalDataPointsFilter: {\n",
      "        keepDensities: 1, keepEigenValues: 1, knn: 20}}, {RandomSamplingDataPointsFilter: {\n",
      "        prob: 0.75}}, {MaxDensityDataPointsFilter: {maxDensity: 50000}}], referenceDataPointsFilters: [\n",
      "    {SurfaceNormalDataPointsFilter: {keepDensities: 1, keepEigenValues: 1, knn: 20}},\n",
      "    {MaxDensityDataPointsFilter: {maxDensity: 50000}}], transformationCheckers: [\n",
      "    {CounterTransformationChecker: {maxIterationCount: 40}}, DifferentialTransformationChecker]}\n",
      "' -sensor_noise_std 0.1\n",
      "{'covariance': [[6.81838721998693e-07, 1.38790504418525e-07, 7.01400312707104e-08, 1.31305631386835e-08, -9.34085141748922e-09, -1.06381835866259e-07], [1.38790504418525e-07, 8.035094998436e-07, 6.40583702321075e-08, 3.64090250997244e-08, -3.85041581879537e-09, -1.73196310049514e-08], [7.01400312707104e-08, 6.40583702321075e-08, 8.2030638602418e-08, 1.54068122894088e-08, 2.27769136511735e-08, -1.04389769142634e-08], [1.31305631386835e-08, 3.64090250997244e-08, 1.54068122894088e-08, 8.31569562543165e-09, 4.34374378965114e-09, -2.25558282369721e-09], [-9.34085141748922e-09, -3.85041581879537e-09, 2.27769136511735e-08, 4.34374378965114e-09, 1.45200627924761e-08, 4.60466047452448e-10], [-1.06381835866259e-07, -1.73196310049514e-08, -1.04389769142634e-08, -2.25558282369721e-09, 4.60466047452448e-10, 3.26198833113517e-08]], 'transform': [[0.835246004490323, 0.549452788611063, 0.0216219265051215, 1.52882057273926], [-0.544344651430747, 0.831764845353654, -0.108883379468926, -0.488085429179807], [-0.0778097975391277, 0.0791738708373282, 0.99381998182704, 0.224440418302072], [0.0, 0.0, 0.0, 1.0]]}\n"
     ]
    }
   ],
   "source": [
    "icp_algo = recov.registration_algorithm.IcpAlgorithm()\n",
    "\n",
    "noise_levels = np.linspace(0.0, 0.1, 6)\n",
    "censi_covariances = np.empty((len(noise_levels), 6, 6))\n",
    "for i, level in enumerate(noise_levels):\n",
    "    censi_covariances[i] = recov.censi.censi_estimate_from_points(pair.points_of_reading(), pair.points_of_reference(), pair.transform(), icp_algo, sensor_noise_std=level)"
   ]
  },
  {
   "cell_type": "code",
   "execution_count": 54,
   "metadata": {},
   "outputs": [
    {
     "name": "stdout",
     "output_type": "stream",
     "text": [
      "0.026378300025084574\n"
     ]
    }
   ],
   "source": [
    "print(np.trace(ref_cov))"
   ]
  },
  {
   "cell_type": "code",
   "execution_count": 55,
   "metadata": {},
   "outputs": [
    {
     "data": {
      "image/png": "[encoded data removed]",
      "text/plain": [
       "<matplotlib.figure.Figure at 0x7f87d0575550>"
      ]
     },
     "metadata": {},
     "output_type": "display_data"
    }
   ],
   "source": [
    "plt.plot(noise_levels, [np.trace(x) for x in censi_covariances], color='black', linestyle='dashed', label='Censi')\n",
    "plt.axhline(y=np.trace(ref_cov), color='black', label='Reference covariance')\n",
    "plt.title('Covariance against sensor noise parameter on {}'.format(str(pair)))\n",
    "plt.xlabel('Censi sensor noise parameter (m)')\n",
    "plt.ylabel('Trace of covariance matrix')\n",
    "plt.legend()\n",
    "plt.show()"
   ]
  },
  {
   "cell_type": "code",
   "execution_count": null,
   "metadata": {},
   "outputs": [],
   "source": []
  },
  {
   "cell_type": "code",
   "execution_count": null,
   "metadata": {
    "collapsed": true
   },
   "outputs": [],
   "source": []
  }
 ],
 "metadata": {
  "kernelspec": {
   "display_name": "Python 3",
   "language": "python",
   "name": "python3"
  },
  "language_info": {
   "codemirror_mode": {
    "name": "ipython",
    "version": 3
   },
   "file_extension": ".py",
   "mimetype": "text/x-python",
   "name": "python",
   "nbconvert_exporter": "python",
   "pygments_lexer": "ipython3",
   "version": "3.5.2"
  }
 },
 "nbformat": 4,
 "nbformat_minor": 2
}
